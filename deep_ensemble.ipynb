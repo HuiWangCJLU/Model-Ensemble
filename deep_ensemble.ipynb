{
  "nbformat": 4,
  "nbformat_minor": 0,
  "metadata": {
    "colab": {
      "name": "deep ensemble.ipynb",
      "provenance": [],
      "authorship_tag": "ABX9TyNKve6rXdmJmphf5W0iHWHQ",
      "include_colab_link": true
    },
    "kernelspec": {
      "name": "python3",
      "display_name": "Python 3"
    },
    "language_info": {
      "name": "python"
    }
  },
  "cells": [
    {
      "cell_type": "markdown",
      "metadata": {
        "id": "view-in-github",
        "colab_type": "text"
      },
      "source": [
        "<a href=\"https://colab.research.google.com/github/HuiWangCJLU/Model-Ensemble/blob/main/deep_ensemble.ipynb\" target=\"_parent\"><img src=\"https://colab.research.google.com/assets/colab-badge.svg\" alt=\"Open In Colab\"/></a>"
      ]
    },
    {
      "cell_type": "markdown",
      "metadata": {
        "id": "GnAop2NoD3Pe"
      },
      "source": [
        "导入数据"
      ]
    },
    {
      "cell_type": "code",
      "metadata": {
        "id": "Fmc-ZFXk7HTo"
      },
      "source": [
        "import numpy as np\n",
        "import pandas as pd\n",
        "import seaborn as sns\n",
        "import matplotlib.pyplot as plt\n",
        "import lightgbm as lgb\n",
        "from sklearn.model_selection import train_test_split, GridSearchCV\n",
        "from sklearn.metrics import confusion_matrix,accuracy_score, roc_curve, auc\n",
        "sns.set_style(\"whitegrid\")\n",
        "\n",
        "from sklearn.datasets import load_digits\n",
        "from sklearn.model_selection import train_test_split\n",
        "from sklearn.metrics import accuracy_score\n",
        "from sklearn import metrics as ms\n",
        "import numpy as np \n",
        "import pandas as pd \n",
        "import matplotlib.pyplot as plt\n",
        "from sklearn import tree\n",
        "from sklearn.model_selection import train_test_split\n",
        "from sklearn import metrics\n",
        "from sklearn import tree,linear_model\n",
        "import graphviz \n",
        "import pydotplus\n",
        "from sklearn.naive_bayes import GaussianNB\n",
        "from sklearn.metrics import accuracy_score\n",
        "from sklearn.preprocessing import StandardScaler\n",
        "import matplotlib as mpl\n",
        "\n",
        "import seaborn as sns\n",
        "from sklearn.metrics import confusion_matrix\n",
        "import matplotlib.pyplot as plt\n",
        "\n",
        "sc = StandardScaler()\n",
        "data2 = pd.read_csv('smote(1).csv',index_col=None).dropna()\n",
        "#X_i = data2[['pinc','ins1','ins4','ill','hospexp','illwork']].dropna()\n",
        "#X_i = data2[['ill','chr','pinc','hospexp','dailyoin','illwork','illpinc','ins4','hosp']].dropna()\n",
        "X_i = data2[['pinc','ill','chr','hosp','hospexp','illpinc']].dropna()\n",
        "#X_i = data2[['chr','pinc','hospexp','dailyoin','know','illwork','illpinc','ins1','ins4','hosp','bc']].dropna()\n",
        "sc.fit(X_i)\n",
        "X = sc.transform(X_i)\n",
        "#X = X_i.values\n",
        "y = data2['pfi'].values"
      ],
      "execution_count": null,
      "outputs": []
    },
    {
      "cell_type": "code",
      "metadata": {
        "id": "QDOAlu5vTggK"
      },
      "source": [
        "data2 = pd.read_csv('test(2).csv',index_col=None).dropna()\n",
        "X_i = data2[['pinc','ill','chr','hosp','hospexp','illpinc']]\n",
        "#X_i = data2[['ill','chr','pinc','hospexp','dailyoin','illwork','illpinc','ins4','hosp']].dropna()\n",
        "#X_i = data2[['chr','pinc','hospexp','dailyoin','know','illwork','illpinc','ins1','ins4','hosp','bc']].dropna()\n",
        "sc.fit(X_i)\n",
        "X_test = sc.transform(X_i)\n",
        "X_test = X_i.values\n",
        "y_test = data2['pfi'].values"
      ],
      "execution_count": null,
      "outputs": []
    },
    {
      "cell_type": "markdown",
      "metadata": {
        "id": "crpwVtJVl_gB"
      },
      "source": [
        "# stacking deep learning"
      ]
    },
    {
      "cell_type": "markdown",
      "metadata": {
        "id": "BwfelOsQEAPL"
      },
      "source": [
        "数据展示"
      ]
    },
    {
      "cell_type": "code",
      "metadata": {
        "colab": {
          "base_uri": "https://localhost:8080/",
          "height": 279
        },
        "id": "0H1J8TLpmhQW",
        "outputId": "f4323b83-014e-4aeb-a1cd-a9e6e0dd13d4"
      },
      "source": [
        "# scatter plot of blobs dataset\n",
        "from sklearn.datasets import make_blobs\n",
        "from matplotlib import pyplot\n",
        "from pandas import DataFrame\n",
        "# generate 2d classification dataset\n",
        "#X, y = make_blobs(n_samples=1000, centers=2, n_features=2, cluster_std=2, random_state=2)\n",
        "# scatter plot, dots colored by class value\n",
        "\n",
        "df = DataFrame(dict(x=X[:,0], y=X[:,1], label=y))\n",
        "colors = {0:'red', 1:'blue', 2:'green'}\n",
        "fig, ax = pyplot.subplots()\n",
        "grouped = df.groupby('label')\n",
        "for key, group in grouped:\n",
        "    group.plot(ax=ax, kind='scatter', x='x', y='y', label=key, color=colors[key])\n",
        "pyplot.show()"
      ],
      "execution_count": null,
      "outputs": [
        {
          "output_type": "display_data",
          "data": {
            "image/png": "[encoded data removed]",
            "text/plain": [
              "<Figure size 432x288 with 1 Axes>"
            ]
          },
          "metadata": {}
        }
      ]
    },
    {
      "cell_type": "markdown",
      "metadata": {
        "id": "-_q4e8LVEDNy"
      },
      "source": [
        "构建网络一次"
      ]
    },
    {
      "cell_type": "code",
      "metadata": {
        "colab": {
          "base_uri": "https://localhost:8080/",
          "height": 301
        },
        "id": "xgmQj588mtUi",
        "outputId": "624ca10b-79d4-43b0-b1b1-3904ee48748e"
      },
      "source": [
        "# develop an mlp for blobs dataset\n",
        "from sklearn.datasets import make_blobs\n",
        "from tensorflow.keras.utils import to_categorical\n",
        "from keras.models import Sequential\n",
        "from keras.layers import Dense\n",
        "from matplotlib import pyplot\n",
        "import pandas as pd\n",
        "import numpy as np\n",
        "\n",
        "from random import random\n",
        "from keras.models import Sequential\n",
        "from keras.preprocessing.sequence import pad_sequences\n",
        "from keras.layers import Dense, Dropout, LSTM, Embedding\n",
        "# generate 2d classification dataset\n",
        "#X, y = make_blobs(n_samples=1100, centers=2, n_features=6, cluster_std=2, random_state=2)\n",
        "# one hot encode output variable\n",
        "#y = to_categorical(y)\n",
        "# split into train and test\n",
        "#n_train = 100\n",
        "#trainX, testX = X[:n_train, :], X[n_train:, :]\n",
        "#trainy, testy = y[:n_train], y[n_train:]\n",
        "trainX=X\n",
        "trainy=to_categorical(y)\n",
        "testX=X_test\n",
        "testy=to_categorical(y_test)\n",
        "print(trainX.shape, testX.shape)\n",
        "# define model\n",
        "model = Sequential()\n",
        "model.add(Dense(25, input_dim=6, activation='relu'))\n",
        "model.add(Dense(2, activation='softmax'))\n",
        "#model.add(Dense(1,activation='sigmoid'))\n",
        "#model = Sequential()\n",
        "#model.add(LSTM(units=50, activation='relu', return_sequences=True, input_shape=(6, 1)))\n",
        "#model.add(Dropout(0.2))\n",
        "#model.add(LSTM(units=50, activation='relu', return_sequences=False))\n",
        "#model.add(Dropout(0.2))\n",
        "#model.add(Dense(1, activation='sigmoid'))\n",
        "model.compile(loss='categorical_crossentropy', optimizer='adam', metrics=['accuracy'])\n",
        "#model.compile(loss='binary_crossentropy', optimizer='adam', metrics=['accuracy'])\n",
        "# fit model\n",
        "history = model.fit(trainX, trainy, validation_data=(testX, testy), epochs=500, verbose=0)\n",
        "# evaluate the model\n",
        "_, train_acc = model.evaluate(trainX, trainy, verbose=0)\n",
        "_, test_acc = model.evaluate(testX, testy, verbose=0)\n",
        "print('Train: %.3f, Test: %.3f' % (train_acc, test_acc))\n",
        "# learning curves of model accuracy\n",
        "pyplot.plot(history.history['accuracy'], label='train')\n",
        "pyplot.plot(history.history['val_accuracy'], label='test')\n",
        "pyplot.legend()\n",
        "pyplot.show()"
      ],
      "execution_count": null,
      "outputs": [
        {
          "output_type": "stream",
          "name": "stdout",
          "text": [
            "(688, 6) (459, 6)\n",
            "Train: 0.965, Test: 0.959\n"
          ]
        },
        {
          "output_type": "display_data",
          "data": {
            "image/png": "[encoded data removed]",
            "text/plain": [
              "<Figure size 432x288 with 1 Axes>"
            ]
          },
          "metadata": {
            "needs_background": "light"
          }
        }
      ]
    },
    {
      "cell_type": "markdown",
      "metadata": {
        "id": "VR1bqCpzEImA"
      },
      "source": [
        "保存模型"
      ]
    },
    {
      "cell_type": "code",
      "metadata": {
        "colab": {
          "base_uri": "https://localhost:8080/"
        },
        "id": "I2gjuRrdmB3R",
        "outputId": "e70fd6e6-400a-49a6-ec86-15a747e1eb67"
      },
      "source": [
        "# example of saving sub-models for later use in a stacking ensemble\n",
        "from sklearn.datasets import make_blobs\n",
        "from tensorflow.keras.utils import to_categorical\n",
        "from keras.models import Sequential\n",
        "from keras.layers import Dense\n",
        "from matplotlib import pyplot\n",
        "from os import makedirs\n",
        "\n",
        "# fit model on dataset\n",
        "def fit_model(trainX, trainy):\n",
        "\t# define model\n",
        "\tmodel = Sequential()\n",
        "\tmodel.add(Dense(25, input_dim=6, activation='relu'))\n",
        "\tmodel.add(Dense(2, activation='softmax'))\n",
        "\tmodel.compile(loss='categorical_crossentropy', optimizer='adam', metrics=['accuracy'])\n",
        "\t#model.add(LSTM(units=50, activation='relu', return_sequences=True, input_shape=(6, 1)))\n",
        "\t#model.add(Dropout(0.2))\n",
        "\t#model.add(LSTM(units=50, activation='relu', return_sequences=False))\n",
        "\t#model.add(Dropout(0.2))\n",
        "\t#model.add(Dense(1, activation='sigmoid'))\n",
        "\t# Compile model\n",
        "\t#model.compile(loss='binary_crossentropy', optimizer='adam', metrics=['accuracy'])\n",
        "\t# fit model\n",
        "\tmodel.fit(trainX, trainy, epochs=500, verbose=0)\n",
        "\treturn model\n",
        "\n",
        "# generate 2d classification dataset\n",
        "#X, y = make_blobs(n_samples=1100, centers=2, n_features=6, cluster_std=2, random_state=2)\n",
        "# one hot encode output variable\n",
        "#y = to_categorical(y)\n",
        "# split into train and test\n",
        "#n_train = 100\n",
        "#trainX, testX = X[:n_train, :], X[n_train:, :]\n",
        "#trainy, testy = y[:n_train], y[n_train:]\n",
        "#print(trainX.shape, testX.shape)\n",
        "# create directory for models\n",
        "n_members = 5\n",
        "trainX=X\n",
        "trainy=to_categorical(y)\n",
        "testX=X_test\n",
        "testy=to_categorical(y_test)\n",
        "makedirs('models')\n",
        "# fit and save models\n",
        "n_members = 5\n",
        "for i in range(n_members):\n",
        "\n",
        "\t# fit model\n",
        "\n",
        "\tmodel = fit_model(trainX, trainy)\n",
        "\ty_predict = np.argmax(model.predict(testX), axis=-1)\n",
        "\tprint(confusion_matrix(y_test, y_predict))\n",
        "\t# save model\n",
        "\tfilename = 'models/model_' + str(i + 1) + '.h5'\n",
        "\tmodel.save(filename)\n",
        "\tprint('>Saved %s' % filename)"
      ],
      "execution_count": null,
      "outputs": [
        {
          "output_type": "stream",
          "name": "stdout",
          "text": [
            "[[438   0]\n",
            " [ 20   1]]\n",
            ">Saved models/model_1.h5\n",
            "[[438   0]\n",
            " [ 21   0]]\n",
            ">Saved models/model_2.h5\n",
            "[[438   0]\n",
            " [ 19   2]]\n",
            ">Saved models/model_3.h5\n",
            "[[438   0]\n",
            " [ 20   1]]\n",
            ">Saved models/model_4.h5\n",
            "[[437   1]\n",
            " [ 18   3]]\n",
            ">Saved models/model_5.h5\n"
          ]
        }
      ]
    },
    {
      "cell_type": "markdown",
      "metadata": {
        "id": "YE21oXl1ENBC"
      },
      "source": [
        "（可能要用到）"
      ]
    },
    {
      "cell_type": "code",
      "metadata": {
        "id": "ZxKzfrJd2Z4j"
      },
      "source": [
        "trainX=X\n",
        "trainy=to_categorical(y)\n",
        "testX=X_test\n",
        "testy=to_categorical(y_test)"
      ],
      "execution_count": null,
      "outputs": []
    },
    {
      "cell_type": "markdown",
      "metadata": {
        "id": "NN56f_SeEQ9M"
      },
      "source": [
        "导入模型"
      ]
    },
    {
      "cell_type": "code",
      "metadata": {
        "colab": {
          "base_uri": "https://localhost:8080/"
        },
        "id": "upIO9426oC_2",
        "outputId": "74a59d2a-d331-466b-ef7f-734d388f58a3"
      },
      "source": [
        "# stacked generalization with linear meta model on blobs dataset\n",
        "from sklearn.datasets import make_blobs\n",
        "from sklearn.metrics import accuracy_score\n",
        "from sklearn.linear_model import LogisticRegression\n",
        "from keras.models import load_model\n",
        "from tensorflow.keras.utils import to_categorical\n",
        "from numpy import dstack\n",
        "\n",
        "# load models from file\n",
        "def load_all_models(n_models):\n",
        "\tall_models = list()\n",
        "\tfor i in range(n_models):\n",
        "\t\t# define filename for this ensemble\n",
        "\t\tfilename = 'models/model_' + str(i + 1) + '.h5'\n",
        "\t\t# load model from file\n",
        "\t\tmodel = load_model(filename)\n",
        "\t\t# add to list of members\n",
        "\t\tall_models.append(model)\n",
        "\t\tprint('>loaded %s' % filename)\n",
        "\treturn all_models\n",
        "\n",
        "# create stacked model input dataset as outputs from the ensemble\n",
        "def stacked_dataset(members, inputX):\n",
        "\tstackX = None\n",
        "\tfor model in members:\n",
        "\t\t# make prediction\n",
        "\t\tyhat = model.predict(inputX, verbose=0)\n",
        "\t\t# stack predictions into [rows, members, probabilities]\n",
        "\t\tif stackX is None:\n",
        "\t\t\tstackX = yhat\n",
        "\t\telse:\n",
        "\t\t\tstackX = dstack((stackX, yhat))\n",
        "\t# flatten predictions to [rows, members x probabilities]\n",
        "\tstackX = stackX.reshape((stackX.shape[0], stackX.shape[1]*stackX.shape[2]))\n",
        "\treturn stackX\n",
        "\n",
        "# fit a model based on the outputs from the ensemble members\n",
        "def fit_stacked_model(members, inputX, inputy):\n",
        "\t# create dataset using ensemble\n",
        "\tstackedX = stacked_dataset(members, inputX)\n",
        "\t# fit standalone model\n",
        "\tmodel = LogisticRegression()\n",
        "\tmodel.fit(stackedX, inputy)\n",
        "\treturn model\n",
        "\n",
        "# make a prediction with the stacked model\n",
        "def stacked_prediction(members, model, inputX):\n",
        "\t# create dataset using ensemble\n",
        "\tstackedX = stacked_dataset(members, inputX)\n",
        "\t# make a prediction\n",
        "\tyhat = model.predict(stackedX)\n",
        "\treturn yhat\n",
        "\n",
        "# generate 2d classification dataset\n",
        "#X, y = make_blobs(n_samples=1100, centers=2, n_features=6, cluster_std=2, random_state=2)\n",
        "# split into train and test\n",
        "#n_train = 100\n",
        "#trainX, testX = X[:n_train, :], X[n_train:, :]\n",
        "#trainy, testy = y[:n_train], y[n_train:]\n",
        "#print(trainX.shape, testX.shape)\n",
        "# load all models\n",
        "testy = y_test\n",
        "n_members = 5\n",
        "members = load_all_models(n_members)\n",
        "print('Loaded %d models' % len(members))\n",
        "# evaluate standalone models on test dataset\n",
        "for model in members:\n",
        "\ttesty_enc = to_categorical(testy)\n",
        "\t_, acc = model.evaluate(testX, testy_enc, verbose=0)\n",
        "  #tt=model.predict(testX)\n",
        "\tprint('Model Accuracy: %.3f' % acc)\n",
        "# fit stacked model using the ensemble\n",
        "model = fit_stacked_model(members, testX, testy)\n",
        "# evaluate model on test set\n",
        "yhat = stacked_prediction(members, model, testX)\n",
        "acc = accuracy_score(testy, yhat)\n",
        "print('Stacked Test Accuracy: %.3f' % acc)"
      ],
      "execution_count": null,
      "outputs": [
        {
          "output_type": "stream",
          "name": "stdout",
          "text": [
            ">loaded models/model_1.h5\n",
            ">loaded models/model_2.h5\n",
            ">loaded models/model_3.h5\n",
            ">loaded models/model_4.h5\n",
            ">loaded models/model_5.h5\n",
            "Loaded 5 models\n",
            "Model Accuracy: 0.946\n",
            "Model Accuracy: 0.939\n",
            "Model Accuracy: 0.950\n",
            "Model Accuracy: 0.939\n",
            "Model Accuracy: 0.939\n",
            "Stacked Test Accuracy: 0.952\n"
          ]
        }
      ]
    },
    {
      "cell_type": "code",
      "metadata": {
        "colab": {
          "base_uri": "https://localhost:8080/"
        },
        "id": "5RrEUYESoRYV",
        "outputId": "74647a76-758f-42fd-9565-a6d05db01b40"
      },
      "source": [
        "# stacked generalization with neural net meta model on blobs dataset\n",
        "from sklearn.datasets import make_blobs\n",
        "from sklearn.metrics import accuracy_score\n",
        "from keras.models import load_model\n",
        "from tensorflow.keras.utils import to_categorical\n",
        "from tensorflow.keras.utils import plot_model\n",
        "from keras.models import Model\n",
        "from keras.layers import Input\n",
        "from keras.layers import Dense\n",
        "from keras.layers.merge import concatenate\n",
        "from numpy import argmax\n",
        "\n",
        "# load models from file\n",
        "def load_all_models(n_models):\n",
        "\tall_models = list()\n",
        "\tfor i in range(n_models):\n",
        "\t\t# define filename for this ensemble\n",
        "\t\tfilename = 'models/model_' + str(i + 1) + '.h5'\n",
        "\t\t# load model from file\n",
        "\t\tmodel = load_model(filename)\n",
        "\t\t# add to list of members\n",
        "\t\tall_models.append(model)\n",
        "\t\tprint('>loaded %s' % filename)\n",
        "\treturn all_models\n",
        "\n",
        "# define stacked model from multiple member input models\n",
        "def define_stacked_model(members):\n",
        "\t# update all layers in all models to not be trainable\n",
        "\tfor i in range(len(members)):\n",
        "\t\tmodel = members[i]\n",
        "\t\tfor layer in model.layers:\n",
        "\t\t\t# make not trainable\n",
        "\t\t\tlayer.trainable = False\n",
        "\t\t\t# rename to avoid 'unique layer name' issue\n",
        "\t\t\tlayer._name = 'ensemble_' + str(i+1) + '_' + layer.name\n",
        "\t# define multi-headed input\n",
        "\tensemble_visible = [model.input for model in members]\n",
        "\t# concatenate merge output from each model\n",
        "\tensemble_outputs = [model.output for model in members]\n",
        "\tmerge = concatenate(ensemble_outputs)\n",
        "\thidden = Dense(10, activation='relu')(merge)\n",
        "\toutput = Dense(2, activation='softmax')(hidden)\n",
        "\tmodel = Model(inputs=ensemble_visible, outputs=output)\n",
        "\t# plot graph of ensemble\n",
        "\tplot_model(model, show_shapes=True, to_file='model_graph.png')\n",
        "\t# compile\n",
        "\tmodel.compile(loss='categorical_crossentropy', optimizer='adam', metrics=['accuracy'])\n",
        "\treturn model\n",
        "\n",
        "# fit a stacked model\n",
        "def fit_stacked_model(model, inputX, inputy):\n",
        "\t# prepare input data\n",
        "\tX = [inputX for _ in range(len(model.input))]\n",
        "\t# encode output data\n",
        "\tinputy_enc = to_categorical(inputy)\n",
        "\t# fit model\n",
        "\tmodel.fit(X, inputy_enc, epochs=300, verbose=0)\n",
        "\n",
        "# make a prediction with a stacked model\n",
        "def predict_stacked_model(model, inputX):\n",
        "\t# prepare input data\n",
        "\tX = [inputX for _ in range(len(model.input))]\n",
        "\t# make prediction\n",
        "\treturn model.predict(X, verbose=0)\n",
        "\n",
        "# generate 2d classification dataset\n",
        "#X, y = make_blobs(n_samples=1100, centers=2, n_features=6, cluster_std=2, random_state=2)\n",
        "# split into train and test\n",
        "#n_train = 100\n",
        "#trainX, testX = X[:n_train, :], X[n_train:, :]\n",
        "#trainy, testy = y[:n_train], y[n_train:]\n",
        "trainX=X\n",
        "trainy=y\n",
        "testX=X_test\n",
        "testy=y_test\n",
        "print(trainX.shape, testX.shape)\n",
        "# load all models\n",
        "n_members = 5\n",
        "members = load_all_models(n_members)\n",
        "print('Loaded %d models' % len(members))\n",
        "# define ensemble model\n",
        "stacked_model = define_stacked_model(members)\n",
        "# fit stacked model on test dataset\n",
        "fit_stacked_model(stacked_model, testX, testy)\n",
        "# make predictions and evaluate\n",
        "yhat = predict_stacked_model(stacked_model, testX)\n",
        "yhat = argmax(yhat, axis=1)\n",
        "acc = accuracy_score(testy, yhat)\n",
        "print('Stacked Test Accuracy: %.3f' % acc)"
      ],
      "execution_count": null,
      "outputs": [
        {
          "output_type": "stream",
          "name": "stdout",
          "text": [
            "(688, 6) (459, 6)\n",
            ">loaded models/model_1.h5\n",
            ">loaded models/model_2.h5\n",
            ">loaded models/model_3.h5\n",
            ">loaded models/model_4.h5\n",
            ">loaded models/model_5.h5\n",
            "Loaded 5 models\n",
            "Stacked Test Accuracy: 0.961\n"
          ]
        }
      ]
    },
    {
      "cell_type": "markdown",
      "metadata": {
        "id": "2MDtWJ5XEihh"
      },
      "source": [
        "输出混淆矩阵"
      ]
    },
    {
      "cell_type": "code",
      "metadata": {
        "colab": {
          "base_uri": "https://localhost:8080/"
        },
        "id": "y7pjgTnJxjy_",
        "outputId": "7bc548de-232c-4606-a0de-335daa109eb7"
      },
      "source": [
        "from sklearn.metrics import confusion_matrix\n",
        "confusion_matrix(testy, yhat)"
      ],
      "execution_count": null,
      "outputs": [
        {
          "output_type": "execute_result",
          "data": {
            "text/plain": [
              "array([[438,   0],\n",
              "       [ 18,   3]])"
            ]
          },
          "metadata": {},
          "execution_count": 6
        }
      ]
    }
  ]
}