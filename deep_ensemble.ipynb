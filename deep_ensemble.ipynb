{
  "nbformat": 4,
  "nbformat_minor": 0,
  "metadata": {
    "colab": {
      "name": "deep ensemble.ipynb",
      "provenance": [],
      "authorship_tag": "ABX9TyMf7WvAzeBeh9G8lclNVmjV",
      "include_colab_link": true
    },
    "kernelspec": {
      "name": "python3",
      "display_name": "Python 3"
    },
    "language_info": {
      "name": "python"
    }
  },
  "cells": [
    {
      "cell_type": "markdown",
      "metadata": {
        "id": "view-in-github",
        "colab_type": "text"
      },
      "source": [
        "<a href=\"https://colab.research.google.com/github/HuiWangCJLU/Model-Ensemble/blob/main/deep_ensemble.ipynb\" target=\"_parent\"><img src=\"https://colab.research.google.com/assets/colab-badge.svg\" alt=\"Open In Colab\"/></a>"
      ]
    },
    {
      "cell_type": "code",
      "metadata": {
        "colab": {
          "base_uri": "https://localhost:8080/"
        },
        "id": "vfXkQ3oUlldv",
        "outputId": "c96578f4-5813-4a04-a4e7-ba04f4aec7ad"
      },
      "source": [
        "# save horizontal voting ensemble members during training\n",
        "from sklearn.datasets import make_blobs\n",
        "from tensorflow.keras.utils import to_categorical\n",
        "from keras.models import Sequential\n",
        "from keras.layers import Dense\n",
        "from matplotlib import pyplot\n",
        "from os import makedirs\n",
        "# generate 2d classification dataset\n",
        "X, y = make_blobs(n_samples=1100, centers=3, n_features=2, cluster_std=2, random_state=2)\n",
        "# one hot encode output variable\n",
        "y = to_categorical(y)\n",
        "# split into train and test\n",
        "n_train = 100\n",
        "trainX, testX = X[:n_train, :], X[n_train:, :]\n",
        "trainy, testy = y[:n_train], y[n_train:]\n",
        "print(trainX.shape, testX.shape)\n",
        "# define model\n",
        "model = Sequential()\n",
        "model.add(Dense(25, input_dim=2, activation='relu'))\n",
        "model.add(Dense(3, activation='softmax'))\n",
        "model.compile(loss='categorical_crossentropy', optimizer='adam', metrics=['accuracy'])\n",
        "# create directory for models\n",
        "makedirs('models')\n",
        "# fit model\n",
        "n_epochs, n_save_after = 1000, 950\n",
        "for i in range(n_epochs):\n",
        "\t# fit model for a single epoch\n",
        "\tmodel.fit(trainX, trainy, epochs=1, verbose=0)\n",
        "\t# check if we should save the model\n",
        "\tif i >= n_save_after:\n",
        "\t\tmodel.save('models/model_' + str(i) + '.h5')"
      ],
      "execution_count": 4,
      "outputs": [
        {
          "output_type": "stream",
          "name": "stdout",
          "text": [
            "(100, 2) (1000, 2)\n"
          ]
        }
      ]
    },
    {
      "cell_type": "code",
      "metadata": {
        "colab": {
          "base_uri": "https://localhost:8080/",
          "height": 1000
        },
        "id": "EtWCGVhFkYq7",
        "outputId": "8b4407a1-f19a-415b-9a71-dd7b6246e750"
      },
      "source": [
        "# load models and make predictions using a horizontal voting ensemble\n",
        "from sklearn.datasets import make_blobs\n",
        "from sklearn.metrics import accuracy_score\n",
        "from tensorflow.keras.utils import to_categorical\n",
        "from keras.models import load_model\n",
        "from keras.models import Sequential\n",
        "from keras.layers import Dense\n",
        "from matplotlib import pyplot\n",
        "from numpy import mean\n",
        "from numpy import std\n",
        "import numpy\n",
        "from numpy import array\n",
        "from numpy import argmax\n",
        "\n",
        "# load models from file\n",
        "def load_all_models(n_start, n_end):\n",
        "\tall_models = list()\n",
        "\tfor epoch in range(n_start, n_end):\n",
        "\t\t# define filename for this ensemble\n",
        "\t\tfilename = 'models/model_' + str(epoch) + '.h5'\n",
        "\t\t# load model from file\n",
        "\t\tmodel = load_model(filename)\n",
        "\t\t# add to list of members\n",
        "\t\tall_models.append(model)\n",
        "\t\tprint('>loaded %s' % filename)\n",
        "\treturn all_models\n",
        "\n",
        "# make an ensemble prediction for multi-class classification\n",
        "def ensemble_predictions(members, testX):\n",
        "\t# make predictions\n",
        "\tyhats = [model.predict(testX) for model in members]\n",
        "\tyhats = array(yhats)\n",
        "\t# sum across ensemble members\n",
        "\tsummed = numpy.sum(yhats, axis=0)\n",
        "\t# argmax across classes\n",
        "\tresult = argmax(summed, axis=1)\n",
        "\treturn result\n",
        "\n",
        "# evaluate a specific number of members in an ensemble\n",
        "def evaluate_n_members(members, n_members, testX, testy):\n",
        "\t# select a subset of members\n",
        "\tsubset = members[:n_members]\n",
        "\t# make prediction\n",
        "\tyhat = ensemble_predictions(subset, testX)\n",
        "\t# calculate accuracy\n",
        "\treturn accuracy_score(testy, yhat)\n",
        "\n",
        "# generate 2d classification dataset\n",
        "X, y = make_blobs(n_samples=1100, centers=3, n_features=2, cluster_std=2, random_state=2)\n",
        "# split into train and test\n",
        "n_train = 100\n",
        "trainX, testX = X[:n_train, :], X[n_train:, :]\n",
        "trainy, testy = y[:n_train], y[n_train:]\n",
        "print(trainX.shape, testX.shape)\n",
        "# load models in order\n",
        "members = load_all_models(950, 1000)\n",
        "print('Loaded %d models' % len(members))\n",
        "# reverse loaded models so we build the ensemble with the last models first\n",
        "members = list(reversed(members))\n",
        "# evaluate different numbers of ensembles on hold out set\n",
        "single_scores, ensemble_scores = list(), list()\n",
        "for i in range(1, len(members)+1):\n",
        "\t# evaluate model with i members\n",
        "\tensemble_score = evaluate_n_members(members, i, testX, testy)\n",
        "\t# evaluate the i'th model standalone\n",
        "\ttesty_enc = to_categorical(testy)\n",
        "\t_, single_score = members[i-1].evaluate(testX, testy_enc, verbose=0)\n",
        "\t# summarize this step\n",
        "\tprint('> %d: single=%.3f, ensemble=%.3f' % (i, single_score, ensemble_score))\n",
        "\tensemble_scores.append(ensemble_score)\n",
        "\tsingle_scores.append(single_score)\n",
        "# summarize average accuracy of a single final model\n",
        "print('Accuracy %.3f (%.3f)' % (mean(single_scores), std(single_scores)))\n",
        "# plot score vs number of ensemble members\n",
        "x_axis = [i for i in range(1, len(members)+1)]\n",
        "pyplot.plot(x_axis, single_scores, marker='o', linestyle='None')\n",
        "pyplot.plot(x_axis, ensemble_scores, marker='o')\n",
        "pyplot.show()"
      ],
      "execution_count": 5,
      "outputs": [
        {
          "output_type": "stream",
          "name": "stdout",
          "text": [
            "(100, 2) (1000, 2)\n",
            ">loaded models/model_950.h5\n",
            ">loaded models/model_951.h5\n",
            ">loaded models/model_952.h5\n",
            ">loaded models/model_953.h5\n",
            ">loaded models/model_954.h5\n",
            ">loaded models/model_955.h5\n",
            ">loaded models/model_956.h5\n",
            ">loaded models/model_957.h5\n",
            ">loaded models/model_958.h5\n",
            ">loaded models/model_959.h5\n",
            ">loaded models/model_960.h5\n",
            ">loaded models/model_961.h5\n",
            ">loaded models/model_962.h5\n",
            ">loaded models/model_963.h5\n",
            ">loaded models/model_964.h5\n",
            ">loaded models/model_965.h5\n",
            ">loaded models/model_966.h5\n",
            ">loaded models/model_967.h5\n",
            ">loaded models/model_968.h5\n",
            ">loaded models/model_969.h5\n",
            ">loaded models/model_970.h5\n",
            ">loaded models/model_971.h5\n",
            ">loaded models/model_972.h5\n",
            ">loaded models/model_973.h5\n",
            ">loaded models/model_974.h5\n",
            ">loaded models/model_975.h5\n",
            ">loaded models/model_976.h5\n",
            ">loaded models/model_977.h5\n",
            ">loaded models/model_978.h5\n",
            ">loaded models/model_979.h5\n",
            ">loaded models/model_980.h5\n",
            ">loaded models/model_981.h5\n",
            ">loaded models/model_982.h5\n",
            ">loaded models/model_983.h5\n",
            ">loaded models/model_984.h5\n",
            ">loaded models/model_985.h5\n",
            ">loaded models/model_986.h5\n",
            ">loaded models/model_987.h5\n",
            ">loaded models/model_988.h5\n",
            ">loaded models/model_989.h5\n",
            ">loaded models/model_990.h5\n",
            ">loaded models/model_991.h5\n",
            ">loaded models/model_992.h5\n",
            ">loaded models/model_993.h5\n",
            ">loaded models/model_994.h5\n",
            ">loaded models/model_995.h5\n",
            ">loaded models/model_996.h5\n",
            ">loaded models/model_997.h5\n",
            ">loaded models/model_998.h5\n",
            ">loaded models/model_999.h5\n",
            "Loaded 50 models\n",
            "> 1: single=0.818, ensemble=0.818\n",
            "> 2: single=0.815, ensemble=0.815\n",
            "> 3: single=0.816, ensemble=0.815\n",
            "> 4: single=0.816, ensemble=0.816\n",
            "> 5: single=0.813, ensemble=0.815\n",
            "> 6: single=0.809, ensemble=0.814\n",
            "> 7: single=0.807, ensemble=0.812\n",
            "> 8: single=0.808, ensemble=0.809\n",
            "> 9: single=0.805, ensemble=0.809\n",
            "> 10: single=0.802, ensemble=0.810\n",
            "> 11: single=0.805, ensemble=0.810\n",
            "> 12: single=0.807, ensemble=0.808\n",
            "> 13: single=0.808, ensemble=0.807\n",
            "> 14: single=0.808, ensemble=0.806\n",
            "> 15: single=0.810, ensemble=0.807\n",
            "> 16: single=0.806, ensemble=0.807\n",
            "> 17: single=0.803, ensemble=0.808\n",
            "> 18: single=0.805, ensemble=0.808\n",
            "> 19: single=0.803, ensemble=0.808\n",
            "> 20: single=0.803, ensemble=0.809\n",
            "> 21: single=0.803, ensemble=0.810\n",
            "> 22: single=0.804, ensemble=0.810\n",
            "> 23: single=0.809, ensemble=0.810\n",
            "> 24: single=0.811, ensemble=0.810\n",
            "> 25: single=0.811, ensemble=0.810\n",
            "> 26: single=0.817, ensemble=0.810\n",
            "> 27: single=0.814, ensemble=0.809\n",
            "> 28: single=0.815, ensemble=0.808\n",
            "> 29: single=0.815, ensemble=0.808\n",
            "> 30: single=0.814, ensemble=0.808\n",
            "> 31: single=0.812, ensemble=0.808\n",
            "> 32: single=0.813, ensemble=0.809\n",
            "> 33: single=0.809, ensemble=0.809\n",
            "> 34: single=0.812, ensemble=0.809\n",
            "> 35: single=0.814, ensemble=0.809\n",
            "> 36: single=0.810, ensemble=0.808\n",
            "> 37: single=0.807, ensemble=0.808\n",
            "> 38: single=0.807, ensemble=0.809\n",
            "> 39: single=0.806, ensemble=0.809\n",
            "> 40: single=0.807, ensemble=0.809\n",
            "> 41: single=0.806, ensemble=0.810\n",
            "> 42: single=0.807, ensemble=0.810\n",
            "> 43: single=0.807, ensemble=0.810\n",
            "> 44: single=0.805, ensemble=0.811\n",
            "> 45: single=0.807, ensemble=0.811\n",
            "> 46: single=0.806, ensemble=0.811\n",
            "> 47: single=0.807, ensemble=0.811\n",
            "> 48: single=0.807, ensemble=0.811\n",
            "> 49: single=0.806, ensemble=0.811\n",
            "> 50: single=0.805, ensemble=0.811\n",
            "Accuracy 0.809 (0.004)\n"
          ]
        },
        {
          "output_type": "display_data",
          "data": {
            "image/png": "[encoded data removed]",
            "text/plain": [
              "<Figure size 432x288 with 1 Axes>"
            ]
          },
          "metadata": {
            "needs_background": "light"
          }
        }
      ]
    },
    {
      "cell_type": "markdown",
      "metadata": {
        "id": "crpwVtJVl_gB"
      },
      "source": [
        "# stacking deep learning"
      ]
    },
    {
      "cell_type": "code",
      "metadata": {
        "colab": {
          "base_uri": "https://localhost:8080/",
          "height": 279
        },
        "id": "0H1J8TLpmhQW",
        "outputId": "9f388964-0aba-417f-935b-eddfc9d56d25"
      },
      "source": [
        "# scatter plot of blobs dataset\n",
        "from sklearn.datasets import make_blobs\n",
        "from matplotlib import pyplot\n",
        "from pandas import DataFrame\n",
        "# generate 2d classification dataset\n",
        "X, y = make_blobs(n_samples=1000, centers=2, n_features=2, cluster_std=2, random_state=2)\n",
        "# scatter plot, dots colored by class value\n",
        "df = DataFrame(dict(x=X[:,0], y=X[:,1], label=y))\n",
        "colors = {0:'red', 1:'blue', 2:'green'}\n",
        "fig, ax = pyplot.subplots()\n",
        "grouped = df.groupby('label')\n",
        "for key, group in grouped:\n",
        "    group.plot(ax=ax, kind='scatter', x='x', y='y', label=key, color=colors[key])\n",
        "pyplot.show()"
      ],
      "execution_count": 7,
      "outputs": [
        {
          "output_type": "display_data",
          "data": {
            "image/png": "[encoded data removed]",
            "text/plain": [
              "<Figure size 432x288 with 1 Axes>"
            ]
          },
          "metadata": {
            "needs_background": "light"
          }
        }
      ]
    },
    {
      "cell_type": "code",
      "metadata": {
        "colab": {
          "base_uri": "https://localhost:8080/",
          "height": 301
        },
        "id": "xgmQj588mtUi",
        "outputId": "5773e46d-26f9-449f-be87-b80744d71691"
      },
      "source": [
        "# develop an mlp for blobs dataset\n",
        "from sklearn.datasets import make_blobs\n",
        "from tensorflow.keras.utils import to_categorical\n",
        "from keras.models import Sequential\n",
        "from keras.layers import Dense\n",
        "from matplotlib import pyplot\n",
        "# generate 2d classification dataset\n",
        "X, y = make_blobs(n_samples=1100, centers=2, n_features=6, cluster_std=2, random_state=2)\n",
        "# one hot encode output variable\n",
        "y = to_categorical(y)\n",
        "# split into train and test\n",
        "n_train = 100\n",
        "trainX, testX = X[:n_train, :], X[n_train:, :]\n",
        "trainy, testy = y[:n_train], y[n_train:]\n",
        "print(trainX.shape, testX.shape)\n",
        "# define model\n",
        "model = Sequential()\n",
        "model.add(Dense(25, input_dim=6, activation='relu'))\n",
        "model.add(Dense(2, activation='softmax'))\n",
        "model.compile(loss='categorical_crossentropy', optimizer='adam', metrics=['accuracy'])\n",
        "# fit model\n",
        "history = model.fit(trainX, trainy, validation_data=(testX, testy), epochs=500, verbose=0)\n",
        "# evaluate the model\n",
        "_, train_acc = model.evaluate(trainX, trainy, verbose=0)\n",
        "_, test_acc = model.evaluate(testX, testy, verbose=0)\n",
        "print('Train: %.3f, Test: %.3f' % (train_acc, test_acc))\n",
        "# learning curves of model accuracy\n",
        "pyplot.plot(history.history['accuracy'], label='train')\n",
        "pyplot.plot(history.history['val_accuracy'], label='test')\n",
        "pyplot.legend()\n",
        "pyplot.show()"
      ],
      "execution_count": 11,
      "outputs": [
        {
          "output_type": "stream",
          "name": "stdout",
          "text": [
            "(100, 6) (1000, 6)\n",
            "Train: 1.000, Test: 1.000\n"
          ]
        },
        {
          "output_type": "display_data",
          "data": {
            "image/png": "[encoded data removed]",
            "text/plain": [
              "<Figure size 432x288 with 1 Axes>"
            ]
          },
          "metadata": {
            "needs_background": "light"
          }
        }
      ]
    },
    {
      "cell_type": "code",
      "metadata": {
        "colab": {
          "base_uri": "https://localhost:8080/"
        },
        "id": "I2gjuRrdmB3R",
        "outputId": "7a80b04b-7c5e-4bce-eb61-ad4cb6337a59"
      },
      "source": [
        "# example of saving sub-models for later use in a stacking ensemble\n",
        "from sklearn.datasets import make_blobs\n",
        "from tensorflow.keras.utils import to_categorical\n",
        "from keras.models import Sequential\n",
        "from keras.layers import Dense\n",
        "from matplotlib import pyplot\n",
        "from os import makedirs\n",
        "\n",
        "# fit model on dataset\n",
        "def fit_model(trainX, trainy):\n",
        "\t# define model\n",
        "\tmodel = Sequential()\n",
        "\tmodel.add(Dense(25, input_dim=6, activation='relu'))\n",
        "\tmodel.add(Dense(2, activation='softmax'))\n",
        "\tmodel.compile(loss='categorical_crossentropy', optimizer='adam', metrics=['accuracy'])\n",
        "\t# fit model\n",
        "\tmodel.fit(trainX, trainy, epochs=500, verbose=0)\n",
        "\treturn model\n",
        "\n",
        "# generate 2d classification dataset\n",
        "X, y = make_blobs(n_samples=1100, centers=2, n_features=6, cluster_std=2, random_state=2)\n",
        "# one hot encode output variable\n",
        "y = to_categorical(y)\n",
        "# split into train and test\n",
        "n_train = 100\n",
        "trainX, testX = X[:n_train, :], X[n_train:, :]\n",
        "trainy, testy = y[:n_train], y[n_train:]\n",
        "print(trainX.shape, testX.shape)\n",
        "# create directory for models\n",
        "makedirs('models')\n",
        "# fit and save models\n",
        "n_members = 5\n",
        "for i in range(n_members):\n",
        "\t# fit model\n",
        "\tmodel = fit_model(trainX, trainy)\n",
        "\t# save model\n",
        "\tfilename = 'models/model_' + str(i + 1) + '.h5'\n",
        "\tmodel.save(filename)\n",
        "\tprint('>Saved %s' % filename)"
      ],
      "execution_count": 1,
      "outputs": [
        {
          "output_type": "stream",
          "name": "stdout",
          "text": [
            "(100, 6) (1000, 6)\n",
            ">Saved models/model_1.h5\n",
            ">Saved models/model_2.h5\n",
            ">Saved models/model_3.h5\n",
            ">Saved models/model_4.h5\n",
            ">Saved models/model_5.h5\n"
          ]
        }
      ]
    },
    {
      "cell_type": "code",
      "metadata": {
        "colab": {
          "base_uri": "https://localhost:8080/"
        },
        "id": "upIO9426oC_2",
        "outputId": "845e714b-6dd3-4ae7-a097-1e0d3a5794f6"
      },
      "source": [
        "# stacked generalization with linear meta model on blobs dataset\n",
        "from sklearn.datasets import make_blobs\n",
        "from sklearn.metrics import accuracy_score\n",
        "from sklearn.linear_model import LogisticRegression\n",
        "from keras.models import load_model\n",
        "from tensorflow.keras.utils import to_categorical\n",
        "from numpy import dstack\n",
        "\n",
        "# load models from file\n",
        "def load_all_models(n_models):\n",
        "\tall_models = list()\n",
        "\tfor i in range(n_models):\n",
        "\t\t# define filename for this ensemble\n",
        "\t\tfilename = 'models/model_' + str(i + 1) + '.h5'\n",
        "\t\t# load model from file\n",
        "\t\tmodel = load_model(filename)\n",
        "\t\t# add to list of members\n",
        "\t\tall_models.append(model)\n",
        "\t\tprint('>loaded %s' % filename)\n",
        "\treturn all_models\n",
        "\n",
        "# create stacked model input dataset as outputs from the ensemble\n",
        "def stacked_dataset(members, inputX):\n",
        "\tstackX = None\n",
        "\tfor model in members:\n",
        "\t\t# make prediction\n",
        "\t\tyhat = model.predict(inputX, verbose=0)\n",
        "\t\t# stack predictions into [rows, members, probabilities]\n",
        "\t\tif stackX is None:\n",
        "\t\t\tstackX = yhat\n",
        "\t\telse:\n",
        "\t\t\tstackX = dstack((stackX, yhat))\n",
        "\t# flatten predictions to [rows, members x probabilities]\n",
        "\tstackX = stackX.reshape((stackX.shape[0], stackX.shape[1]*stackX.shape[2]))\n",
        "\treturn stackX\n",
        "\n",
        "# fit a model based on the outputs from the ensemble members\n",
        "def fit_stacked_model(members, inputX, inputy):\n",
        "\t# create dataset using ensemble\n",
        "\tstackedX = stacked_dataset(members, inputX)\n",
        "\t# fit standalone model\n",
        "\tmodel = LogisticRegression()\n",
        "\tmodel.fit(stackedX, inputy)\n",
        "\treturn model\n",
        "\n",
        "# make a prediction with the stacked model\n",
        "def stacked_prediction(members, model, inputX):\n",
        "\t# create dataset using ensemble\n",
        "\tstackedX = stacked_dataset(members, inputX)\n",
        "\t# make a prediction\n",
        "\tyhat = model.predict(stackedX)\n",
        "\treturn yhat\n",
        "\n",
        "# generate 2d classification dataset\n",
        "X, y = make_blobs(n_samples=1100, centers=2, n_features=6, cluster_std=2, random_state=2)\n",
        "# split into train and test\n",
        "n_train = 100\n",
        "trainX, testX = X[:n_train, :], X[n_train:, :]\n",
        "trainy, testy = y[:n_train], y[n_train:]\n",
        "print(trainX.shape, testX.shape)\n",
        "# load all models\n",
        "n_members = 5\n",
        "members = load_all_models(n_members)\n",
        "print('Loaded %d models' % len(members))\n",
        "# evaluate standalone models on test dataset\n",
        "for model in members:\n",
        "\ttesty_enc = to_categorical(testy)\n",
        "\t_, acc = model.evaluate(testX, testy_enc, verbose=0)\n",
        "\tprint('Model Accuracy: %.3f' % acc)\n",
        "# fit stacked model using the ensemble\n",
        "model = fit_stacked_model(members, testX, testy)\n",
        "# evaluate model on test set\n",
        "yhat = stacked_prediction(members, model, testX)\n",
        "acc = accuracy_score(testy, yhat)\n",
        "print('Stacked Test Accuracy: %.3f' % acc)"
      ],
      "execution_count": 3,
      "outputs": [
        {
          "output_type": "stream",
          "name": "stdout",
          "text": [
            "(100, 6) (1000, 6)\n",
            ">loaded models/model_1.h5\n",
            ">loaded models/model_2.h5\n",
            ">loaded models/model_3.h5\n",
            ">loaded models/model_4.h5\n",
            ">loaded models/model_5.h5\n",
            "Loaded 5 models\n",
            "Model Accuracy: 1.000\n",
            "Model Accuracy: 1.000\n",
            "Model Accuracy: 1.000\n",
            "Model Accuracy: 1.000\n",
            "Model Accuracy: 0.999\n",
            "Stacked Test Accuracy: 1.000\n"
          ]
        }
      ]
    },
    {
      "cell_type": "code",
      "metadata": {
        "colab": {
          "base_uri": "https://localhost:8080/"
        },
        "id": "5RrEUYESoRYV",
        "outputId": "e91dd854-9fed-49a6-c9d7-fcf39e417ec6"
      },
      "source": [
        "# stacked generalization with neural net meta model on blobs dataset\n",
        "from sklearn.datasets import make_blobs\n",
        "from sklearn.metrics import accuracy_score\n",
        "from keras.models import load_model\n",
        "from tensorflow.keras.utils import to_categorical\n",
        "from tensorflow.keras.utils import plot_model\n",
        "from keras.models import Model\n",
        "from keras.layers import Input\n",
        "from keras.layers import Dense\n",
        "from keras.layers.merge import concatenate\n",
        "from numpy import argmax\n",
        "\n",
        "# load models from file\n",
        "def load_all_models(n_models):\n",
        "\tall_models = list()\n",
        "\tfor i in range(n_models):\n",
        "\t\t# define filename for this ensemble\n",
        "\t\tfilename = 'models/model_' + str(i + 1) + '.h5'\n",
        "\t\t# load model from file\n",
        "\t\tmodel = load_model(filename)\n",
        "\t\t# add to list of members\n",
        "\t\tall_models.append(model)\n",
        "\t\tprint('>loaded %s' % filename)\n",
        "\treturn all_models\n",
        "\n",
        "# define stacked model from multiple member input models\n",
        "def define_stacked_model(members):\n",
        "\t# update all layers in all models to not be trainable\n",
        "\tfor i in range(len(members)):\n",
        "\t\tmodel = members[i]\n",
        "\t\tfor layer in model.layers:\n",
        "\t\t\t# make not trainable\n",
        "\t\t\tlayer.trainable = False\n",
        "\t\t\t# rename to avoid 'unique layer name' issue\n",
        "\t\t\tlayer._name = 'ensemble_' + str(i+1) + '_' + layer.name\n",
        "\t# define multi-headed input\n",
        "\tensemble_visible = [model.input for model in members]\n",
        "\t# concatenate merge output from each model\n",
        "\tensemble_outputs = [model.output for model in members]\n",
        "\tmerge = concatenate(ensemble_outputs)\n",
        "\thidden = Dense(10, activation='relu')(merge)\n",
        "\toutput = Dense(2, activation='softmax')(hidden)\n",
        "\tmodel = Model(inputs=ensemble_visible, outputs=output)\n",
        "\t# plot graph of ensemble\n",
        "\tplot_model(model, show_shapes=True, to_file='model_graph.png')\n",
        "\t# compile\n",
        "\tmodel.compile(loss='categorical_crossentropy', optimizer='adam', metrics=['accuracy'])\n",
        "\treturn model\n",
        "\n",
        "# fit a stacked model\n",
        "def fit_stacked_model(model, inputX, inputy):\n",
        "\t# prepare input data\n",
        "\tX = [inputX for _ in range(len(model.input))]\n",
        "\t# encode output data\n",
        "\tinputy_enc = to_categorical(inputy)\n",
        "\t# fit model\n",
        "\tmodel.fit(X, inputy_enc, epochs=300, verbose=0)\n",
        "\n",
        "# make a prediction with a stacked model\n",
        "def predict_stacked_model(model, inputX):\n",
        "\t# prepare input data\n",
        "\tX = [inputX for _ in range(len(model.input))]\n",
        "\t# make prediction\n",
        "\treturn model.predict(X, verbose=0)\n",
        "\n",
        "# generate 2d classification dataset\n",
        "X, y = make_blobs(n_samples=1100, centers=2, n_features=6, cluster_std=2, random_state=2)\n",
        "# split into train and test\n",
        "n_train = 100\n",
        "trainX, testX = X[:n_train, :], X[n_train:, :]\n",
        "trainy, testy = y[:n_train], y[n_train:]\n",
        "print(trainX.shape, testX.shape)\n",
        "# load all models\n",
        "n_members = 5\n",
        "members = load_all_models(n_members)\n",
        "print('Loaded %d models' % len(members))\n",
        "# define ensemble model\n",
        "stacked_model = define_stacked_model(members)\n",
        "# fit stacked model on test dataset\n",
        "fit_stacked_model(stacked_model, testX, testy)\n",
        "# make predictions and evaluate\n",
        "yhat = predict_stacked_model(stacked_model, testX)\n",
        "yhat = argmax(yhat, axis=1)\n",
        "acc = accuracy_score(testy, yhat)\n",
        "print('Stacked Test Accuracy: %.3f' % acc)"
      ],
      "execution_count": 8,
      "outputs": [
        {
          "output_type": "stream",
          "name": "stdout",
          "text": [
            "(100, 6) (1000, 6)\n",
            ">loaded models/model_1.h5\n",
            ">loaded models/model_2.h5\n",
            ">loaded models/model_3.h5\n",
            ">loaded models/model_4.h5\n",
            ">loaded models/model_5.h5\n",
            "Loaded 5 models\n",
            "Stacked Test Accuracy: 1.000\n"
          ]
        }
      ]
    }
  ]
}