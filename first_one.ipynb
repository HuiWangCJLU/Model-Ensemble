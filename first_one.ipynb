{
  "nbformat": 4,
  "nbformat_minor": 0,
  "metadata": {
    "colab": {
      "name": "深度融合.ipynb",
      "provenance": [],
      "include_colab_link": true
    },
    "kernelspec": {
      "name": "python3",
      "display_name": "Python 3"
    },
    "language_info": {
      "name": "python"
    }
  },
  "cells": [
    {
      "cell_type": "markdown",
      "metadata": {
        "id": "view-in-github",
        "colab_type": "text"
      },
      "source": [
        "<a href=\"https://colab.research.google.com/github/HuiWangCJLU/Model-Ensemble/blob/main/first_one.ipynb\" target=\"_parent\"><img src=\"https://colab.research.google.com/assets/colab-badge.svg\" alt=\"Open In Colab\"/></a>"
      ]
    },
    {
      "cell_type": "code",
      "metadata": {
        "id": "Fmc-ZFXk7HTo"
      },
      "source": [
        "import numpy as np\n",
        "import pandas as pd\n",
        "import seaborn as sns\n",
        "import matplotlib.pyplot as plt\n",
        "import lightgbm as lgb\n",
        "from sklearn.model_selection import train_test_split, GridSearchCV\n",
        "from sklearn.metrics import confusion_matrix,accuracy_score, roc_curve, auc\n",
        "sns.set_style(\"whitegrid\")\n",
        "\n",
        "from sklearn.datasets import load_digits\n",
        "from sklearn.model_selection import train_test_split\n",
        "from sklearn.metrics import accuracy_score\n",
        "from sklearn import metrics as ms\n",
        "import numpy as np \n",
        "import pandas as pd \n",
        "import matplotlib.pyplot as plt\n",
        "from sklearn import tree\n",
        "from sklearn.model_selection import train_test_split\n",
        "from sklearn import metrics\n",
        "from sklearn import tree,linear_model\n",
        "import graphviz \n",
        "import pydotplus\n",
        "from sklearn.naive_bayes import GaussianNB\n",
        "from sklearn.metrics import accuracy_score\n",
        "from sklearn.preprocessing import StandardScaler\n",
        "import matplotlib as mpl\n",
        "\n",
        "import seaborn as sns\n",
        "from sklearn.metrics import confusion_matrix\n",
        "import matplotlib.pyplot as plt\n",
        "\n",
        "sc = StandardScaler()\n",
        "data2 = pd.read_csv('smote(1).csv',index_col=None).dropna()\n",
        "#X_i = data2[['pinc','ins1','ins4','ill','hospexp','illwork']].dropna()\n",
        "#X_i = data2[['ill','chr','pinc','hospexp','dailyoin','illwork','illpinc','ins4','hosp']].dropna()\n",
        "X_i = data2[['pinc','ill','chr','hosp','hospexp','illpinc']].dropna()\n",
        "#X_i = data2[['chr','pinc','hospexp','dailyoin','know','illwork','illpinc','ins1','ins4','hosp','bc']].dropna()\n",
        "#sc.fit(X_i)\n",
        "#X = sc.transform(X_i)\n",
        "X2 = X_i.values\n",
        "y2 = data2['pfi'].values"
      ],
      "execution_count": null,
      "outputs": []
    },
    {
      "cell_type": "code",
      "metadata": {
        "id": "QDOAlu5vTggK"
      },
      "source": [
        "data2 = pd.read_csv('test(2).csv',index_col=None).dropna()\n",
        "X_i = data2[['pinc','ill','chr','hosp','hospexp','illpinc']]\n",
        "#X_i = data2[['ill','chr','pinc','hospexp','dailyoin','illwork','illpinc','ins4','hosp']].dropna()\n",
        "#X_i = data2[['chr','pinc','hospexp','dailyoin','know','illwork','illpinc','ins1','ins4','hosp','bc']].dropna()\n",
        "#sc.fit(X_i)\n",
        "#X_test = sc.transform(X_i)\n",
        "x_test = X_i.values\n",
        "y_test = data2['pfi'].values"
      ],
      "execution_count": null,
      "outputs": []
    },
    {
      "cell_type": "code",
      "metadata": {
        "id": "StvCPTrOUnjA"
      },
      "source": [
        "from sklearn.model_selection import train_test_split\n",
        "X_train, X_test, y_train, y_test = train_test_split(X, y, test_size=0.4,random_state=1)\n",
        "# Scale the data\n",
        "from sklearn.preprocessing import StandardScaler\n",
        "scaler = StandardScaler().fit(X_train)\n",
        "X_train_scaled = scaler.transform(X_train)\n",
        "X_test_scaled = scaler.transform(X_test)"
      ],
      "execution_count": null,
      "outputs": []
    },
    {
      "cell_type": "code",
      "metadata": {
        "id": "W_QOVM1XBS3_"
      },
      "source": [
        "X_train, X_test, y_train, y_test = train_test_split(X, y, test_size=0.4,random_state=1)"
      ],
      "execution_count": null,
      "outputs": []
    },
    {
      "cell_type": "code",
      "metadata": {
        "colab": {
          "base_uri": "https://localhost:8080/"
        },
        "id": "fjDJVqf20oCZ",
        "outputId": "8848b6d1-ccad-4ad4-98b6-b8780e63ce99"
      },
      "source": [
        "X_train_scaled=np.delete(X_train_scaled,[6,8,11],axis=1)"
      ],
      "execution_count": null,
      "outputs": [
        {
          "output_type": "execute_result",
          "data": {
            "text/plain": [
              "array([[-0.36334706,  0.12951865,  0.44663025, ...,  0.8952167 ,\n",
              "        -0.40643142, -0.47797952],\n",
              "       [-0.36334706, -0.64288348, -0.52353347, ...,  0.8952167 ,\n",
              "        -0.40643142, -0.47797952],\n",
              "       [-0.36334706, -0.64288348, -0.52353347, ...,  0.8952167 ,\n",
              "        -0.40643142, -0.47797952],\n",
              "       ...,\n",
              "       [-0.36334706, -0.64288348,  0.44663025, ..., -2.33149845,\n",
              "        -0.40643142, -0.47797952],\n",
              "       [-0.36334706,  2.44672505, -0.52353347, ..., -0.71814087,\n",
              "        -0.40643142, -0.47797952],\n",
              "       [-0.36334706,  1.67432292, -0.52353347, ..., -0.71814087,\n",
              "        -0.40643142, -0.47797952]])"
            ]
          },
          "metadata": {},
          "execution_count": 78
        }
      ]
    },
    {
      "cell_type": "code",
      "metadata": {
        "id": "bR06DqlL0oJ6"
      },
      "source": [
        "sc = StandardScaler()\n",
        "data2 = pd.read_csv('smote1(1).csv',index_col=None).dropna()\n",
        "#X_i = data2[['pinc','ins1','ins4','ill','hospexp','illwork']].dropna()\n",
        "#X_i = data2[['ill','chr','pinc','hospexp','dailyoin','illwork','illpinc','ins4','hosp']].dropna()\n",
        "X_i = data2[['pinc','ill','chr','hosp','hospexp','illpinc']].dropna()\n",
        "#X_i = data2[['chr','pinc','hospexp','dailyoin','know','illwork','illpinc','ins1','ins4','hosp','bc']].dropna()\n",
        "sc.fit(X_i)\n",
        "#X = sc.transform(X_i)\n",
        "X2 = X_i.values\n",
        "y2 = data2['pfi'].values"
      ],
      "execution_count": null,
      "outputs": []
    },
    {
      "cell_type": "code",
      "metadata": {
        "id": "TnlEp2EfALKz"
      },
      "source": [
        "data2 = pd.read_csv('test1(1).csv',index_col=None).dropna()\n",
        "X_i = data2[['pinc','ill','chr','hosp','hospexp','illpinc']]\n",
        "#X_i = data2[['ill','chr','pinc','hospexp','dailyoin','illwork','illpinc','ins4','hosp']].dropna()\n",
        "#X_i = data2[['chr','pinc','hospexp','dailyoin','know','illwork','illpinc','ins1','ins4','hosp','bc']].dropna()\n",
        "sc.fit(X_i)\n",
        "#X = sc.transform(X_i)\n",
        "x_test = X_i.values\n",
        "y_test = data2['pfi'].values"
      ],
      "execution_count": null,
      "outputs": []
    },
    {
      "cell_type": "code",
      "metadata": {
        "colab": {
          "base_uri": "https://localhost:8080/"
        },
        "id": "C1BkEqv7ALJN",
        "outputId": "ce151dbc-c543-4c24-f9b6-c51d85765a75"
      },
      "source": [
        "len(x_test)"
      ],
      "execution_count": null,
      "outputs": [
        {
          "output_type": "execute_result",
          "data": {
            "text/plain": [
              "459"
            ]
          },
          "metadata": {},
          "execution_count": 104
        }
      ]
    },
    {
      "cell_type": "code",
      "metadata": {
        "colab": {
          "base_uri": "https://localhost:8080/"
        },
        "id": "0O9jH3MHALGk",
        "outputId": "3e2a1ccb-f22f-43ff-d3ee-c93d2a13d118"
      },
      "source": [
        "len(y_test)"
      ],
      "execution_count": null,
      "outputs": [
        {
          "output_type": "execute_result",
          "data": {
            "text/plain": [
              "459"
            ]
          },
          "metadata": {},
          "execution_count": 105
        }
      ]
    },
    {
      "cell_type": "code",
      "metadata": {
        "colab": {
          "base_uri": "https://localhost:8080/"
        },
        "id": "tlMMNdZeALD_",
        "outputId": "ad553139-eccd-4850-db72-de22d07496f2"
      },
      "source": [
        "len(x_test)"
      ],
      "execution_count": null,
      "outputs": [
        {
          "output_type": "execute_result",
          "data": {
            "text/plain": [
              "438"
            ]
          },
          "metadata": {},
          "execution_count": 107
        }
      ]
    },
    {
      "cell_type": "code",
      "metadata": {
        "id": "CpmuAO6RALCy"
      },
      "source": [
        ""
      ],
      "execution_count": null,
      "outputs": []
    },
    {
      "cell_type": "code",
      "metadata": {
        "id": "bEviHypeALAl"
      },
      "source": [
        ""
      ],
      "execution_count": null,
      "outputs": []
    },
    {
      "cell_type": "code",
      "metadata": {
        "id": "pkPfuGD9AK81"
      },
      "source": [
        ""
      ],
      "execution_count": null,
      "outputs": []
    },
    {
      "cell_type": "code",
      "metadata": {
        "id": "jYxIZzNgAK5R"
      },
      "source": [
        ""
      ],
      "execution_count": null,
      "outputs": []
    },
    {
      "cell_type": "code",
      "metadata": {
        "colab": {
          "base_uri": "https://localhost:8080/"
        },
        "id": "6zaEJqeBUnle",
        "outputId": "4de5e353-8529-4b37-ef0d-ddf281a94481"
      },
      "source": [
        "from imblearn.combine import SMOTEENN\n",
        "import numpy as np\n",
        "import pandas as pd\n",
        "from pathlib import Path\n",
        "from collections import Counter\n",
        "\n",
        "smote_enn = SMOTEENN(random_state=0)\n",
        "X2, y2 = smote_enn.fit_resample(X_train_scaled, y_train)\n",
        "Counter(y2)"
      ],
      "execution_count": null,
      "outputs": [
        {
          "output_type": "stream",
          "name": "stderr",
          "text": [
            "/usr/local/lib/python3.7/dist-packages/sklearn/utils/deprecation.py:87: FutureWarning: Function safe_indexing is deprecated; safe_indexing is deprecated in version 0.22 and will be removed in version 0.24.\n",
            "  warnings.warn(msg, category=FutureWarning)\n",
            "/usr/local/lib/python3.7/dist-packages/sklearn/utils/deprecation.py:87: FutureWarning: Function safe_indexing is deprecated; safe_indexing is deprecated in version 0.22 and will be removed in version 0.24.\n",
            "  warnings.warn(msg, category=FutureWarning)\n",
            "/usr/local/lib/python3.7/dist-packages/sklearn/utils/deprecation.py:87: FutureWarning: Function safe_indexing is deprecated; safe_indexing is deprecated in version 0.22 and will be removed in version 0.24.\n",
            "  warnings.warn(msg, category=FutureWarning)\n",
            "/usr/local/lib/python3.7/dist-packages/sklearn/utils/deprecation.py:87: FutureWarning: Function safe_indexing is deprecated; safe_indexing is deprecated in version 0.22 and will be removed in version 0.24.\n",
            "  warnings.warn(msg, category=FutureWarning)\n"
          ]
        },
        {
          "output_type": "execute_result",
          "data": {
            "text/plain": [
              "Counter({0: 557, 1: 591})"
            ]
          },
          "metadata": {},
          "execution_count": 75
        }
      ]
    },
    {
      "cell_type": "code",
      "metadata": {
        "id": "C-fUKucR2_5M"
      },
      "source": [
        "X2=np.delete(X2,[6,8,11],axis=1)"
      ],
      "execution_count": null,
      "outputs": []
    },
    {
      "cell_type": "code",
      "metadata": {
        "colab": {
          "base_uri": "https://localhost:8080/"
        },
        "id": "YgHsDGxyzwY4",
        "outputId": "f799e499-f304-4167-8392-9e585b2fbb77"
      },
      "source": [
        "from imblearn.over_sampling import SMOTE\n",
        "X_resampled, y_resampled = SMOTE(random_state=1, sampling_strategy=1.0).fit_resample(\n",
        "    X_train_scaled, y_train\n",
        ")\n",
        "Counter(y_resampled)"
      ],
      "execution_count": null,
      "outputs": [
        {
          "output_type": "stream",
          "name": "stderr",
          "text": [
            "/usr/local/lib/python3.7/dist-packages/sklearn/utils/deprecation.py:87: FutureWarning: Function safe_indexing is deprecated; safe_indexing is deprecated in version 0.22 and will be removed in version 0.24.\n",
            "  warnings.warn(msg, category=FutureWarning)\n"
          ]
        },
        {
          "output_type": "execute_result",
          "data": {
            "text/plain": [
              "Counter({0: 618, 1: 618})"
            ]
          },
          "metadata": {},
          "execution_count": 73
        }
      ]
    },
    {
      "cell_type": "code",
      "metadata": {
        "colab": {
          "base_uri": "https://localhost:8080/"
        },
        "id": "kwtjq4CZzwbW",
        "outputId": "a07f81e4-3ef3-45c5-84cf-c314093ac215"
      },
      "source": [
        "from imblearn.under_sampling import ClusterCentroids\n",
        "cc = ClusterCentroids(random_state=1)\n",
        "X_resampled, y_resampled = cc.fit_resample(X_train_scaled, y_train)\n",
        "Counter(y_resampled)"
      ],
      "execution_count": null,
      "outputs": [
        {
          "output_type": "stream",
          "name": "stderr",
          "text": [
            "/usr/local/lib/python3.7/dist-packages/sklearn/utils/deprecation.py:87: FutureWarning: Function safe_indexing is deprecated; safe_indexing is deprecated in version 0.22 and will be removed in version 0.24.\n",
            "  warnings.warn(msg, category=FutureWarning)\n"
          ]
        },
        {
          "output_type": "execute_result",
          "data": {
            "text/plain": [
              "Counter({0: 38, 1: 38})"
            ]
          },
          "metadata": {},
          "execution_count": 74
        }
      ]
    },
    {
      "cell_type": "code",
      "metadata": {
        "id": "K7PC_rDOzwd4"
      },
      "source": [
        ""
      ],
      "execution_count": null,
      "outputs": []
    },
    {
      "cell_type": "code",
      "metadata": {
        "colab": {
          "base_uri": "https://localhost:8080/"
        },
        "id": "Y7EzuUo-56Rf",
        "outputId": "49dd0dd4-e1f4-411f-fdec-a13c892dfc82"
      },
      "source": [
        "import pandas as pd\n",
        "import numpy as np\n",
        "import matplotlib.pyplot as plt\n",
        "import random\n",
        "import re\n",
        "from sklearn.model_selection import train_test_split\n",
        "from sklearn.metrics import confusion_matrix, classification_report\n",
        "import seaborn as sns\n",
        "from sklearn.metrics import precision_score,accuracy_score,f1_score,recall_score,roc_auc_score\n",
        "from sklearn.model_selection import cross_val_score\n",
        "from sklearn.ensemble import RandomForestClassifier\n",
        "from sklearn.tree import DecisionTreeClassifier\n",
        "from sklearn.ensemble import AdaBoostClassifier\n",
        "from sklearn.ensemble import GradientBoostingClassifier\n",
        "from xgboost.sklearn import XGBClassifier\n",
        "import xgboost\n",
        "from sklearn.neighbors import KNeighborsClassifier\n",
        "from sklearn.linear_model import LogisticRegression\n",
        "from sklearn.ensemble import VotingClassifier\n",
        "from sklearn import preprocessing\n",
        "from mlxtend.classifier import StackingClassifier\n",
        "import matplotlib.gridspec as gridspec\n",
        "import itertools\n",
        "from sklearn.model_selection import GridSearchCV\n",
        "from sklearn import metrics\n",
        "\n",
        "#df = pd.read_csv('n_7.csv')\n",
        "#X = df.drop('class', axis=1)\n",
        "#encode = preprocessing.LabelEncoder()\n",
        "#y_str2= df['class'].values\n",
        "#encode.fit(y_str2)\n",
        "#y = encode.transform(y_str2)\n",
        "#X= X.drop(['punnyCode','havingIP', 'doubleSlashRedirecting','port','Https_token','similar_keyword_count','similar_brand_count','path_length','=','splitted_word_count','longest_word_length','compound_word_count','std_word_length','negligible_word_count','urlLength','char_repeat','random_domain','shorteningService','brand_name_count','target_brand_count'], axis=1)\n",
        "#X= X.drop(['domainAge','pageRank'],axis=1)\n",
        "#X = X.to_numpy()\n",
        "\n",
        "X_train,X_test_mid,y_train,y_test_mid = train_test_split(X, y, test_size = .2 , random_state = 1)\n",
        "x_test,x_val,y_test,y_val =train_test_split(X_test_mid, y_test_mid, test_size = .5, random_state = 1)\n",
        "\n",
        "KNN = KNeighborsClassifier(algorithm='brute', leaf_size=1, metric='minkowski',\n",
        "                     metric_params=None, n_jobs=None, n_neighbors=1, p=2,\n",
        "                     weights='distance')\n",
        "RF = RandomForestClassifier(criterion='entropy',random_state=1)\n",
        "DT = DecisionTreeClassifier(criterion='entropy', random_state=1)\n",
        "XGB = xgboost.XGBClassifier(base_score=0.5, booster='gbtree', colsample_bylevel=1,\n",
        "              colsample_bynode=1, colsample_bytree=0.4, gamma=0.3, gpu_id=-1,\n",
        "              importance_type='gain', interaction_constraints='',\n",
        "              learning_rate=0.15, max_delta_step=0, max_depth=12,\n",
        "              min_child_weight=1, missing=None, monotone_constraints='()',\n",
        "              n_estimators=100, n_jobs=0, num_parallel_tree=1, random_state=0,\n",
        "              reg_alpha=0, reg_lambda=1, scale_pos_weight=1, subsample=1,\n",
        "              tree_method='exact', validate_parameters=1, verbosity=None)\n",
        "GBC = GradientBoostingClassifier(n_estimators = 400, max_depth =9, learning_rate =0.4)\n",
        "abc = AdaBoostClassifier(base_estimator=DecisionTreeClassifier(), learning_rate=0.3,\n",
        "                   n_estimators=100)\n",
        "LGR = LogisticRegression(C=1.623776739188721, max_iter = 100, penalty = 'l1', solver = 'liblinear')\n",
        "\n",
        "\n",
        "classifier_labels = [\"XGB\", \"abc\",\"KNN\",\"DT\",\"RF\",\"LGR\",\"GBC\"]\n",
        "\n",
        "classifiers = {\"XGB\": XGB,\n",
        "               \"abc\": abc,\n",
        "               \"KNN\":KNN,\n",
        "               \"DT\":DT,\n",
        "               \"RF\":RF,\n",
        "               \"LGR\":LGR,\n",
        "               \"GBC\":GBC\n",
        "               }\n",
        "\n",
        "\n",
        "combo_classifiers = []\n",
        "for ii in range(2, len(classifier_labels)+1):\n",
        "    for subset in itertools.combinations(classifier_labels, ii):\n",
        "        combo_classifiers.append(subset)\n",
        "print(combo_classifiers)\n",
        "\n",
        "\n",
        "\n",
        "for combo in combo_classifiers:\n",
        "    # Get labels of classifier to create a stack\n",
        "    labels = list(combo)\n",
        "    classifier_combo = []\n",
        "    for ii in range(len(labels)):\n",
        "        \n",
        "        label = combo[ii]\n",
        "        classifier = classifiers[label]\n",
        "        classifier_combo.append(classifier)\n",
        "    \n",
        "    \n",
        "    #print(classifier_combo)\n",
        "    sclf = StackingClassifier(classifiers = classifier_combo, \n",
        "                         meta_classifier=GBC)\n",
        "    scores = cross_val_score(sclf, X2, y2, cv=2, scoring='accuracy').mean()\n",
        "    print(combo ,scores )"
      ],
      "execution_count": null,
      "outputs": [
        {
          "output_type": "stream",
          "name": "stdout",
          "text": [
            "[('XGB', 'abc'), ('XGB', 'KNN'), ('XGB', 'DT'), ('XGB', 'RF'), ('XGB', 'LGR'), ('XGB', 'GBC'), ('abc', 'KNN'), ('abc', 'DT'), ('abc', 'RF'), ('abc', 'LGR'), ('abc', 'GBC'), ('KNN', 'DT'), ('KNN', 'RF'), ('KNN', 'LGR'), ('KNN', 'GBC'), ('DT', 'RF'), ('DT', 'LGR'), ('DT', 'GBC'), ('RF', 'LGR'), ('RF', 'GBC'), ('LGR', 'GBC'), ('XGB', 'abc', 'KNN'), ('XGB', 'abc', 'DT'), ('XGB', 'abc', 'RF'), ('XGB', 'abc', 'LGR'), ('XGB', 'abc', 'GBC'), ('XGB', 'KNN', 'DT'), ('XGB', 'KNN', 'RF'), ('XGB', 'KNN', 'LGR'), ('XGB', 'KNN', 'GBC'), ('XGB', 'DT', 'RF'), ('XGB', 'DT', 'LGR'), ('XGB', 'DT', 'GBC'), ('XGB', 'RF', 'LGR'), ('XGB', 'RF', 'GBC'), ('XGB', 'LGR', 'GBC'), ('abc', 'KNN', 'DT'), ('abc', 'KNN', 'RF'), ('abc', 'KNN', 'LGR'), ('abc', 'KNN', 'GBC'), ('abc', 'DT', 'RF'), ('abc', 'DT', 'LGR'), ('abc', 'DT', 'GBC'), ('abc', 'RF', 'LGR'), ('abc', 'RF', 'GBC'), ('abc', 'LGR', 'GBC'), ('KNN', 'DT', 'RF'), ('KNN', 'DT', 'LGR'), ('KNN', 'DT', 'GBC'), ('KNN', 'RF', 'LGR'), ('KNN', 'RF', 'GBC'), ('KNN', 'LGR', 'GBC'), ('DT', 'RF', 'LGR'), ('DT', 'RF', 'GBC'), ('DT', 'LGR', 'GBC'), ('RF', 'LGR', 'GBC'), ('XGB', 'abc', 'KNN', 'DT'), ('XGB', 'abc', 'KNN', 'RF'), ('XGB', 'abc', 'KNN', 'LGR'), ('XGB', 'abc', 'KNN', 'GBC'), ('XGB', 'abc', 'DT', 'RF'), ('XGB', 'abc', 'DT', 'LGR'), ('XGB', 'abc', 'DT', 'GBC'), ('XGB', 'abc', 'RF', 'LGR'), ('XGB', 'abc', 'RF', 'GBC'), ('XGB', 'abc', 'LGR', 'GBC'), ('XGB', 'KNN', 'DT', 'RF'), ('XGB', 'KNN', 'DT', 'LGR'), ('XGB', 'KNN', 'DT', 'GBC'), ('XGB', 'KNN', 'RF', 'LGR'), ('XGB', 'KNN', 'RF', 'GBC'), ('XGB', 'KNN', 'LGR', 'GBC'), ('XGB', 'DT', 'RF', 'LGR'), ('XGB', 'DT', 'RF', 'GBC'), ('XGB', 'DT', 'LGR', 'GBC'), ('XGB', 'RF', 'LGR', 'GBC'), ('abc', 'KNN', 'DT', 'RF'), ('abc', 'KNN', 'DT', 'LGR'), ('abc', 'KNN', 'DT', 'GBC'), ('abc', 'KNN', 'RF', 'LGR'), ('abc', 'KNN', 'RF', 'GBC'), ('abc', 'KNN', 'LGR', 'GBC'), ('abc', 'DT', 'RF', 'LGR'), ('abc', 'DT', 'RF', 'GBC'), ('abc', 'DT', 'LGR', 'GBC'), ('abc', 'RF', 'LGR', 'GBC'), ('KNN', 'DT', 'RF', 'LGR'), ('KNN', 'DT', 'RF', 'GBC'), ('KNN', 'DT', 'LGR', 'GBC'), ('KNN', 'RF', 'LGR', 'GBC'), ('DT', 'RF', 'LGR', 'GBC'), ('XGB', 'abc', 'KNN', 'DT', 'RF'), ('XGB', 'abc', 'KNN', 'DT', 'LGR'), ('XGB', 'abc', 'KNN', 'DT', 'GBC'), ('XGB', 'abc', 'KNN', 'RF', 'LGR'), ('XGB', 'abc', 'KNN', 'RF', 'GBC'), ('XGB', 'abc', 'KNN', 'LGR', 'GBC'), ('XGB', 'abc', 'DT', 'RF', 'LGR'), ('XGB', 'abc', 'DT', 'RF', 'GBC'), ('XGB', 'abc', 'DT', 'LGR', 'GBC'), ('XGB', 'abc', 'RF', 'LGR', 'GBC'), ('XGB', 'KNN', 'DT', 'RF', 'LGR'), ('XGB', 'KNN', 'DT', 'RF', 'GBC'), ('XGB', 'KNN', 'DT', 'LGR', 'GBC'), ('XGB', 'KNN', 'RF', 'LGR', 'GBC'), ('XGB', 'DT', 'RF', 'LGR', 'GBC'), ('abc', 'KNN', 'DT', 'RF', 'LGR'), ('abc', 'KNN', 'DT', 'RF', 'GBC'), ('abc', 'KNN', 'DT', 'LGR', 'GBC'), ('abc', 'KNN', 'RF', 'LGR', 'GBC'), ('abc', 'DT', 'RF', 'LGR', 'GBC'), ('KNN', 'DT', 'RF', 'LGR', 'GBC'), ('XGB', 'abc', 'KNN', 'DT', 'RF', 'LGR'), ('XGB', 'abc', 'KNN', 'DT', 'RF', 'GBC'), ('XGB', 'abc', 'KNN', 'DT', 'LGR', 'GBC'), ('XGB', 'abc', 'KNN', 'RF', 'LGR', 'GBC'), ('XGB', 'abc', 'DT', 'RF', 'LGR', 'GBC'), ('XGB', 'KNN', 'DT', 'RF', 'LGR', 'GBC'), ('abc', 'KNN', 'DT', 'RF', 'LGR', 'GBC'), ('XGB', 'abc', 'KNN', 'DT', 'RF', 'LGR', 'GBC')]\n",
            "('XGB', 'abc') nan\n",
            "('XGB', 'KNN') nan\n",
            "('XGB', 'DT') nan\n",
            "('XGB', 'RF') nan\n",
            "('XGB', 'LGR') nan\n",
            "('XGB', 'GBC') nan\n"
          ]
        },
        {
          "output_type": "stream",
          "name": "stderr",
          "text": [
            "/usr/local/lib/python3.7/dist-packages/sklearn/model_selection/_validation.py:536: FitFailedWarning: Estimator fit failed. The score on this train-test partition for these parameters will be set to nan. Details: \n",
            "xgboost.core.XGBoostError: Invalid Parameter format for verbosity expect int but value='None'\n",
            "\n",
            "  FitFailedWarning)\n",
            "/usr/local/lib/python3.7/dist-packages/sklearn/model_selection/_validation.py:536: FitFailedWarning: Estimator fit failed. The score on this train-test partition for these parameters will be set to nan. Details: \n",
            "xgboost.core.XGBoostError: Invalid Parameter format for verbosity expect int but value='None'\n",
            "\n",
            "  FitFailedWarning)\n",
            "/usr/local/lib/python3.7/dist-packages/sklearn/model_selection/_validation.py:536: FitFailedWarning: Estimator fit failed. The score on this train-test partition for these parameters will be set to nan. Details: \n",
            "xgboost.core.XGBoostError: Invalid Parameter format for verbosity expect int but value='None'\n",
            "\n",
            "  FitFailedWarning)\n",
            "/usr/local/lib/python3.7/dist-packages/sklearn/model_selection/_validation.py:536: FitFailedWarning: Estimator fit failed. The score on this train-test partition for these parameters will be set to nan. Details: \n",
            "xgboost.core.XGBoostError: Invalid Parameter format for verbosity expect int but value='None'\n",
            "\n",
            "  FitFailedWarning)\n",
            "/usr/local/lib/python3.7/dist-packages/sklearn/model_selection/_validation.py:536: FitFailedWarning: Estimator fit failed. The score on this train-test partition for these parameters will be set to nan. Details: \n",
            "xgboost.core.XGBoostError: Invalid Parameter format for verbosity expect int but value='None'\n",
            "\n",
            "  FitFailedWarning)\n",
            "/usr/local/lib/python3.7/dist-packages/sklearn/model_selection/_validation.py:536: FitFailedWarning: Estimator fit failed. The score on this train-test partition for these parameters will be set to nan. Details: \n",
            "xgboost.core.XGBoostError: Invalid Parameter format for verbosity expect int but value='None'\n",
            "\n",
            "  FitFailedWarning)\n"
          ]
        },
        {
          "output_type": "stream",
          "name": "stdout",
          "text": [
            "('abc', 'KNN') 0.9930313588850174\n",
            "('abc', 'DT') 0.9930313588850174\n",
            "('abc', 'RF') 0.9912891986062717\n",
            "('abc', 'LGR') 0.9930313588850174\n",
            "('abc', 'GBC') 0.9930313588850174\n",
            "('KNN', 'DT') 0.9921602787456446\n",
            "('KNN', 'RF') 0.9939024390243902\n",
            "('KNN', 'LGR') 0.9930313588850174\n",
            "('KNN', 'GBC') 0.9930313588850174\n",
            "('DT', 'RF') 0.9921602787456446\n",
            "('DT', 'LGR') 0.9921602787456446\n",
            "('DT', 'GBC') 0.9921602787456446\n",
            "('RF', 'LGR') 0.9947735191637631\n",
            "('RF', 'GBC') 0.9895470383275261\n",
            "('LGR', 'GBC') 0.9930313588850174\n",
            "('XGB', 'abc', 'KNN') nan\n",
            "('XGB', 'abc', 'DT') nan\n",
            "('XGB', 'abc', 'RF') nan\n",
            "('XGB', 'abc', 'LGR') nan\n",
            "('XGB', 'abc', 'GBC') nan\n",
            "('XGB', 'KNN', 'DT') nan\n",
            "('XGB', 'KNN', 'RF') nan\n",
            "('XGB', 'KNN', 'LGR') nan\n",
            "('XGB', 'KNN', 'GBC') nan\n",
            "('XGB', 'DT', 'RF') nan\n",
            "('XGB', 'DT', 'LGR') nan\n",
            "('XGB', 'DT', 'GBC') nan\n",
            "('XGB', 'RF', 'LGR') nan\n",
            "('XGB', 'RF', 'GBC') nan\n",
            "('XGB', 'LGR', 'GBC') nan\n"
          ]
        },
        {
          "output_type": "stream",
          "name": "stderr",
          "text": [
            "/usr/local/lib/python3.7/dist-packages/sklearn/model_selection/_validation.py:536: FitFailedWarning: Estimator fit failed. The score on this train-test partition for these parameters will be set to nan. Details: \n",
            "xgboost.core.XGBoostError: Invalid Parameter format for verbosity expect int but value='None'\n",
            "\n",
            "  FitFailedWarning)\n",
            "/usr/local/lib/python3.7/dist-packages/sklearn/model_selection/_validation.py:536: FitFailedWarning: Estimator fit failed. The score on this train-test partition for these parameters will be set to nan. Details: \n",
            "xgboost.core.XGBoostError: Invalid Parameter format for verbosity expect int but value='None'\n",
            "\n",
            "  FitFailedWarning)\n",
            "/usr/local/lib/python3.7/dist-packages/sklearn/model_selection/_validation.py:536: FitFailedWarning: Estimator fit failed. The score on this train-test partition for these parameters will be set to nan. Details: \n",
            "xgboost.core.XGBoostError: Invalid Parameter format for verbosity expect int but value='None'\n",
            "\n",
            "  FitFailedWarning)\n",
            "/usr/local/lib/python3.7/dist-packages/sklearn/model_selection/_validation.py:536: FitFailedWarning: Estimator fit failed. The score on this train-test partition for these parameters will be set to nan. Details: \n",
            "xgboost.core.XGBoostError: Invalid Parameter format for verbosity expect int but value='None'\n",
            "\n",
            "  FitFailedWarning)\n",
            "/usr/local/lib/python3.7/dist-packages/sklearn/model_selection/_validation.py:536: FitFailedWarning: Estimator fit failed. The score on this train-test partition for these parameters will be set to nan. Details: \n",
            "xgboost.core.XGBoostError: Invalid Parameter format for verbosity expect int but value='None'\n",
            "\n",
            "  FitFailedWarning)\n",
            "/usr/local/lib/python3.7/dist-packages/sklearn/model_selection/_validation.py:536: FitFailedWarning: Estimator fit failed. The score on this train-test partition for these parameters will be set to nan. Details: \n",
            "xgboost.core.XGBoostError: Invalid Parameter format for verbosity expect int but value='None'\n",
            "\n",
            "  FitFailedWarning)\n",
            "/usr/local/lib/python3.7/dist-packages/sklearn/model_selection/_validation.py:536: FitFailedWarning: Estimator fit failed. The score on this train-test partition for these parameters will be set to nan. Details: \n",
            "xgboost.core.XGBoostError: Invalid Parameter format for verbosity expect int but value='None'\n",
            "\n",
            "  FitFailedWarning)\n",
            "/usr/local/lib/python3.7/dist-packages/sklearn/model_selection/_validation.py:536: FitFailedWarning: Estimator fit failed. The score on this train-test partition for these parameters will be set to nan. Details: \n",
            "xgboost.core.XGBoostError: Invalid Parameter format for verbosity expect int but value='None'\n",
            "\n",
            "  FitFailedWarning)\n",
            "/usr/local/lib/python3.7/dist-packages/sklearn/model_selection/_validation.py:536: FitFailedWarning: Estimator fit failed. The score on this train-test partition for these parameters will be set to nan. Details: \n",
            "xgboost.core.XGBoostError: Invalid Parameter format for verbosity expect int but value='None'\n",
            "\n",
            "  FitFailedWarning)\n",
            "/usr/local/lib/python3.7/dist-packages/sklearn/model_selection/_validation.py:536: FitFailedWarning: Estimator fit failed. The score on this train-test partition for these parameters will be set to nan. Details: \n",
            "xgboost.core.XGBoostError: Invalid Parameter format for verbosity expect int but value='None'\n",
            "\n",
            "  FitFailedWarning)\n",
            "/usr/local/lib/python3.7/dist-packages/sklearn/model_selection/_validation.py:536: FitFailedWarning: Estimator fit failed. The score on this train-test partition for these parameters will be set to nan. Details: \n",
            "xgboost.core.XGBoostError: Invalid Parameter format for verbosity expect int but value='None'\n",
            "\n",
            "  FitFailedWarning)\n",
            "/usr/local/lib/python3.7/dist-packages/sklearn/model_selection/_validation.py:536: FitFailedWarning: Estimator fit failed. The score on this train-test partition for these parameters will be set to nan. Details: \n",
            "xgboost.core.XGBoostError: Invalid Parameter format for verbosity expect int but value='None'\n",
            "\n",
            "  FitFailedWarning)\n",
            "/usr/local/lib/python3.7/dist-packages/sklearn/model_selection/_validation.py:536: FitFailedWarning: Estimator fit failed. The score on this train-test partition for these parameters will be set to nan. Details: \n",
            "xgboost.core.XGBoostError: Invalid Parameter format for verbosity expect int but value='None'\n",
            "\n",
            "  FitFailedWarning)\n",
            "/usr/local/lib/python3.7/dist-packages/sklearn/model_selection/_validation.py:536: FitFailedWarning: Estimator fit failed. The score on this train-test partition for these parameters will be set to nan. Details: \n",
            "xgboost.core.XGBoostError: Invalid Parameter format for verbosity expect int but value='None'\n",
            "\n",
            "  FitFailedWarning)\n",
            "/usr/local/lib/python3.7/dist-packages/sklearn/model_selection/_validation.py:536: FitFailedWarning: Estimator fit failed. The score on this train-test partition for these parameters will be set to nan. Details: \n",
            "xgboost.core.XGBoostError: Invalid Parameter format for verbosity expect int but value='None'\n",
            "\n",
            "  FitFailedWarning)\n"
          ]
        },
        {
          "output_type": "stream",
          "name": "stdout",
          "text": [
            "('abc', 'KNN', 'DT') 0.9939024390243902\n",
            "('abc', 'KNN', 'RF') 0.9947735191637631\n",
            "('abc', 'KNN', 'LGR') 0.9930313588850174\n",
            "('abc', 'KNN', 'GBC') 0.9930313588850174\n",
            "('abc', 'DT', 'RF') 0.9912891986062717\n",
            "('abc', 'DT', 'LGR') 0.9921602787456446\n",
            "('abc', 'DT', 'GBC') 0.9912891986062717\n",
            "('abc', 'RF', 'LGR') 0.9939024390243902\n",
            "('abc', 'RF', 'GBC') 0.9895470383275261\n",
            "('abc', 'LGR', 'GBC') 0.9912891986062717\n",
            "('KNN', 'DT', 'RF') 0.9965156794425087\n",
            "('KNN', 'DT', 'LGR') 0.9912891986062717\n",
            "('KNN', 'DT', 'GBC') 0.9939024390243902\n",
            "('KNN', 'RF', 'LGR') 0.9939024390243902\n",
            "('KNN', 'RF', 'GBC') 0.995644599303136\n",
            "('KNN', 'LGR', 'GBC') 0.9930313588850174\n",
            "('DT', 'RF', 'LGR') 0.9921602787456446\n",
            "('DT', 'RF', 'GBC') 0.9930313588850174\n",
            "('DT', 'LGR', 'GBC') 0.9895470383275261\n",
            "('RF', 'LGR', 'GBC') 0.9947735191637631\n",
            "('XGB', 'abc', 'KNN', 'DT') nan\n",
            "('XGB', 'abc', 'KNN', 'RF') nan\n",
            "('XGB', 'abc', 'KNN', 'LGR') nan\n",
            "('XGB', 'abc', 'KNN', 'GBC') nan\n",
            "('XGB', 'abc', 'DT', 'RF') nan\n",
            "('XGB', 'abc', 'DT', 'LGR') nan\n",
            "('XGB', 'abc', 'DT', 'GBC') nan\n",
            "('XGB', 'abc', 'RF', 'LGR') nan\n",
            "('XGB', 'abc', 'RF', 'GBC') nan\n",
            "('XGB', 'abc', 'LGR', 'GBC') nan\n",
            "('XGB', 'KNN', 'DT', 'RF') nan\n",
            "('XGB', 'KNN', 'DT', 'LGR') nan\n",
            "('XGB', 'KNN', 'DT', 'GBC') nan\n",
            "('XGB', 'KNN', 'RF', 'LGR') nan\n",
            "('XGB', 'KNN', 'RF', 'GBC') nan\n",
            "('XGB', 'KNN', 'LGR', 'GBC') nan\n",
            "('XGB', 'DT', 'RF', 'LGR') nan\n",
            "('XGB', 'DT', 'RF', 'GBC') nan\n",
            "('XGB', 'DT', 'LGR', 'GBC') nan\n",
            "('XGB', 'RF', 'LGR', 'GBC') nan\n"
          ]
        },
        {
          "output_type": "stream",
          "name": "stderr",
          "text": [
            "/usr/local/lib/python3.7/dist-packages/sklearn/model_selection/_validation.py:536: FitFailedWarning: Estimator fit failed. The score on this train-test partition for these parameters will be set to nan. Details: \n",
            "xgboost.core.XGBoostError: Invalid Parameter format for verbosity expect int but value='None'\n",
            "\n",
            "  FitFailedWarning)\n",
            "/usr/local/lib/python3.7/dist-packages/sklearn/model_selection/_validation.py:536: FitFailedWarning: Estimator fit failed. The score on this train-test partition for these parameters will be set to nan. Details: \n",
            "xgboost.core.XGBoostError: Invalid Parameter format for verbosity expect int but value='None'\n",
            "\n",
            "  FitFailedWarning)\n",
            "/usr/local/lib/python3.7/dist-packages/sklearn/model_selection/_validation.py:536: FitFailedWarning: Estimator fit failed. The score on this train-test partition for these parameters will be set to nan. Details: \n",
            "xgboost.core.XGBoostError: Invalid Parameter format for verbosity expect int but value='None'\n",
            "\n",
            "  FitFailedWarning)\n",
            "/usr/local/lib/python3.7/dist-packages/sklearn/model_selection/_validation.py:536: FitFailedWarning: Estimator fit failed. The score on this train-test partition for these parameters will be set to nan. Details: \n",
            "xgboost.core.XGBoostError: Invalid Parameter format for verbosity expect int but value='None'\n",
            "\n",
            "  FitFailedWarning)\n",
            "/usr/local/lib/python3.7/dist-packages/sklearn/model_selection/_validation.py:536: FitFailedWarning: Estimator fit failed. The score on this train-test partition for these parameters will be set to nan. Details: \n",
            "xgboost.core.XGBoostError: Invalid Parameter format for verbosity expect int but value='None'\n",
            "\n",
            "  FitFailedWarning)\n",
            "/usr/local/lib/python3.7/dist-packages/sklearn/model_selection/_validation.py:536: FitFailedWarning: Estimator fit failed. The score on this train-test partition for these parameters will be set to nan. Details: \n",
            "xgboost.core.XGBoostError: Invalid Parameter format for verbosity expect int but value='None'\n",
            "\n",
            "  FitFailedWarning)\n",
            "/usr/local/lib/python3.7/dist-packages/sklearn/model_selection/_validation.py:536: FitFailedWarning: Estimator fit failed. The score on this train-test partition for these parameters will be set to nan. Details: \n",
            "xgboost.core.XGBoostError: Invalid Parameter format for verbosity expect int but value='None'\n",
            "\n",
            "  FitFailedWarning)\n",
            "/usr/local/lib/python3.7/dist-packages/sklearn/model_selection/_validation.py:536: FitFailedWarning: Estimator fit failed. The score on this train-test partition for these parameters will be set to nan. Details: \n",
            "xgboost.core.XGBoostError: Invalid Parameter format for verbosity expect int but value='None'\n",
            "\n",
            "  FitFailedWarning)\n",
            "/usr/local/lib/python3.7/dist-packages/sklearn/model_selection/_validation.py:536: FitFailedWarning: Estimator fit failed. The score on this train-test partition for these parameters will be set to nan. Details: \n",
            "xgboost.core.XGBoostError: Invalid Parameter format for verbosity expect int but value='None'\n",
            "\n",
            "  FitFailedWarning)\n",
            "/usr/local/lib/python3.7/dist-packages/sklearn/model_selection/_validation.py:536: FitFailedWarning: Estimator fit failed. The score on this train-test partition for these parameters will be set to nan. Details: \n",
            "xgboost.core.XGBoostError: Invalid Parameter format for verbosity expect int but value='None'\n",
            "\n",
            "  FitFailedWarning)\n",
            "/usr/local/lib/python3.7/dist-packages/sklearn/model_selection/_validation.py:536: FitFailedWarning: Estimator fit failed. The score on this train-test partition for these parameters will be set to nan. Details: \n",
            "xgboost.core.XGBoostError: Invalid Parameter format for verbosity expect int but value='None'\n",
            "\n",
            "  FitFailedWarning)\n",
            "/usr/local/lib/python3.7/dist-packages/sklearn/model_selection/_validation.py:536: FitFailedWarning: Estimator fit failed. The score on this train-test partition for these parameters will be set to nan. Details: \n",
            "xgboost.core.XGBoostError: Invalid Parameter format for verbosity expect int but value='None'\n",
            "\n",
            "  FitFailedWarning)\n",
            "/usr/local/lib/python3.7/dist-packages/sklearn/model_selection/_validation.py:536: FitFailedWarning: Estimator fit failed. The score on this train-test partition for these parameters will be set to nan. Details: \n",
            "xgboost.core.XGBoostError: Invalid Parameter format for verbosity expect int but value='None'\n",
            "\n",
            "  FitFailedWarning)\n",
            "/usr/local/lib/python3.7/dist-packages/sklearn/model_selection/_validation.py:536: FitFailedWarning: Estimator fit failed. The score on this train-test partition for these parameters will be set to nan. Details: \n",
            "xgboost.core.XGBoostError: Invalid Parameter format for verbosity expect int but value='None'\n",
            "\n",
            "  FitFailedWarning)\n",
            "/usr/local/lib/python3.7/dist-packages/sklearn/model_selection/_validation.py:536: FitFailedWarning: Estimator fit failed. The score on this train-test partition for these parameters will be set to nan. Details: \n",
            "xgboost.core.XGBoostError: Invalid Parameter format for verbosity expect int but value='None'\n",
            "\n",
            "  FitFailedWarning)\n",
            "/usr/local/lib/python3.7/dist-packages/sklearn/model_selection/_validation.py:536: FitFailedWarning: Estimator fit failed. The score on this train-test partition for these parameters will be set to nan. Details: \n",
            "xgboost.core.XGBoostError: Invalid Parameter format for verbosity expect int but value='None'\n",
            "\n",
            "  FitFailedWarning)\n",
            "/usr/local/lib/python3.7/dist-packages/sklearn/model_selection/_validation.py:536: FitFailedWarning: Estimator fit failed. The score on this train-test partition for these parameters will be set to nan. Details: \n",
            "xgboost.core.XGBoostError: Invalid Parameter format for verbosity expect int but value='None'\n",
            "\n",
            "  FitFailedWarning)\n",
            "/usr/local/lib/python3.7/dist-packages/sklearn/model_selection/_validation.py:536: FitFailedWarning: Estimator fit failed. The score on this train-test partition for these parameters will be set to nan. Details: \n",
            "xgboost.core.XGBoostError: Invalid Parameter format for verbosity expect int but value='None'\n",
            "\n",
            "  FitFailedWarning)\n",
            "/usr/local/lib/python3.7/dist-packages/sklearn/model_selection/_validation.py:536: FitFailedWarning: Estimator fit failed. The score on this train-test partition for these parameters will be set to nan. Details: \n",
            "xgboost.core.XGBoostError: Invalid Parameter format for verbosity expect int but value='None'\n",
            "\n",
            "  FitFailedWarning)\n",
            "/usr/local/lib/python3.7/dist-packages/sklearn/model_selection/_validation.py:536: FitFailedWarning: Estimator fit failed. The score on this train-test partition for these parameters will be set to nan. Details: \n",
            "xgboost.core.XGBoostError: Invalid Parameter format for verbosity expect int but value='None'\n",
            "\n",
            "  FitFailedWarning)\n"
          ]
        },
        {
          "output_type": "stream",
          "name": "stdout",
          "text": [
            "('abc', 'KNN', 'DT', 'RF') 0.9965156794425087\n",
            "('abc', 'KNN', 'DT', 'LGR') 0.9921602787456446\n",
            "('abc', 'KNN', 'DT', 'GBC') 0.9930313588850174\n",
            "('abc', 'KNN', 'RF', 'LGR') 0.995644599303136\n",
            "('abc', 'KNN', 'RF', 'GBC') 0.994773519163763\n",
            "('abc', 'KNN', 'LGR', 'GBC') 0.9930313588850174\n",
            "('abc', 'DT', 'RF', 'LGR') 0.9930313588850174\n",
            "('abc', 'DT', 'RF', 'GBC') 0.9930313588850174\n",
            "('abc', 'DT', 'LGR', 'GBC') 0.9930313588850174\n",
            "('abc', 'RF', 'LGR', 'GBC') 0.9930313588850174\n",
            "('KNN', 'DT', 'RF', 'LGR') 0.995644599303136\n",
            "('KNN', 'DT', 'RF', 'GBC') 0.9939024390243902\n",
            "('KNN', 'DT', 'LGR', 'GBC') 0.9939024390243902\n",
            "('KNN', 'RF', 'LGR', 'GBC') 0.995644599303136\n",
            "('DT', 'RF', 'LGR', 'GBC') 0.9930313588850174\n",
            "('XGB', 'abc', 'KNN', 'DT', 'RF') nan\n",
            "('XGB', 'abc', 'KNN', 'DT', 'LGR') nan\n",
            "('XGB', 'abc', 'KNN', 'DT', 'GBC') nan\n",
            "('XGB', 'abc', 'KNN', 'RF', 'LGR') nan\n",
            "('XGB', 'abc', 'KNN', 'RF', 'GBC') nan\n",
            "('XGB', 'abc', 'KNN', 'LGR', 'GBC') nan\n",
            "('XGB', 'abc', 'DT', 'RF', 'LGR') nan\n",
            "('XGB', 'abc', 'DT', 'RF', 'GBC') nan\n",
            "('XGB', 'abc', 'DT', 'LGR', 'GBC') nan\n",
            "('XGB', 'abc', 'RF', 'LGR', 'GBC') nan\n",
            "('XGB', 'KNN', 'DT', 'RF', 'LGR') nan\n",
            "('XGB', 'KNN', 'DT', 'RF', 'GBC') nan\n",
            "('XGB', 'KNN', 'DT', 'LGR', 'GBC') nan\n",
            "('XGB', 'KNN', 'RF', 'LGR', 'GBC') nan\n",
            "('XGB', 'DT', 'RF', 'LGR', 'GBC') nan\n"
          ]
        },
        {
          "output_type": "stream",
          "name": "stderr",
          "text": [
            "/usr/local/lib/python3.7/dist-packages/sklearn/model_selection/_validation.py:536: FitFailedWarning: Estimator fit failed. The score on this train-test partition for these parameters will be set to nan. Details: \n",
            "xgboost.core.XGBoostError: Invalid Parameter format for verbosity expect int but value='None'\n",
            "\n",
            "  FitFailedWarning)\n",
            "/usr/local/lib/python3.7/dist-packages/sklearn/model_selection/_validation.py:536: FitFailedWarning: Estimator fit failed. The score on this train-test partition for these parameters will be set to nan. Details: \n",
            "xgboost.core.XGBoostError: Invalid Parameter format for verbosity expect int but value='None'\n",
            "\n",
            "  FitFailedWarning)\n",
            "/usr/local/lib/python3.7/dist-packages/sklearn/model_selection/_validation.py:536: FitFailedWarning: Estimator fit failed. The score on this train-test partition for these parameters will be set to nan. Details: \n",
            "xgboost.core.XGBoostError: Invalid Parameter format for verbosity expect int but value='None'\n",
            "\n",
            "  FitFailedWarning)\n",
            "/usr/local/lib/python3.7/dist-packages/sklearn/model_selection/_validation.py:536: FitFailedWarning: Estimator fit failed. The score on this train-test partition for these parameters will be set to nan. Details: \n",
            "xgboost.core.XGBoostError: Invalid Parameter format for verbosity expect int but value='None'\n",
            "\n",
            "  FitFailedWarning)\n",
            "/usr/local/lib/python3.7/dist-packages/sklearn/model_selection/_validation.py:536: FitFailedWarning: Estimator fit failed. The score on this train-test partition for these parameters will be set to nan. Details: \n",
            "xgboost.core.XGBoostError: Invalid Parameter format for verbosity expect int but value='None'\n",
            "\n",
            "  FitFailedWarning)\n",
            "/usr/local/lib/python3.7/dist-packages/sklearn/model_selection/_validation.py:536: FitFailedWarning: Estimator fit failed. The score on this train-test partition for these parameters will be set to nan. Details: \n",
            "xgboost.core.XGBoostError: Invalid Parameter format for verbosity expect int but value='None'\n",
            "\n",
            "  FitFailedWarning)\n",
            "/usr/local/lib/python3.7/dist-packages/sklearn/model_selection/_validation.py:536: FitFailedWarning: Estimator fit failed. The score on this train-test partition for these parameters will be set to nan. Details: \n",
            "xgboost.core.XGBoostError: Invalid Parameter format for verbosity expect int but value='None'\n",
            "\n",
            "  FitFailedWarning)\n",
            "/usr/local/lib/python3.7/dist-packages/sklearn/model_selection/_validation.py:536: FitFailedWarning: Estimator fit failed. The score on this train-test partition for these parameters will be set to nan. Details: \n",
            "xgboost.core.XGBoostError: Invalid Parameter format for verbosity expect int but value='None'\n",
            "\n",
            "  FitFailedWarning)\n",
            "/usr/local/lib/python3.7/dist-packages/sklearn/model_selection/_validation.py:536: FitFailedWarning: Estimator fit failed. The score on this train-test partition for these parameters will be set to nan. Details: \n",
            "xgboost.core.XGBoostError: Invalid Parameter format for verbosity expect int but value='None'\n",
            "\n",
            "  FitFailedWarning)\n",
            "/usr/local/lib/python3.7/dist-packages/sklearn/model_selection/_validation.py:536: FitFailedWarning: Estimator fit failed. The score on this train-test partition for these parameters will be set to nan. Details: \n",
            "xgboost.core.XGBoostError: Invalid Parameter format for verbosity expect int but value='None'\n",
            "\n",
            "  FitFailedWarning)\n",
            "/usr/local/lib/python3.7/dist-packages/sklearn/model_selection/_validation.py:536: FitFailedWarning: Estimator fit failed. The score on this train-test partition for these parameters will be set to nan. Details: \n",
            "xgboost.core.XGBoostError: Invalid Parameter format for verbosity expect int but value='None'\n",
            "\n",
            "  FitFailedWarning)\n",
            "/usr/local/lib/python3.7/dist-packages/sklearn/model_selection/_validation.py:536: FitFailedWarning: Estimator fit failed. The score on this train-test partition for these parameters will be set to nan. Details: \n",
            "xgboost.core.XGBoostError: Invalid Parameter format for verbosity expect int but value='None'\n",
            "\n",
            "  FitFailedWarning)\n",
            "/usr/local/lib/python3.7/dist-packages/sklearn/model_selection/_validation.py:536: FitFailedWarning: Estimator fit failed. The score on this train-test partition for these parameters will be set to nan. Details: \n",
            "xgboost.core.XGBoostError: Invalid Parameter format for verbosity expect int but value='None'\n",
            "\n",
            "  FitFailedWarning)\n",
            "/usr/local/lib/python3.7/dist-packages/sklearn/model_selection/_validation.py:536: FitFailedWarning: Estimator fit failed. The score on this train-test partition for these parameters will be set to nan. Details: \n",
            "xgboost.core.XGBoostError: Invalid Parameter format for verbosity expect int but value='None'\n",
            "\n",
            "  FitFailedWarning)\n",
            "/usr/local/lib/python3.7/dist-packages/sklearn/model_selection/_validation.py:536: FitFailedWarning: Estimator fit failed. The score on this train-test partition for these parameters will be set to nan. Details: \n",
            "xgboost.core.XGBoostError: Invalid Parameter format for verbosity expect int but value='None'\n",
            "\n",
            "  FitFailedWarning)\n"
          ]
        },
        {
          "output_type": "stream",
          "name": "stdout",
          "text": [
            "('abc', 'KNN', 'DT', 'RF', 'LGR') 0.994773519163763\n",
            "('abc', 'KNN', 'DT', 'RF', 'GBC') 0.9930313588850174\n",
            "('abc', 'KNN', 'DT', 'LGR', 'GBC') 0.9912891986062717\n",
            "('abc', 'KNN', 'RF', 'LGR', 'GBC') 0.9912891986062717\n",
            "('abc', 'DT', 'RF', 'LGR', 'GBC') 0.9912891986062717\n",
            "('KNN', 'DT', 'RF', 'LGR', 'GBC') 0.9939024390243902\n",
            "('XGB', 'abc', 'KNN', 'DT', 'RF', 'LGR') nan\n",
            "('XGB', 'abc', 'KNN', 'DT', 'RF', 'GBC') nan\n",
            "('XGB', 'abc', 'KNN', 'DT', 'LGR', 'GBC') nan\n",
            "('XGB', 'abc', 'KNN', 'RF', 'LGR', 'GBC') nan\n",
            "('XGB', 'abc', 'DT', 'RF', 'LGR', 'GBC') nan\n",
            "('XGB', 'KNN', 'DT', 'RF', 'LGR', 'GBC') nan\n"
          ]
        },
        {
          "output_type": "stream",
          "name": "stderr",
          "text": [
            "/usr/local/lib/python3.7/dist-packages/sklearn/model_selection/_validation.py:536: FitFailedWarning: Estimator fit failed. The score on this train-test partition for these parameters will be set to nan. Details: \n",
            "xgboost.core.XGBoostError: Invalid Parameter format for verbosity expect int but value='None'\n",
            "\n",
            "  FitFailedWarning)\n",
            "/usr/local/lib/python3.7/dist-packages/sklearn/model_selection/_validation.py:536: FitFailedWarning: Estimator fit failed. The score on this train-test partition for these parameters will be set to nan. Details: \n",
            "xgboost.core.XGBoostError: Invalid Parameter format for verbosity expect int but value='None'\n",
            "\n",
            "  FitFailedWarning)\n",
            "/usr/local/lib/python3.7/dist-packages/sklearn/model_selection/_validation.py:536: FitFailedWarning: Estimator fit failed. The score on this train-test partition for these parameters will be set to nan. Details: \n",
            "xgboost.core.XGBoostError: Invalid Parameter format for verbosity expect int but value='None'\n",
            "\n",
            "  FitFailedWarning)\n",
            "/usr/local/lib/python3.7/dist-packages/sklearn/model_selection/_validation.py:536: FitFailedWarning: Estimator fit failed. The score on this train-test partition for these parameters will be set to nan. Details: \n",
            "xgboost.core.XGBoostError: Invalid Parameter format for verbosity expect int but value='None'\n",
            "\n",
            "  FitFailedWarning)\n",
            "/usr/local/lib/python3.7/dist-packages/sklearn/model_selection/_validation.py:536: FitFailedWarning: Estimator fit failed. The score on this train-test partition for these parameters will be set to nan. Details: \n",
            "xgboost.core.XGBoostError: Invalid Parameter format for verbosity expect int but value='None'\n",
            "\n",
            "  FitFailedWarning)\n",
            "/usr/local/lib/python3.7/dist-packages/sklearn/model_selection/_validation.py:536: FitFailedWarning: Estimator fit failed. The score on this train-test partition for these parameters will be set to nan. Details: \n",
            "xgboost.core.XGBoostError: Invalid Parameter format for verbosity expect int but value='None'\n",
            "\n",
            "  FitFailedWarning)\n"
          ]
        },
        {
          "output_type": "stream",
          "name": "stdout",
          "text": [
            "('abc', 'KNN', 'DT', 'RF', 'LGR', 'GBC') 0.9930313588850174\n",
            "('XGB', 'abc', 'KNN', 'DT', 'RF', 'LGR', 'GBC') nan\n"
          ]
        },
        {
          "output_type": "stream",
          "name": "stderr",
          "text": [
            "/usr/local/lib/python3.7/dist-packages/sklearn/model_selection/_validation.py:536: FitFailedWarning: Estimator fit failed. The score on this train-test partition for these parameters will be set to nan. Details: \n",
            "xgboost.core.XGBoostError: Invalid Parameter format for verbosity expect int but value='None'\n",
            "\n",
            "  FitFailedWarning)\n"
          ]
        }
      ]
    },
    {
      "cell_type": "code",
      "metadata": {
        "id": "mZePzmOk56UE"
      },
      "source": [
        ""
      ],
      "execution_count": null,
      "outputs": []
    },
    {
      "cell_type": "code",
      "metadata": {
        "id": "HPEvVSYR56W7"
      },
      "source": [
        ""
      ],
      "execution_count": null,
      "outputs": []
    },
    {
      "cell_type": "code",
      "metadata": {
        "id": "DXmq02HP56Ze"
      },
      "source": [
        ""
      ],
      "execution_count": null,
      "outputs": []
    },
    {
      "cell_type": "code",
      "metadata": {
        "id": "3_029Ozt56b-"
      },
      "source": [
        ""
      ],
      "execution_count": null,
      "outputs": []
    },
    {
      "cell_type": "code",
      "metadata": {
        "id": "MetvRwEzzwgo"
      },
      "source": [
        ""
      ],
      "execution_count": null,
      "outputs": []
    },
    {
      "cell_type": "code",
      "metadata": {
        "id": "AM8UhLSCzwim"
      },
      "source": [
        "X2=X_train\n",
        "y2=y_train"
      ],
      "execution_count": null,
      "outputs": []
    },
    {
      "cell_type": "code",
      "metadata": {
        "id": "OcbhFbi5p1pY"
      },
      "source": [
        "y2=pd.DataFrame(y2)\n",
        "X2=pd.DataFrame(X2)\n",
        "result = pd.concat([X2, y2], axis=1)\n",
        "result.to_csv(\"result.csv\")"
      ],
      "execution_count": null,
      "outputs": []
    },
    {
      "cell_type": "code",
      "metadata": {
        "colab": {
          "base_uri": "https://localhost:8080/",
          "height": 356
        },
        "id": "cpjXxk62kNBP",
        "outputId": "8b0bd597-953c-43ee-a9d0-31affb736bc2"
      },
      "source": [
        "from numpy import mean\n",
        "from numpy import std\n",
        "from sklearn.datasets import make_classification\n",
        "from sklearn.model_selection import cross_val_score\n",
        "from sklearn.model_selection import RepeatedStratifiedKFold\n",
        "from sklearn.linear_model import LogisticRegression\n",
        "from sklearn.neighbors import KNeighborsClassifier\n",
        "from sklearn.tree import DecisionTreeClassifier\n",
        "from sklearn.svm import SVC\n",
        "from sklearn.naive_bayes import GaussianNB\n",
        "from matplotlib import pyplot\n",
        "\n",
        "# get the dataset\n",
        "def get_dataset():\n",
        "\tX, y = make_classification(n_samples=1000, n_features=20, n_informative=15, n_redundant=5, random_state=1)\n",
        "\treturn X, y\n",
        "\n",
        "# get a list of models to evaluate\n",
        "def get_models():\n",
        "\tmodels = dict()\n",
        "\tmodels['lr'] = LogisticRegression()\n",
        "\tmodels['knn'] = KNeighborsClassifier()\n",
        "\tmodels['cart'] = DecisionTreeClassifier()\n",
        "\tmodels['svm'] = SVC()\n",
        "\tmodels['bayes'] = GaussianNB()\n",
        "\treturn models\n",
        "\n",
        "# evaluate a given model using cross-validation\n",
        "def evaluate_model(model, X, y):\n",
        "\tcv = RepeatedStratifiedKFold(n_splits=10, n_repeats=3, random_state=1)\n",
        "\tscores = cross_val_score(model, X, y, scoring='accuracy', cv=cv, n_jobs=-1, error_score='raise')\n",
        "\treturn scores\n",
        "\n",
        "# define dataset\n",
        "#X, y = get_dataset()\n",
        "# get the models to evaluate\n",
        "models = get_models()\n",
        "# evaluate the models and store results\n",
        "results, names = list(), list()\n",
        "for name, model in models.items():\n",
        "\tscores = evaluate_model(model, X2, y2)\n",
        "\tresults.append(scores)\n",
        "\tnames.append(name)\n",
        "\tprint('>%s %.3f (%.3f)' % (name, mean(scores), std(scores)))\n",
        "# plot model performance for comparison\n",
        "pyplot.boxplot(results, labels=names, showmeans=True)\n",
        "pyplot.show()"
      ],
      "execution_count": null,
      "outputs": [
        {
          "output_type": "stream",
          "name": "stdout",
          "text": [
            ">lr 0.939 (0.031)\n",
            ">knn 0.889 (0.063)\n",
            ">cart 0.944 (0.026)\n",
            ">svm 0.948 (0.031)\n",
            ">bayes 0.915 (0.040)\n"
          ]
        },
        {
          "output_type": "display_data",
          "data": {
            "image/png": "[encoded data removed]",
            "text/plain": [
              "<Figure size 432x288 with 1 Axes>"
            ]
          },
          "metadata": {}
        }
      ]
    },
    {
      "cell_type": "code",
      "metadata": {
        "colab": {
          "base_uri": "https://localhost:8080/"
        },
        "id": "xJyk5FCjqapf",
        "outputId": "c82c209f-6217-40fa-eb7e-8fe055e603d6"
      },
      "source": [
        "!pip install catboost"
      ],
      "execution_count": null,
      "outputs": [
        {
          "output_type": "stream",
          "name": "stdout",
          "text": [
            "Collecting catboost\n",
            "  Downloading catboost-1.0.3-cp37-none-manylinux1_x86_64.whl (76.3 MB)\n",
            "\u001b[K     |████████████████████████████████| 76.3 MB 22 kB/s \n",
            "\u001b[?25hRequirement already satisfied: plotly in /usr/local/lib/python3.7/dist-packages (from catboost) (4.4.1)\n",
            "Requirement already satisfied: scipy in /usr/local/lib/python3.7/dist-packages (from catboost) (1.4.1)\n",
            "Requirement already satisfied: graphviz in /usr/local/lib/python3.7/dist-packages (from catboost) (0.10.1)\n",
            "Requirement already satisfied: six in /usr/local/lib/python3.7/dist-packages (from catboost) (1.15.0)\n",
            "Requirement already satisfied: matplotlib in /usr/local/lib/python3.7/dist-packages (from catboost) (3.2.2)\n",
            "Requirement already satisfied: numpy>=1.16.0 in /usr/local/lib/python3.7/dist-packages (from catboost) (1.19.5)\n",
            "Requirement already satisfied: pandas>=0.24.0 in /usr/local/lib/python3.7/dist-packages (from catboost) (1.1.5)\n",
            "Requirement already satisfied: python-dateutil>=2.7.3 in /usr/local/lib/python3.7/dist-packages (from pandas>=0.24.0->catboost) (2.8.2)\n",
            "Requirement already satisfied: pytz>=2017.2 in /usr/local/lib/python3.7/dist-packages (from pandas>=0.24.0->catboost) (2018.9)\n",
            "Requirement already satisfied: pyparsing!=2.0.4,!=2.1.2,!=2.1.6,>=2.0.1 in /usr/local/lib/python3.7/dist-packages (from matplotlib->catboost) (2.4.7)\n",
            "Requirement already satisfied: cycler>=0.10 in /usr/local/lib/python3.7/dist-packages (from matplotlib->catboost) (0.11.0)\n",
            "Requirement already satisfied: kiwisolver>=1.0.1 in /usr/local/lib/python3.7/dist-packages (from matplotlib->catboost) (1.3.2)\n",
            "Requirement already satisfied: retrying>=1.3.3 in /usr/local/lib/python3.7/dist-packages (from plotly->catboost) (1.3.3)\n",
            "Installing collected packages: catboost\n",
            "Successfully installed catboost-1.0.3\n"
          ]
        }
      ]
    },
    {
      "cell_type": "code",
      "metadata": {
        "colab": {
          "base_uri": "https://localhost:8080/",
          "height": 1000
        },
        "id": "LjmO9v-Bp2FW",
        "outputId": "a0b1226d-a499-4d06-d424-e1b935c0abc6"
      },
      "source": [
        "from sklearn.model_selection import train_test_split\n",
        "from sklearn.svm import SVC\n",
        "from sklearn.metrics import plot_roc_curve\n",
        "from sklearn.ensemble import RandomForestClassifier\n",
        "from sklearn.datasets import make_classification\n",
        "import matplotlib.pyplot as plt\n",
        "import xgboost as xgb\n",
        "import lightgbm as lgb\n",
        "from sklearn.linear_model import ElasticNet\n",
        "from catboost import CatBoostClassifier\n",
        "from sklearn.linear_model import LogisticRegression\n",
        "import numpy as np\n",
        "from sklearn.linear_model import SGDClassifier\n",
        "from sklearn.preprocessing import StandardScaler\n",
        "from sklearn.pipeline import make_pipeline\n",
        "from sklearn.ensemble import AdaBoostClassifier\n",
        "from sklearn.datasets import make_classification\n",
        "from sklearn.neural_network import MLPClassifier\n",
        "\n",
        "\n",
        "#X, y = make_classification(random_state=0)\n",
        "#X_train, X_test, y_train, y_test = train_test_split(X, y, random_state=42)\n",
        "\n",
        "#x_test=X_test_scaled\n",
        "svc = SVC(random_state=42)\n",
        "svc.fit(X2, y2)\n",
        "rfc = RandomForestClassifier(random_state=42)\n",
        "rfc.fit(X2, y2)\n",
        "cat=CatBoostClassifier()\n",
        "cat.fit(X2, y2)\n",
        "xg=xgb.XGBClassifier()\n",
        "xg.fit(X2, y2)\n",
        "lg= LogisticRegression()\n",
        "lg.fit(X2, y2)\n",
        "adb = AdaBoostClassifier(n_estimators=100, random_state=0)\n",
        "adb.fit(X2, y2)\n",
        "kn = KNeighborsClassifier()\n",
        "kn.fit(X2, y2)\n",
        "dt = DecisionTreeClassifier()\n",
        "dt.fit(X2, y2)\n",
        "nb = GaussianNB()\n",
        "nb.fit(X2, y2)\n",
        "lb=lgb.LGBMClassifier()\n",
        "lb.fit(X2, y2)\n",
        "clf = make_pipeline(StandardScaler(),SGDClassifier(max_iter=1000, tol=1e-3,loss=\"log\", penalty=\"elasticnet\"))\n",
        "clf.fit(X2, y2)\n",
        "bp = clf = MLPClassifier(solver='lbfgs', alpha=1e-5,hidden_layer_sizes=(10, 5), random_state=1)\n",
        "bp.fit(X2,y2)\n",
        "\n",
        "\n",
        "\n",
        "svc_disp = plot_roc_curve(svc, x_test, y_test)\n",
        "rfc_disp = plot_roc_curve(rfc, x_test, y_test, ax=svc_disp.ax_)\n",
        "cat_disp = plot_roc_curve(cat, x_test, y_test, ax=rfc_disp.ax_)\n",
        "xg_disp = plot_roc_curve(xg, x_test, y_test, ax=cat_disp.ax_)\n",
        "lg_disp = plot_roc_curve(lg, x_test, y_test, ax=xg_disp.ax_)\n",
        "kn_disp = plot_roc_curve(kn, x_test, y_test, ax=lg_disp.ax_)\n",
        "dt_disp = plot_roc_curve(dt, x_test, y_test, ax=kn_disp.ax_)\n",
        "nb_disp = plot_roc_curve(nb, x_test, y_test, ax=dt_disp.ax_)\n",
        "lb_disp = plot_roc_curve(lb, x_test, y_test, ax=nb_disp.ax_)\n",
        "clf_disp = plot_roc_curve(clf, x_test, y_test, ax=lb_disp.ax_)\n",
        "adb_disp = plot_roc_curve(adb, x_test, y_test, ax=clf_disp.ax_)\n",
        "bp_disp = plot_roc_curve(bp, x_test, y_test, ax=adb_disp.ax_)\n",
        "rfc_disp.figure_.suptitle(\"ROC curve comparison\")\n",
        "\n",
        "plt.show()"
      ],
      "execution_count": null,
      "outputs": [
        {
          "output_type": "stream",
          "name": "stdout",
          "text": [
            "Learning rate set to 0.008782\n",
            "0:\tlearn: 0.6807455\ttotal: 1.02ms\tremaining: 1.02s\n",
            "1:\tlearn: 0.6674831\ttotal: 1.93ms\tremaining: 963ms\n",
            "2:\tlearn: 0.6552968\ttotal: 2.82ms\tremaining: 938ms\n",
            "3:\tlearn: 0.6423413\ttotal: 3.9ms\tremaining: 971ms\n",
            "4:\tlearn: 0.6315383\ttotal: 4.99ms\tremaining: 993ms\n",
            "5:\tlearn: 0.6204651\ttotal: 6.13ms\tremaining: 1.02s\n",
            "6:\tlearn: 0.6083667\ttotal: 7.23ms\tremaining: 1.02s\n",
            "7:\tlearn: 0.5971830\ttotal: 8.32ms\tremaining: 1.03s\n",
            "8:\tlearn: 0.5862557\ttotal: 9.43ms\tremaining: 1.04s\n",
            "9:\tlearn: 0.5758739\ttotal: 10.5ms\tremaining: 1.04s\n",
            "10:\tlearn: 0.5662882\ttotal: 11.6ms\tremaining: 1.04s\n",
            "11:\tlearn: 0.5558414\ttotal: 12.7ms\tremaining: 1.04s\n",
            "12:\tlearn: 0.5470064\ttotal: 13.8ms\tremaining: 1.05s\n",
            "13:\tlearn: 0.5389755\ttotal: 14.9ms\tremaining: 1.05s\n",
            "14:\tlearn: 0.5297426\ttotal: 16ms\tremaining: 1.05s\n",
            "15:\tlearn: 0.5198614\ttotal: 17.1ms\tremaining: 1.05s\n",
            "16:\tlearn: 0.5109187\ttotal: 18.2ms\tremaining: 1.05s\n",
            "17:\tlearn: 0.5021443\ttotal: 19.3ms\tremaining: 1.05s\n",
            "18:\tlearn: 0.4933450\ttotal: 20.5ms\tremaining: 1.05s\n",
            "19:\tlearn: 0.4854723\ttotal: 21.6ms\tremaining: 1.06s\n",
            "20:\tlearn: 0.4775471\ttotal: 22.7ms\tremaining: 1.06s\n",
            "21:\tlearn: 0.4700372\ttotal: 24ms\tremaining: 1.06s\n",
            "22:\tlearn: 0.4620200\ttotal: 25.1ms\tremaining: 1.07s\n",
            "23:\tlearn: 0.4534631\ttotal: 27.1ms\tremaining: 1.1s\n",
            "24:\tlearn: 0.4461962\ttotal: 28.2ms\tremaining: 1.1s\n",
            "25:\tlearn: 0.4387839\ttotal: 29.3ms\tremaining: 1.1s\n",
            "26:\tlearn: 0.4318424\ttotal: 30.5ms\tremaining: 1.1s\n",
            "27:\tlearn: 0.4249403\ttotal: 31.6ms\tremaining: 1.1s\n",
            "28:\tlearn: 0.4186620\ttotal: 32.7ms\tremaining: 1.09s\n",
            "29:\tlearn: 0.4124350\ttotal: 33.8ms\tremaining: 1.09s\n",
            "30:\tlearn: 0.4064678\ttotal: 34.9ms\tremaining: 1.09s\n",
            "31:\tlearn: 0.4005358\ttotal: 36ms\tremaining: 1.09s\n",
            "32:\tlearn: 0.3955340\ttotal: 37.1ms\tremaining: 1.09s\n",
            "33:\tlearn: 0.3896192\ttotal: 38.2ms\tremaining: 1.09s\n",
            "34:\tlearn: 0.3837719\ttotal: 39.3ms\tremaining: 1.08s\n",
            "35:\tlearn: 0.3778663\ttotal: 40.4ms\tremaining: 1.08s\n",
            "36:\tlearn: 0.3731256\ttotal: 41.5ms\tremaining: 1.08s\n",
            "37:\tlearn: 0.3683163\ttotal: 42.7ms\tremaining: 1.08s\n",
            "38:\tlearn: 0.3618993\ttotal: 43.9ms\tremaining: 1.08s\n",
            "39:\tlearn: 0.3567170\ttotal: 45ms\tremaining: 1.08s\n",
            "40:\tlearn: 0.3519586\ttotal: 46.1ms\tremaining: 1.08s\n",
            "41:\tlearn: 0.3471820\ttotal: 47.2ms\tremaining: 1.08s\n",
            "42:\tlearn: 0.3423598\ttotal: 48.3ms\tremaining: 1.07s\n",
            "43:\tlearn: 0.3377236\ttotal: 49.5ms\tremaining: 1.07s\n",
            "44:\tlearn: 0.3335984\ttotal: 50.5ms\tremaining: 1.07s\n",
            "45:\tlearn: 0.3292189\ttotal: 51.7ms\tremaining: 1.07s\n",
            "46:\tlearn: 0.3250901\ttotal: 52.7ms\tremaining: 1.07s\n",
            "47:\tlearn: 0.3204758\ttotal: 53.8ms\tremaining: 1.07s\n",
            "48:\tlearn: 0.3162382\ttotal: 54.9ms\tremaining: 1.07s\n",
            "49:\tlearn: 0.3124427\ttotal: 56.1ms\tremaining: 1.06s\n",
            "50:\tlearn: 0.3092998\ttotal: 57.2ms\tremaining: 1.06s\n",
            "51:\tlearn: 0.3056942\ttotal: 58.3ms\tremaining: 1.06s\n",
            "52:\tlearn: 0.3021531\ttotal: 59.4ms\tremaining: 1.06s\n",
            "53:\tlearn: 0.2988263\ttotal: 60.5ms\tremaining: 1.06s\n",
            "54:\tlearn: 0.2956074\ttotal: 61.6ms\tremaining: 1.06s\n",
            "55:\tlearn: 0.2923934\ttotal: 62.7ms\tremaining: 1.06s\n",
            "56:\tlearn: 0.2891687\ttotal: 63.8ms\tremaining: 1.06s\n",
            "57:\tlearn: 0.2864794\ttotal: 65ms\tremaining: 1.05s\n",
            "58:\tlearn: 0.2833436\ttotal: 66.1ms\tremaining: 1.05s\n",
            "59:\tlearn: 0.2795275\ttotal: 67.2ms\tremaining: 1.05s\n",
            "60:\tlearn: 0.2764747\ttotal: 68.3ms\tremaining: 1.05s\n",
            "61:\tlearn: 0.2740573\ttotal: 69.4ms\tremaining: 1.05s\n",
            "62:\tlearn: 0.2712532\ttotal: 70.5ms\tremaining: 1.05s\n",
            "63:\tlearn: 0.2686307\ttotal: 71.6ms\tremaining: 1.05s\n",
            "64:\tlearn: 0.2660149\ttotal: 72.7ms\tremaining: 1.05s\n",
            "65:\tlearn: 0.2626287\ttotal: 73.8ms\tremaining: 1.04s\n",
            "66:\tlearn: 0.2598373\ttotal: 75ms\tremaining: 1.04s\n",
            "67:\tlearn: 0.2574626\ttotal: 76.1ms\tremaining: 1.04s\n",
            "68:\tlearn: 0.2549346\ttotal: 77.2ms\tremaining: 1.04s\n",
            "69:\tlearn: 0.2525956\ttotal: 78.3ms\tremaining: 1.04s\n",
            "70:\tlearn: 0.2501541\ttotal: 79.4ms\tremaining: 1.04s\n",
            "71:\tlearn: 0.2479109\ttotal: 80.5ms\tremaining: 1.04s\n",
            "72:\tlearn: 0.2458646\ttotal: 81.6ms\tremaining: 1.04s\n",
            "73:\tlearn: 0.2437153\ttotal: 82.8ms\tremaining: 1.03s\n",
            "74:\tlearn: 0.2416007\ttotal: 83.9ms\tremaining: 1.03s\n",
            "75:\tlearn: 0.2393797\ttotal: 85ms\tremaining: 1.03s\n",
            "76:\tlearn: 0.2366476\ttotal: 86.1ms\tremaining: 1.03s\n",
            "77:\tlearn: 0.2345192\ttotal: 87.2ms\tremaining: 1.03s\n",
            "78:\tlearn: 0.2321625\ttotal: 88.3ms\tremaining: 1.03s\n",
            "79:\tlearn: 0.2304296\ttotal: 89.4ms\tremaining: 1.03s\n",
            "80:\tlearn: 0.2284169\ttotal: 90.5ms\tremaining: 1.03s\n",
            "81:\tlearn: 0.2265008\ttotal: 91.6ms\tremaining: 1.02s\n",
            "82:\tlearn: 0.2245639\ttotal: 92.7ms\tremaining: 1.02s\n",
            "83:\tlearn: 0.2226216\ttotal: 93.8ms\tremaining: 1.02s\n",
            "84:\tlearn: 0.2210378\ttotal: 94.9ms\tremaining: 1.02s\n",
            "85:\tlearn: 0.2193723\ttotal: 96ms\tremaining: 1.02s\n",
            "86:\tlearn: 0.2176684\ttotal: 97.1ms\tremaining: 1.02s\n",
            "87:\tlearn: 0.2156369\ttotal: 98.2ms\tremaining: 1.02s\n",
            "88:\tlearn: 0.2136603\ttotal: 99.3ms\tremaining: 1.02s\n",
            "89:\tlearn: 0.2122158\ttotal: 100ms\tremaining: 1.01s\n",
            "90:\tlearn: 0.2105019\ttotal: 102ms\tremaining: 1.01s\n",
            "91:\tlearn: 0.2092098\ttotal: 103ms\tremaining: 1.02s\n",
            "92:\tlearn: 0.2079487\ttotal: 104ms\tremaining: 1.02s\n",
            "93:\tlearn: 0.2057805\ttotal: 106ms\tremaining: 1.02s\n",
            "94:\tlearn: 0.2046295\ttotal: 107ms\tremaining: 1.02s\n",
            "95:\tlearn: 0.2033099\ttotal: 108ms\tremaining: 1.01s\n",
            "96:\tlearn: 0.2018046\ttotal: 109ms\tremaining: 1.01s\n",
            "97:\tlearn: 0.2005405\ttotal: 110ms\tremaining: 1.01s\n",
            "98:\tlearn: 0.1991291\ttotal: 111ms\tremaining: 1.01s\n",
            "99:\tlearn: 0.1979170\ttotal: 113ms\tremaining: 1.02s\n",
            "100:\tlearn: 0.1968671\ttotal: 114ms\tremaining: 1.02s\n",
            "101:\tlearn: 0.1958400\ttotal: 116ms\tremaining: 1.02s\n",
            "102:\tlearn: 0.1948341\ttotal: 117ms\tremaining: 1.02s\n",
            "103:\tlearn: 0.1933725\ttotal: 118ms\tremaining: 1.01s\n",
            "104:\tlearn: 0.1920912\ttotal: 119ms\tremaining: 1.01s\n",
            "105:\tlearn: 0.1909486\ttotal: 120ms\tremaining: 1.01s\n",
            "106:\tlearn: 0.1898653\ttotal: 121ms\tremaining: 1.01s\n",
            "107:\tlearn: 0.1884145\ttotal: 122ms\tremaining: 1.01s\n",
            "108:\tlearn: 0.1872892\ttotal: 123ms\tremaining: 1.01s\n",
            "109:\tlearn: 0.1861738\ttotal: 125ms\tremaining: 1.01s\n",
            "110:\tlearn: 0.1850824\ttotal: 126ms\tremaining: 1.01s\n",
            "111:\tlearn: 0.1840360\ttotal: 127ms\tremaining: 1s\n",
            "112:\tlearn: 0.1830319\ttotal: 128ms\tremaining: 1s\n",
            "113:\tlearn: 0.1820854\ttotal: 129ms\tremaining: 1s\n",
            "114:\tlearn: 0.1811764\ttotal: 130ms\tremaining: 1s\n",
            "115:\tlearn: 0.1803003\ttotal: 131ms\tremaining: 999ms\n",
            "116:\tlearn: 0.1794263\ttotal: 132ms\tremaining: 998ms\n",
            "117:\tlearn: 0.1782217\ttotal: 133ms\tremaining: 997ms\n",
            "118:\tlearn: 0.1772330\ttotal: 135ms\tremaining: 996ms\n",
            "119:\tlearn: 0.1765715\ttotal: 136ms\tremaining: 995ms\n",
            "120:\tlearn: 0.1755355\ttotal: 137ms\tremaining: 993ms\n",
            "121:\tlearn: 0.1740293\ttotal: 138ms\tremaining: 992ms\n",
            "122:\tlearn: 0.1732819\ttotal: 139ms\tremaining: 991ms\n",
            "123:\tlearn: 0.1725079\ttotal: 140ms\tremaining: 989ms\n",
            "124:\tlearn: 0.1717722\ttotal: 141ms\tremaining: 989ms\n",
            "125:\tlearn: 0.1710698\ttotal: 142ms\tremaining: 987ms\n",
            "126:\tlearn: 0.1700612\ttotal: 143ms\tremaining: 986ms\n",
            "127:\tlearn: 0.1693227\ttotal: 145ms\tremaining: 985ms\n",
            "128:\tlearn: 0.1679747\ttotal: 146ms\tremaining: 986ms\n",
            "129:\tlearn: 0.1670907\ttotal: 147ms\tremaining: 984ms\n",
            "130:\tlearn: 0.1665567\ttotal: 148ms\tremaining: 983ms\n",
            "131:\tlearn: 0.1659091\ttotal: 149ms\tremaining: 982ms\n",
            "132:\tlearn: 0.1653112\ttotal: 150ms\tremaining: 981ms\n",
            "133:\tlearn: 0.1644131\ttotal: 152ms\tremaining: 979ms\n",
            "134:\tlearn: 0.1636113\ttotal: 153ms\tremaining: 978ms\n",
            "135:\tlearn: 0.1630278\ttotal: 154ms\tremaining: 977ms\n",
            "136:\tlearn: 0.1625136\ttotal: 155ms\tremaining: 976ms\n",
            "137:\tlearn: 0.1615858\ttotal: 156ms\tremaining: 975ms\n",
            "138:\tlearn: 0.1609757\ttotal: 157ms\tremaining: 974ms\n",
            "139:\tlearn: 0.1605230\ttotal: 158ms\tremaining: 973ms\n",
            "140:\tlearn: 0.1600770\ttotal: 159ms\tremaining: 971ms\n",
            "141:\tlearn: 0.1595665\ttotal: 161ms\tremaining: 970ms\n",
            "142:\tlearn: 0.1590824\ttotal: 162ms\tremaining: 969ms\n",
            "143:\tlearn: 0.1586937\ttotal: 163ms\tremaining: 967ms\n",
            "144:\tlearn: 0.1581747\ttotal: 164ms\tremaining: 966ms\n",
            "145:\tlearn: 0.1575753\ttotal: 165ms\tremaining: 965ms\n",
            "146:\tlearn: 0.1570959\ttotal: 166ms\tremaining: 963ms\n",
            "147:\tlearn: 0.1562506\ttotal: 167ms\tremaining: 962ms\n",
            "148:\tlearn: 0.1557934\ttotal: 168ms\tremaining: 961ms\n",
            "149:\tlearn: 0.1553623\ttotal: 169ms\tremaining: 959ms\n",
            "150:\tlearn: 0.1548596\ttotal: 170ms\tremaining: 958ms\n",
            "151:\tlearn: 0.1544627\ttotal: 172ms\tremaining: 957ms\n",
            "152:\tlearn: 0.1539526\ttotal: 173ms\tremaining: 956ms\n",
            "153:\tlearn: 0.1534368\ttotal: 174ms\tremaining: 955ms\n",
            "154:\tlearn: 0.1528603\ttotal: 175ms\tremaining: 954ms\n",
            "155:\tlearn: 0.1521639\ttotal: 176ms\tremaining: 952ms\n",
            "156:\tlearn: 0.1516895\ttotal: 177ms\tremaining: 951ms\n",
            "157:\tlearn: 0.1513012\ttotal: 178ms\tremaining: 950ms\n",
            "158:\tlearn: 0.1507935\ttotal: 181ms\tremaining: 956ms\n",
            "159:\tlearn: 0.1503966\ttotal: 182ms\tremaining: 957ms\n",
            "160:\tlearn: 0.1500046\ttotal: 186ms\tremaining: 971ms\n",
            "161:\tlearn: 0.1496498\ttotal: 188ms\tremaining: 970ms\n",
            "162:\tlearn: 0.1490831\ttotal: 189ms\tremaining: 969ms\n",
            "163:\tlearn: 0.1486659\ttotal: 190ms\tremaining: 968ms\n",
            "164:\tlearn: 0.1477788\ttotal: 191ms\tremaining: 967ms\n",
            "165:\tlearn: 0.1472095\ttotal: 192ms\tremaining: 965ms\n",
            "166:\tlearn: 0.1468704\ttotal: 193ms\tremaining: 964ms\n",
            "167:\tlearn: 0.1461315\ttotal: 194ms\tremaining: 962ms\n",
            "168:\tlearn: 0.1454883\ttotal: 195ms\tremaining: 961ms\n",
            "169:\tlearn: 0.1451146\ttotal: 197ms\tremaining: 960ms\n",
            "170:\tlearn: 0.1445757\ttotal: 198ms\tremaining: 958ms\n",
            "171:\tlearn: 0.1442424\ttotal: 199ms\tremaining: 957ms\n",
            "172:\tlearn: 0.1439271\ttotal: 200ms\tremaining: 955ms\n",
            "173:\tlearn: 0.1435763\ttotal: 201ms\tremaining: 954ms\n",
            "174:\tlearn: 0.1431307\ttotal: 202ms\tremaining: 953ms\n",
            "175:\tlearn: 0.1426492\ttotal: 203ms\tremaining: 952ms\n",
            "176:\tlearn: 0.1421464\ttotal: 204ms\tremaining: 950ms\n",
            "177:\tlearn: 0.1414651\ttotal: 206ms\tremaining: 949ms\n",
            "178:\tlearn: 0.1411282\ttotal: 207ms\tremaining: 948ms\n",
            "179:\tlearn: 0.1407883\ttotal: 208ms\tremaining: 946ms\n",
            "180:\tlearn: 0.1403719\ttotal: 209ms\tremaining: 945ms\n",
            "181:\tlearn: 0.1400697\ttotal: 210ms\tremaining: 944ms\n",
            "182:\tlearn: 0.1396586\ttotal: 211ms\tremaining: 943ms\n",
            "183:\tlearn: 0.1393150\ttotal: 212ms\tremaining: 942ms\n",
            "184:\tlearn: 0.1390302\ttotal: 213ms\tremaining: 940ms\n",
            "185:\tlearn: 0.1387959\ttotal: 215ms\tremaining: 939ms\n",
            "186:\tlearn: 0.1383657\ttotal: 216ms\tremaining: 938ms\n",
            "187:\tlearn: 0.1381774\ttotal: 217ms\tremaining: 937ms\n",
            "188:\tlearn: 0.1379041\ttotal: 218ms\tremaining: 935ms\n",
            "189:\tlearn: 0.1376362\ttotal: 219ms\tremaining: 934ms\n",
            "190:\tlearn: 0.1373664\ttotal: 220ms\tremaining: 933ms\n",
            "191:\tlearn: 0.1370591\ttotal: 221ms\tremaining: 931ms\n",
            "192:\tlearn: 0.1364880\ttotal: 222ms\tremaining: 930ms\n",
            "193:\tlearn: 0.1362649\ttotal: 224ms\tremaining: 929ms\n",
            "194:\tlearn: 0.1359208\ttotal: 225ms\tremaining: 928ms\n",
            "195:\tlearn: 0.1357519\ttotal: 226ms\tremaining: 927ms\n",
            "196:\tlearn: 0.1355136\ttotal: 227ms\tremaining: 925ms\n",
            "197:\tlearn: 0.1351842\ttotal: 228ms\tremaining: 924ms\n",
            "198:\tlearn: 0.1346493\ttotal: 229ms\tremaining: 923ms\n",
            "199:\tlearn: 0.1341454\ttotal: 230ms\tremaining: 921ms\n",
            "200:\tlearn: 0.1337786\ttotal: 231ms\tremaining: 920ms\n",
            "201:\tlearn: 0.1335887\ttotal: 233ms\tremaining: 919ms\n",
            "202:\tlearn: 0.1333325\ttotal: 234ms\tremaining: 917ms\n",
            "203:\tlearn: 0.1331399\ttotal: 235ms\tremaining: 916ms\n",
            "204:\tlearn: 0.1327475\ttotal: 236ms\tremaining: 914ms\n",
            "205:\tlearn: 0.1325281\ttotal: 237ms\tremaining: 913ms\n",
            "206:\tlearn: 0.1322234\ttotal: 238ms\tremaining: 912ms\n",
            "207:\tlearn: 0.1317554\ttotal: 239ms\tremaining: 911ms\n",
            "208:\tlearn: 0.1312480\ttotal: 240ms\tremaining: 909ms\n",
            "209:\tlearn: 0.1311029\ttotal: 241ms\tremaining: 908ms\n",
            "210:\tlearn: 0.1306397\ttotal: 243ms\tremaining: 907ms\n",
            "211:\tlearn: 0.1304340\ttotal: 244ms\tremaining: 905ms\n",
            "212:\tlearn: 0.1302182\ttotal: 245ms\tremaining: 904ms\n",
            "213:\tlearn: 0.1298879\ttotal: 246ms\tremaining: 903ms\n",
            "214:\tlearn: 0.1296720\ttotal: 247ms\tremaining: 902ms\n",
            "215:\tlearn: 0.1294427\ttotal: 248ms\tremaining: 902ms\n",
            "216:\tlearn: 0.1289619\ttotal: 252ms\tremaining: 908ms\n",
            "217:\tlearn: 0.1287031\ttotal: 253ms\tremaining: 907ms\n",
            "218:\tlearn: 0.1284442\ttotal: 257ms\tremaining: 918ms\n",
            "219:\tlearn: 0.1281843\ttotal: 258ms\tremaining: 916ms\n",
            "220:\tlearn: 0.1279850\ttotal: 260ms\tremaining: 915ms\n",
            "221:\tlearn: 0.1277190\ttotal: 261ms\tremaining: 914ms\n",
            "222:\tlearn: 0.1275277\ttotal: 262ms\tremaining: 912ms\n",
            "223:\tlearn: 0.1273169\ttotal: 263ms\tremaining: 911ms\n",
            "224:\tlearn: 0.1269935\ttotal: 264ms\tremaining: 909ms\n",
            "225:\tlearn: 0.1268356\ttotal: 265ms\tremaining: 908ms\n",
            "226:\tlearn: 0.1266554\ttotal: 266ms\tremaining: 906ms\n",
            "227:\tlearn: 0.1264098\ttotal: 267ms\tremaining: 905ms\n",
            "228:\tlearn: 0.1261256\ttotal: 268ms\tremaining: 904ms\n",
            "229:\tlearn: 0.1259318\ttotal: 270ms\tremaining: 903ms\n",
            "230:\tlearn: 0.1255444\ttotal: 271ms\tremaining: 901ms\n",
            "231:\tlearn: 0.1253139\ttotal: 272ms\tremaining: 900ms\n",
            "232:\tlearn: 0.1251000\ttotal: 273ms\tremaining: 898ms\n",
            "233:\tlearn: 0.1249128\ttotal: 274ms\tremaining: 897ms\n",
            "234:\tlearn: 0.1246948\ttotal: 275ms\tremaining: 896ms\n",
            "235:\tlearn: 0.1245173\ttotal: 276ms\tremaining: 894ms\n",
            "236:\tlearn: 0.1243872\ttotal: 277ms\tremaining: 893ms\n",
            "237:\tlearn: 0.1239958\ttotal: 278ms\tremaining: 891ms\n",
            "238:\tlearn: 0.1236457\ttotal: 280ms\tremaining: 890ms\n",
            "239:\tlearn: 0.1234131\ttotal: 281ms\tremaining: 889ms\n",
            "240:\tlearn: 0.1232748\ttotal: 282ms\tremaining: 887ms\n",
            "241:\tlearn: 0.1231109\ttotal: 283ms\tremaining: 886ms\n",
            "242:\tlearn: 0.1229898\ttotal: 284ms\tremaining: 884ms\n",
            "243:\tlearn: 0.1229012\ttotal: 285ms\tremaining: 883ms\n",
            "244:\tlearn: 0.1227168\ttotal: 286ms\tremaining: 882ms\n",
            "245:\tlearn: 0.1225491\ttotal: 287ms\tremaining: 880ms\n",
            "246:\tlearn: 0.1224234\ttotal: 288ms\tremaining: 879ms\n",
            "247:\tlearn: 0.1222115\ttotal: 290ms\tremaining: 878ms\n",
            "248:\tlearn: 0.1220139\ttotal: 291ms\tremaining: 877ms\n",
            "249:\tlearn: 0.1218501\ttotal: 292ms\tremaining: 875ms\n",
            "250:\tlearn: 0.1216804\ttotal: 293ms\tremaining: 874ms\n",
            "251:\tlearn: 0.1215499\ttotal: 294ms\tremaining: 873ms\n",
            "252:\tlearn: 0.1213900\ttotal: 295ms\tremaining: 872ms\n",
            "253:\tlearn: 0.1212593\ttotal: 296ms\tremaining: 871ms\n",
            "254:\tlearn: 0.1210996\ttotal: 298ms\tremaining: 869ms\n",
            "255:\tlearn: 0.1209228\ttotal: 299ms\tremaining: 868ms\n",
            "256:\tlearn: 0.1205407\ttotal: 300ms\tremaining: 867ms\n",
            "257:\tlearn: 0.1202243\ttotal: 301ms\tremaining: 865ms\n",
            "258:\tlearn: 0.1200328\ttotal: 302ms\tremaining: 864ms\n",
            "259:\tlearn: 0.1198570\ttotal: 303ms\tremaining: 863ms\n",
            "260:\tlearn: 0.1196168\ttotal: 304ms\tremaining: 861ms\n",
            "261:\tlearn: 0.1193051\ttotal: 305ms\tremaining: 860ms\n",
            "262:\tlearn: 0.1189051\ttotal: 307ms\tremaining: 859ms\n",
            "263:\tlearn: 0.1186775\ttotal: 308ms\tremaining: 858ms\n",
            "264:\tlearn: 0.1184551\ttotal: 309ms\tremaining: 856ms\n",
            "265:\tlearn: 0.1182629\ttotal: 310ms\tremaining: 855ms\n",
            "266:\tlearn: 0.1181296\ttotal: 311ms\tremaining: 854ms\n",
            "267:\tlearn: 0.1179557\ttotal: 312ms\tremaining: 852ms\n",
            "268:\tlearn: 0.1178128\ttotal: 313ms\tremaining: 851ms\n",
            "269:\tlearn: 0.1175635\ttotal: 314ms\tremaining: 850ms\n",
            "270:\tlearn: 0.1174163\ttotal: 315ms\tremaining: 849ms\n",
            "271:\tlearn: 0.1172236\ttotal: 317ms\tremaining: 847ms\n",
            "272:\tlearn: 0.1169549\ttotal: 318ms\tremaining: 846ms\n",
            "273:\tlearn: 0.1167751\ttotal: 319ms\tremaining: 845ms\n",
            "274:\tlearn: 0.1165501\ttotal: 320ms\tremaining: 843ms\n",
            "275:\tlearn: 0.1163915\ttotal: 321ms\tremaining: 842ms\n",
            "276:\tlearn: 0.1162428\ttotal: 322ms\tremaining: 842ms\n",
            "277:\tlearn: 0.1161016\ttotal: 324ms\tremaining: 840ms\n",
            "278:\tlearn: 0.1159919\ttotal: 325ms\tremaining: 839ms\n",
            "279:\tlearn: 0.1158445\ttotal: 326ms\tremaining: 838ms\n",
            "280:\tlearn: 0.1157506\ttotal: 327ms\tremaining: 837ms\n",
            "281:\tlearn: 0.1156278\ttotal: 328ms\tremaining: 836ms\n",
            "282:\tlearn: 0.1154348\ttotal: 330ms\tremaining: 835ms\n",
            "283:\tlearn: 0.1152919\ttotal: 331ms\tremaining: 834ms\n",
            "284:\tlearn: 0.1151274\ttotal: 332ms\tremaining: 832ms\n",
            "285:\tlearn: 0.1149331\ttotal: 333ms\tremaining: 831ms\n",
            "286:\tlearn: 0.1146071\ttotal: 334ms\tremaining: 830ms\n",
            "287:\tlearn: 0.1144858\ttotal: 335ms\tremaining: 829ms\n",
            "288:\tlearn: 0.1142585\ttotal: 336ms\tremaining: 828ms\n",
            "289:\tlearn: 0.1141121\ttotal: 338ms\tremaining: 827ms\n",
            "290:\tlearn: 0.1139701\ttotal: 339ms\tremaining: 825ms\n",
            "291:\tlearn: 0.1137944\ttotal: 340ms\tremaining: 824ms\n",
            "292:\tlearn: 0.1137199\ttotal: 341ms\tremaining: 823ms\n",
            "293:\tlearn: 0.1136075\ttotal: 342ms\tremaining: 822ms\n",
            "294:\tlearn: 0.1134859\ttotal: 343ms\tremaining: 820ms\n",
            "295:\tlearn: 0.1131828\ttotal: 344ms\tremaining: 819ms\n",
            "296:\tlearn: 0.1130915\ttotal: 346ms\tremaining: 818ms\n",
            "297:\tlearn: 0.1129509\ttotal: 347ms\tremaining: 817ms\n",
            "298:\tlearn: 0.1128527\ttotal: 348ms\tremaining: 816ms\n",
            "299:\tlearn: 0.1127038\ttotal: 349ms\tremaining: 814ms\n",
            "300:\tlearn: 0.1125816\ttotal: 350ms\tremaining: 813ms\n",
            "301:\tlearn: 0.1125002\ttotal: 351ms\tremaining: 812ms\n",
            "302:\tlearn: 0.1124206\ttotal: 352ms\tremaining: 811ms\n",
            "303:\tlearn: 0.1121438\ttotal: 354ms\tremaining: 810ms\n",
            "304:\tlearn: 0.1120773\ttotal: 355ms\tremaining: 808ms\n",
            "305:\tlearn: 0.1118390\ttotal: 356ms\tremaining: 807ms\n",
            "306:\tlearn: 0.1117902\ttotal: 357ms\tremaining: 806ms\n",
            "307:\tlearn: 0.1116641\ttotal: 358ms\tremaining: 804ms\n",
            "308:\tlearn: 0.1115122\ttotal: 359ms\tremaining: 803ms\n",
            "309:\tlearn: 0.1114409\ttotal: 360ms\tremaining: 802ms\n",
            "310:\tlearn: 0.1113251\ttotal: 361ms\tremaining: 800ms\n",
            "311:\tlearn: 0.1111869\ttotal: 362ms\tremaining: 799ms\n",
            "312:\tlearn: 0.1110962\ttotal: 364ms\tremaining: 798ms\n",
            "313:\tlearn: 0.1110685\ttotal: 366ms\tremaining: 800ms\n",
            "314:\tlearn: 0.1109142\ttotal: 370ms\tremaining: 805ms\n",
            "315:\tlearn: 0.1107892\ttotal: 372ms\tremaining: 805ms\n",
            "316:\tlearn: 0.1106685\ttotal: 373ms\tremaining: 804ms\n",
            "317:\tlearn: 0.1105404\ttotal: 374ms\tremaining: 803ms\n",
            "318:\tlearn: 0.1104081\ttotal: 376ms\tremaining: 802ms\n",
            "319:\tlearn: 0.1102993\ttotal: 377ms\tremaining: 800ms\n",
            "320:\tlearn: 0.1102149\ttotal: 378ms\tremaining: 799ms\n",
            "321:\tlearn: 0.1101199\ttotal: 379ms\tremaining: 798ms\n",
            "322:\tlearn: 0.1099911\ttotal: 380ms\tremaining: 797ms\n",
            "323:\tlearn: 0.1098979\ttotal: 381ms\tremaining: 795ms\n",
            "324:\tlearn: 0.1097103\ttotal: 382ms\tremaining: 794ms\n",
            "325:\tlearn: 0.1094808\ttotal: 384ms\tremaining: 793ms\n",
            "326:\tlearn: 0.1093398\ttotal: 385ms\tremaining: 792ms\n",
            "327:\tlearn: 0.1092913\ttotal: 386ms\tremaining: 791ms\n",
            "328:\tlearn: 0.1092109\ttotal: 387ms\tremaining: 789ms\n",
            "329:\tlearn: 0.1089357\ttotal: 388ms\tremaining: 788ms\n",
            "330:\tlearn: 0.1088383\ttotal: 389ms\tremaining: 787ms\n",
            "331:\tlearn: 0.1087238\ttotal: 391ms\tremaining: 786ms\n",
            "332:\tlearn: 0.1084428\ttotal: 392ms\tremaining: 785ms\n",
            "333:\tlearn: 0.1083707\ttotal: 393ms\tremaining: 783ms\n",
            "334:\tlearn: 0.1082861\ttotal: 394ms\tremaining: 782ms\n",
            "335:\tlearn: 0.1081601\ttotal: 395ms\tremaining: 781ms\n",
            "336:\tlearn: 0.1080079\ttotal: 396ms\tremaining: 779ms\n",
            "337:\tlearn: 0.1078320\ttotal: 397ms\tremaining: 778ms\n",
            "338:\tlearn: 0.1075690\ttotal: 398ms\tremaining: 777ms\n",
            "339:\tlearn: 0.1075221\ttotal: 400ms\tremaining: 776ms\n",
            "340:\tlearn: 0.1073894\ttotal: 401ms\tremaining: 774ms\n",
            "341:\tlearn: 0.1072969\ttotal: 402ms\tremaining: 773ms\n",
            "342:\tlearn: 0.1071974\ttotal: 403ms\tremaining: 772ms\n",
            "343:\tlearn: 0.1070893\ttotal: 404ms\tremaining: 771ms\n",
            "344:\tlearn: 0.1070069\ttotal: 405ms\tremaining: 770ms\n",
            "345:\tlearn: 0.1069140\ttotal: 407ms\tremaining: 769ms\n",
            "346:\tlearn: 0.1067155\ttotal: 408ms\tremaining: 767ms\n",
            "347:\tlearn: 0.1066430\ttotal: 409ms\tremaining: 766ms\n",
            "348:\tlearn: 0.1065700\ttotal: 410ms\tremaining: 765ms\n",
            "349:\tlearn: 0.1065039\ttotal: 411ms\tremaining: 764ms\n",
            "350:\tlearn: 0.1063666\ttotal: 412ms\tremaining: 762ms\n",
            "351:\tlearn: 0.1062281\ttotal: 413ms\tremaining: 761ms\n",
            "352:\tlearn: 0.1060304\ttotal: 415ms\tremaining: 760ms\n",
            "353:\tlearn: 0.1058419\ttotal: 416ms\tremaining: 759ms\n",
            "354:\tlearn: 0.1057581\ttotal: 417ms\tremaining: 757ms\n",
            "355:\tlearn: 0.1057028\ttotal: 418ms\tremaining: 756ms\n",
            "356:\tlearn: 0.1055856\ttotal: 419ms\tremaining: 755ms\n",
            "357:\tlearn: 0.1054916\ttotal: 420ms\tremaining: 754ms\n",
            "358:\tlearn: 0.1053819\ttotal: 421ms\tremaining: 752ms\n",
            "359:\tlearn: 0.1052944\ttotal: 423ms\tremaining: 751ms\n",
            "360:\tlearn: 0.1050848\ttotal: 424ms\tremaining: 750ms\n",
            "361:\tlearn: 0.1049563\ttotal: 425ms\tremaining: 749ms\n",
            "362:\tlearn: 0.1048720\ttotal: 426ms\tremaining: 748ms\n",
            "363:\tlearn: 0.1047723\ttotal: 427ms\tremaining: 746ms\n",
            "364:\tlearn: 0.1046956\ttotal: 428ms\tremaining: 745ms\n",
            "365:\tlearn: 0.1046351\ttotal: 429ms\tremaining: 744ms\n",
            "366:\tlearn: 0.1045429\ttotal: 430ms\tremaining: 743ms\n",
            "367:\tlearn: 0.1044836\ttotal: 432ms\tremaining: 741ms\n",
            "368:\tlearn: 0.1043947\ttotal: 433ms\tremaining: 740ms\n",
            "369:\tlearn: 0.1043003\ttotal: 434ms\tremaining: 739ms\n",
            "370:\tlearn: 0.1042150\ttotal: 435ms\tremaining: 738ms\n",
            "371:\tlearn: 0.1041639\ttotal: 436ms\tremaining: 736ms\n",
            "372:\tlearn: 0.1041022\ttotal: 437ms\tremaining: 735ms\n",
            "373:\tlearn: 0.1040089\ttotal: 438ms\tremaining: 734ms\n",
            "374:\tlearn: 0.1039462\ttotal: 440ms\tremaining: 733ms\n",
            "375:\tlearn: 0.1038816\ttotal: 441ms\tremaining: 731ms\n",
            "376:\tlearn: 0.1037091\ttotal: 442ms\tremaining: 730ms\n",
            "377:\tlearn: 0.1035697\ttotal: 443ms\tremaining: 729ms\n",
            "378:\tlearn: 0.1033769\ttotal: 444ms\tremaining: 727ms\n",
            "379:\tlearn: 0.1032478\ttotal: 445ms\tremaining: 726ms\n",
            "380:\tlearn: 0.1031622\ttotal: 446ms\tremaining: 725ms\n",
            "381:\tlearn: 0.1030273\ttotal: 447ms\tremaining: 724ms\n",
            "382:\tlearn: 0.1029456\ttotal: 448ms\tremaining: 722ms\n",
            "383:\tlearn: 0.1027980\ttotal: 450ms\tremaining: 721ms\n",
            "384:\tlearn: 0.1027274\ttotal: 451ms\tremaining: 720ms\n",
            "385:\tlearn: 0.1026524\ttotal: 452ms\tremaining: 719ms\n",
            "386:\tlearn: 0.1025016\ttotal: 453ms\tremaining: 717ms\n",
            "387:\tlearn: 0.1022898\ttotal: 454ms\tremaining: 716ms\n",
            "388:\tlearn: 0.1022106\ttotal: 455ms\tremaining: 715ms\n",
            "389:\tlearn: 0.1021550\ttotal: 456ms\tremaining: 714ms\n",
            "390:\tlearn: 0.1021184\ttotal: 457ms\tremaining: 713ms\n",
            "391:\tlearn: 0.1020586\ttotal: 459ms\tremaining: 711ms\n",
            "392:\tlearn: 0.1019777\ttotal: 460ms\tremaining: 710ms\n",
            "393:\tlearn: 0.1018802\ttotal: 461ms\tremaining: 709ms\n",
            "394:\tlearn: 0.1017742\ttotal: 462ms\tremaining: 707ms\n",
            "395:\tlearn: 0.1016865\ttotal: 463ms\tremaining: 706ms\n",
            "396:\tlearn: 0.1015948\ttotal: 464ms\tremaining: 705ms\n",
            "397:\tlearn: 0.1014665\ttotal: 465ms\tremaining: 704ms\n",
            "398:\tlearn: 0.1013814\ttotal: 466ms\tremaining: 702ms\n",
            "399:\tlearn: 0.1013411\ttotal: 467ms\tremaining: 701ms\n",
            "400:\tlearn: 0.1012589\ttotal: 468ms\tremaining: 700ms\n",
            "401:\tlearn: 0.1011659\ttotal: 470ms\tremaining: 699ms\n",
            "402:\tlearn: 0.1010502\ttotal: 471ms\tremaining: 697ms\n",
            "403:\tlearn: 0.1009273\ttotal: 472ms\tremaining: 696ms\n",
            "404:\tlearn: 0.1008341\ttotal: 473ms\tremaining: 695ms\n",
            "405:\tlearn: 0.1007906\ttotal: 474ms\tremaining: 694ms\n",
            "406:\tlearn: 0.1007008\ttotal: 475ms\tremaining: 692ms\n",
            "407:\tlearn: 0.1006602\ttotal: 476ms\tremaining: 691ms\n",
            "408:\tlearn: 0.1005267\ttotal: 477ms\tremaining: 690ms\n",
            "409:\tlearn: 0.1004662\ttotal: 478ms\tremaining: 689ms\n",
            "410:\tlearn: 0.1004057\ttotal: 480ms\tremaining: 687ms\n",
            "411:\tlearn: 0.1003242\ttotal: 481ms\tremaining: 686ms\n",
            "412:\tlearn: 0.1002501\ttotal: 482ms\tremaining: 685ms\n",
            "413:\tlearn: 0.1001923\ttotal: 483ms\tremaining: 684ms\n",
            "414:\tlearn: 0.1000316\ttotal: 484ms\tremaining: 682ms\n",
            "415:\tlearn: 0.0999554\ttotal: 485ms\tremaining: 681ms\n",
            "416:\tlearn: 0.0998701\ttotal: 486ms\tremaining: 680ms\n",
            "417:\tlearn: 0.0998112\ttotal: 487ms\tremaining: 679ms\n",
            "418:\tlearn: 0.0996977\ttotal: 489ms\tremaining: 677ms\n",
            "419:\tlearn: 0.0995698\ttotal: 490ms\tremaining: 676ms\n",
            "420:\tlearn: 0.0994942\ttotal: 491ms\tremaining: 675ms\n",
            "421:\tlearn: 0.0994496\ttotal: 492ms\tremaining: 674ms\n",
            "422:\tlearn: 0.0994208\ttotal: 493ms\tremaining: 673ms\n",
            "423:\tlearn: 0.0993644\ttotal: 494ms\tremaining: 671ms\n",
            "424:\tlearn: 0.0993373\ttotal: 495ms\tremaining: 670ms\n",
            "425:\tlearn: 0.0992945\ttotal: 496ms\tremaining: 669ms\n",
            "426:\tlearn: 0.0992112\ttotal: 498ms\tremaining: 668ms\n",
            "427:\tlearn: 0.0991125\ttotal: 499ms\tremaining: 666ms\n",
            "428:\tlearn: 0.0990717\ttotal: 500ms\tremaining: 665ms\n",
            "429:\tlearn: 0.0990005\ttotal: 501ms\tremaining: 664ms\n",
            "430:\tlearn: 0.0989538\ttotal: 502ms\tremaining: 663ms\n",
            "431:\tlearn: 0.0988915\ttotal: 503ms\tremaining: 661ms\n",
            "432:\tlearn: 0.0988438\ttotal: 504ms\tremaining: 660ms\n",
            "433:\tlearn: 0.0987025\ttotal: 505ms\tremaining: 659ms\n",
            "434:\tlearn: 0.0986567\ttotal: 506ms\tremaining: 658ms\n",
            "435:\tlearn: 0.0986137\ttotal: 508ms\tremaining: 657ms\n",
            "436:\tlearn: 0.0985503\ttotal: 509ms\tremaining: 655ms\n",
            "437:\tlearn: 0.0984435\ttotal: 510ms\tremaining: 654ms\n",
            "438:\tlearn: 0.0983816\ttotal: 511ms\tremaining: 653ms\n",
            "439:\tlearn: 0.0983297\ttotal: 512ms\tremaining: 652ms\n",
            "440:\tlearn: 0.0982626\ttotal: 513ms\tremaining: 650ms\n",
            "441:\tlearn: 0.0981514\ttotal: 514ms\tremaining: 649ms\n",
            "442:\tlearn: 0.0980670\ttotal: 515ms\tremaining: 648ms\n",
            "443:\tlearn: 0.0980101\ttotal: 517ms\tremaining: 647ms\n",
            "444:\tlearn: 0.0978285\ttotal: 518ms\tremaining: 646ms\n",
            "445:\tlearn: 0.0976946\ttotal: 519ms\tremaining: 644ms\n",
            "446:\tlearn: 0.0976081\ttotal: 520ms\tremaining: 643ms\n",
            "447:\tlearn: 0.0975514\ttotal: 521ms\tremaining: 642ms\n",
            "448:\tlearn: 0.0974903\ttotal: 522ms\tremaining: 641ms\n",
            "449:\tlearn: 0.0973842\ttotal: 523ms\tremaining: 639ms\n",
            "450:\tlearn: 0.0973221\ttotal: 524ms\tremaining: 638ms\n",
            "451:\tlearn: 0.0972929\ttotal: 525ms\tremaining: 637ms\n",
            "452:\tlearn: 0.0972280\ttotal: 526ms\tremaining: 636ms\n",
            "453:\tlearn: 0.0971287\ttotal: 528ms\tremaining: 634ms\n",
            "454:\tlearn: 0.0970603\ttotal: 529ms\tremaining: 633ms\n",
            "455:\tlearn: 0.0969677\ttotal: 530ms\tremaining: 632ms\n",
            "456:\tlearn: 0.0968400\ttotal: 531ms\tremaining: 631ms\n",
            "457:\tlearn: 0.0967730\ttotal: 532ms\tremaining: 630ms\n",
            "458:\tlearn: 0.0966552\ttotal: 533ms\tremaining: 628ms\n",
            "459:\tlearn: 0.0965885\ttotal: 534ms\tremaining: 627ms\n",
            "460:\tlearn: 0.0965479\ttotal: 535ms\tremaining: 626ms\n",
            "461:\tlearn: 0.0964339\ttotal: 537ms\tremaining: 625ms\n",
            "462:\tlearn: 0.0963718\ttotal: 538ms\tremaining: 624ms\n",
            "463:\tlearn: 0.0963074\ttotal: 539ms\tremaining: 622ms\n",
            "464:\tlearn: 0.0962618\ttotal: 540ms\tremaining: 621ms\n",
            "465:\tlearn: 0.0962108\ttotal: 541ms\tremaining: 620ms\n",
            "466:\tlearn: 0.0961298\ttotal: 542ms\tremaining: 619ms\n",
            "467:\tlearn: 0.0960798\ttotal: 543ms\tremaining: 618ms\n",
            "468:\tlearn: 0.0960231\ttotal: 544ms\tremaining: 616ms\n",
            "469:\tlearn: 0.0959757\ttotal: 545ms\tremaining: 615ms\n",
            "470:\tlearn: 0.0959035\ttotal: 547ms\tremaining: 614ms\n",
            "471:\tlearn: 0.0958354\ttotal: 548ms\tremaining: 613ms\n",
            "472:\tlearn: 0.0957934\ttotal: 549ms\tremaining: 611ms\n",
            "473:\tlearn: 0.0957092\ttotal: 551ms\tremaining: 612ms\n",
            "474:\tlearn: 0.0956801\ttotal: 557ms\tremaining: 615ms\n",
            "475:\tlearn: 0.0956442\ttotal: 558ms\tremaining: 615ms\n",
            "476:\tlearn: 0.0955373\ttotal: 560ms\tremaining: 613ms\n",
            "477:\tlearn: 0.0954624\ttotal: 561ms\tremaining: 612ms\n",
            "478:\tlearn: 0.0953911\ttotal: 562ms\tremaining: 611ms\n",
            "479:\tlearn: 0.0953798\ttotal: 563ms\tremaining: 610ms\n",
            "480:\tlearn: 0.0953130\ttotal: 565ms\tremaining: 609ms\n",
            "481:\tlearn: 0.0952505\ttotal: 566ms\tremaining: 608ms\n",
            "482:\tlearn: 0.0951919\ttotal: 567ms\tremaining: 607ms\n",
            "483:\tlearn: 0.0951031\ttotal: 568ms\tremaining: 605ms\n",
            "484:\tlearn: 0.0950743\ttotal: 569ms\tremaining: 604ms\n",
            "485:\tlearn: 0.0949930\ttotal: 570ms\tremaining: 603ms\n",
            "486:\tlearn: 0.0949638\ttotal: 571ms\tremaining: 602ms\n",
            "487:\tlearn: 0.0949442\ttotal: 572ms\tremaining: 600ms\n",
            "488:\tlearn: 0.0948230\ttotal: 573ms\tremaining: 599ms\n",
            "489:\tlearn: 0.0947731\ttotal: 575ms\tremaining: 598ms\n",
            "490:\tlearn: 0.0947378\ttotal: 576ms\tremaining: 597ms\n",
            "491:\tlearn: 0.0946769\ttotal: 579ms\tremaining: 598ms\n",
            "492:\tlearn: 0.0946126\ttotal: 583ms\tremaining: 599ms\n",
            "493:\tlearn: 0.0945464\ttotal: 584ms\tremaining: 598ms\n",
            "494:\tlearn: 0.0944769\ttotal: 585ms\tremaining: 597ms\n",
            "495:\tlearn: 0.0944248\ttotal: 586ms\tremaining: 595ms\n",
            "496:\tlearn: 0.0943187\ttotal: 587ms\tremaining: 594ms\n",
            "497:\tlearn: 0.0942879\ttotal: 588ms\tremaining: 593ms\n",
            "498:\tlearn: 0.0942522\ttotal: 589ms\tremaining: 592ms\n",
            "499:\tlearn: 0.0942146\ttotal: 590ms\tremaining: 590ms\n",
            "500:\tlearn: 0.0940584\ttotal: 592ms\tremaining: 589ms\n",
            "501:\tlearn: 0.0939967\ttotal: 593ms\tremaining: 588ms\n",
            "502:\tlearn: 0.0939237\ttotal: 594ms\tremaining: 587ms\n",
            "503:\tlearn: 0.0938233\ttotal: 595ms\tremaining: 585ms\n",
            "504:\tlearn: 0.0937829\ttotal: 596ms\tremaining: 584ms\n",
            "505:\tlearn: 0.0936835\ttotal: 597ms\tremaining: 583ms\n",
            "506:\tlearn: 0.0936465\ttotal: 599ms\tremaining: 582ms\n",
            "507:\tlearn: 0.0936082\ttotal: 600ms\tremaining: 581ms\n",
            "508:\tlearn: 0.0935439\ttotal: 602ms\tremaining: 580ms\n",
            "509:\tlearn: 0.0934874\ttotal: 602ms\tremaining: 579ms\n",
            "510:\tlearn: 0.0934409\ttotal: 603ms\tremaining: 577ms\n",
            "511:\tlearn: 0.0933837\ttotal: 604ms\tremaining: 576ms\n",
            "512:\tlearn: 0.0933312\ttotal: 605ms\tremaining: 574ms\n",
            "513:\tlearn: 0.0933015\ttotal: 606ms\tremaining: 573ms\n",
            "514:\tlearn: 0.0932599\ttotal: 607ms\tremaining: 572ms\n",
            "515:\tlearn: 0.0931396\ttotal: 608ms\tremaining: 571ms\n",
            "516:\tlearn: 0.0930784\ttotal: 609ms\tremaining: 569ms\n",
            "517:\tlearn: 0.0929977\ttotal: 611ms\tremaining: 568ms\n",
            "518:\tlearn: 0.0929516\ttotal: 612ms\tremaining: 567ms\n",
            "519:\tlearn: 0.0929145\ttotal: 613ms\tremaining: 566ms\n",
            "520:\tlearn: 0.0928862\ttotal: 614ms\tremaining: 564ms\n",
            "521:\tlearn: 0.0928360\ttotal: 615ms\tremaining: 563ms\n",
            "522:\tlearn: 0.0927719\ttotal: 616ms\tremaining: 562ms\n",
            "523:\tlearn: 0.0927245\ttotal: 617ms\tremaining: 561ms\n",
            "524:\tlearn: 0.0926780\ttotal: 618ms\tremaining: 560ms\n",
            "525:\tlearn: 0.0925942\ttotal: 619ms\tremaining: 558ms\n",
            "526:\tlearn: 0.0925398\ttotal: 621ms\tremaining: 557ms\n",
            "527:\tlearn: 0.0924679\ttotal: 622ms\tremaining: 556ms\n",
            "528:\tlearn: 0.0924102\ttotal: 623ms\tremaining: 555ms\n",
            "529:\tlearn: 0.0923689\ttotal: 624ms\tremaining: 553ms\n",
            "530:\tlearn: 0.0922807\ttotal: 625ms\tremaining: 552ms\n",
            "531:\tlearn: 0.0922381\ttotal: 626ms\tremaining: 551ms\n",
            "532:\tlearn: 0.0921881\ttotal: 627ms\tremaining: 550ms\n",
            "533:\tlearn: 0.0920650\ttotal: 628ms\tremaining: 548ms\n",
            "534:\tlearn: 0.0919452\ttotal: 630ms\tremaining: 547ms\n",
            "535:\tlearn: 0.0918486\ttotal: 631ms\tremaining: 546ms\n",
            "536:\tlearn: 0.0918237\ttotal: 632ms\tremaining: 545ms\n",
            "537:\tlearn: 0.0917137\ttotal: 633ms\tremaining: 543ms\n",
            "538:\tlearn: 0.0916254\ttotal: 634ms\tremaining: 542ms\n",
            "539:\tlearn: 0.0915683\ttotal: 635ms\tremaining: 541ms\n",
            "540:\tlearn: 0.0915267\ttotal: 636ms\tremaining: 540ms\n",
            "541:\tlearn: 0.0914942\ttotal: 637ms\tremaining: 539ms\n",
            "542:\tlearn: 0.0914595\ttotal: 638ms\tremaining: 537ms\n",
            "543:\tlearn: 0.0913959\ttotal: 640ms\tremaining: 536ms\n",
            "544:\tlearn: 0.0913640\ttotal: 643ms\tremaining: 537ms\n",
            "545:\tlearn: 0.0913131\ttotal: 645ms\tremaining: 536ms\n",
            "546:\tlearn: 0.0912811\ttotal: 647ms\tremaining: 536ms\n",
            "547:\tlearn: 0.0912200\ttotal: 649ms\tremaining: 535ms\n",
            "548:\tlearn: 0.0911163\ttotal: 650ms\tremaining: 534ms\n",
            "549:\tlearn: 0.0910652\ttotal: 651ms\tremaining: 533ms\n",
            "550:\tlearn: 0.0910157\ttotal: 653ms\tremaining: 532ms\n",
            "551:\tlearn: 0.0909835\ttotal: 654ms\tremaining: 531ms\n",
            "552:\tlearn: 0.0909616\ttotal: 655ms\tremaining: 529ms\n",
            "553:\tlearn: 0.0908908\ttotal: 656ms\tremaining: 528ms\n",
            "554:\tlearn: 0.0908365\ttotal: 657ms\tremaining: 527ms\n",
            "555:\tlearn: 0.0907776\ttotal: 659ms\tremaining: 526ms\n",
            "556:\tlearn: 0.0907435\ttotal: 660ms\tremaining: 525ms\n",
            "557:\tlearn: 0.0906960\ttotal: 661ms\tremaining: 524ms\n",
            "558:\tlearn: 0.0906623\ttotal: 662ms\tremaining: 523ms\n",
            "559:\tlearn: 0.0906402\ttotal: 663ms\tremaining: 521ms\n",
            "560:\tlearn: 0.0905842\ttotal: 664ms\tremaining: 520ms\n",
            "561:\tlearn: 0.0905411\ttotal: 665ms\tremaining: 519ms\n",
            "562:\tlearn: 0.0904891\ttotal: 667ms\tremaining: 517ms\n",
            "563:\tlearn: 0.0904397\ttotal: 668ms\tremaining: 516ms\n",
            "564:\tlearn: 0.0904153\ttotal: 669ms\tremaining: 515ms\n",
            "565:\tlearn: 0.0903567\ttotal: 670ms\tremaining: 514ms\n",
            "566:\tlearn: 0.0903264\ttotal: 673ms\tremaining: 514ms\n",
            "567:\tlearn: 0.0902680\ttotal: 675ms\tremaining: 513ms\n",
            "568:\tlearn: 0.0902245\ttotal: 676ms\tremaining: 512ms\n",
            "569:\tlearn: 0.0901292\ttotal: 678ms\tremaining: 511ms\n",
            "570:\tlearn: 0.0900893\ttotal: 680ms\tremaining: 511ms\n",
            "571:\tlearn: 0.0900387\ttotal: 681ms\tremaining: 510ms\n",
            "572:\tlearn: 0.0900099\ttotal: 683ms\tremaining: 509ms\n",
            "573:\tlearn: 0.0899771\ttotal: 684ms\tremaining: 508ms\n",
            "574:\tlearn: 0.0898931\ttotal: 685ms\tremaining: 506ms\n",
            "575:\tlearn: 0.0898498\ttotal: 686ms\tremaining: 505ms\n",
            "576:\tlearn: 0.0898124\ttotal: 687ms\tremaining: 504ms\n",
            "577:\tlearn: 0.0897498\ttotal: 688ms\tremaining: 502ms\n",
            "578:\tlearn: 0.0897114\ttotal: 689ms\tremaining: 501ms\n",
            "579:\tlearn: 0.0896631\ttotal: 690ms\tremaining: 499ms\n",
            "580:\tlearn: 0.0896365\ttotal: 690ms\tremaining: 498ms\n",
            "581:\tlearn: 0.0895456\ttotal: 691ms\tremaining: 497ms\n",
            "582:\tlearn: 0.0895110\ttotal: 692ms\tremaining: 495ms\n",
            "583:\tlearn: 0.0894527\ttotal: 693ms\tremaining: 494ms\n",
            "584:\tlearn: 0.0894036\ttotal: 694ms\tremaining: 492ms\n",
            "585:\tlearn: 0.0893828\ttotal: 695ms\tremaining: 491ms\n",
            "586:\tlearn: 0.0893294\ttotal: 696ms\tremaining: 490ms\n",
            "587:\tlearn: 0.0891852\ttotal: 697ms\tremaining: 488ms\n",
            "588:\tlearn: 0.0891455\ttotal: 698ms\tremaining: 487ms\n",
            "589:\tlearn: 0.0890665\ttotal: 698ms\tremaining: 485ms\n",
            "590:\tlearn: 0.0889394\ttotal: 699ms\tremaining: 484ms\n",
            "591:\tlearn: 0.0888978\ttotal: 700ms\tremaining: 483ms\n",
            "592:\tlearn: 0.0888611\ttotal: 701ms\tremaining: 481ms\n",
            "593:\tlearn: 0.0888247\ttotal: 702ms\tremaining: 480ms\n",
            "594:\tlearn: 0.0887109\ttotal: 703ms\tremaining: 479ms\n",
            "595:\tlearn: 0.0886713\ttotal: 704ms\tremaining: 477ms\n",
            "596:\tlearn: 0.0886493\ttotal: 705ms\tremaining: 476ms\n",
            "597:\tlearn: 0.0886183\ttotal: 706ms\tremaining: 474ms\n",
            "598:\tlearn: 0.0885967\ttotal: 707ms\tremaining: 473ms\n",
            "599:\tlearn: 0.0885174\ttotal: 707ms\tremaining: 472ms\n",
            "600:\tlearn: 0.0884295\ttotal: 708ms\tremaining: 470ms\n",
            "601:\tlearn: 0.0883696\ttotal: 709ms\tremaining: 469ms\n",
            "602:\tlearn: 0.0883516\ttotal: 710ms\tremaining: 468ms\n",
            "603:\tlearn: 0.0883312\ttotal: 711ms\tremaining: 466ms\n",
            "604:\tlearn: 0.0882896\ttotal: 712ms\tremaining: 465ms\n",
            "605:\tlearn: 0.0882664\ttotal: 713ms\tremaining: 463ms\n",
            "606:\tlearn: 0.0881963\ttotal: 714ms\tremaining: 462ms\n",
            "607:\tlearn: 0.0881076\ttotal: 715ms\tremaining: 461ms\n",
            "608:\tlearn: 0.0880653\ttotal: 716ms\tremaining: 460ms\n",
            "609:\tlearn: 0.0879698\ttotal: 717ms\tremaining: 458ms\n",
            "610:\tlearn: 0.0879528\ttotal: 718ms\tremaining: 457ms\n",
            "611:\tlearn: 0.0878912\ttotal: 719ms\tremaining: 456ms\n",
            "612:\tlearn: 0.0878635\ttotal: 720ms\tremaining: 455ms\n",
            "613:\tlearn: 0.0878071\ttotal: 722ms\tremaining: 454ms\n",
            "614:\tlearn: 0.0877700\ttotal: 723ms\tremaining: 452ms\n",
            "615:\tlearn: 0.0877362\ttotal: 724ms\tremaining: 451ms\n",
            "616:\tlearn: 0.0877148\ttotal: 729ms\tremaining: 452ms\n",
            "617:\tlearn: 0.0876865\ttotal: 730ms\tremaining: 451ms\n",
            "618:\tlearn: 0.0876423\ttotal: 733ms\tremaining: 451ms\n",
            "619:\tlearn: 0.0875655\ttotal: 734ms\tremaining: 450ms\n",
            "620:\tlearn: 0.0874742\ttotal: 735ms\tremaining: 449ms\n",
            "621:\tlearn: 0.0874310\ttotal: 736ms\tremaining: 448ms\n",
            "622:\tlearn: 0.0873937\ttotal: 738ms\tremaining: 446ms\n",
            "623:\tlearn: 0.0873141\ttotal: 739ms\tremaining: 445ms\n",
            "624:\tlearn: 0.0872857\ttotal: 740ms\tremaining: 444ms\n",
            "625:\tlearn: 0.0872621\ttotal: 741ms\tremaining: 443ms\n",
            "626:\tlearn: 0.0872073\ttotal: 742ms\tremaining: 441ms\n",
            "627:\tlearn: 0.0871716\ttotal: 743ms\tremaining: 440ms\n",
            "628:\tlearn: 0.0871095\ttotal: 744ms\tremaining: 439ms\n",
            "629:\tlearn: 0.0870590\ttotal: 745ms\tremaining: 438ms\n",
            "630:\tlearn: 0.0870387\ttotal: 747ms\tremaining: 437ms\n",
            "631:\tlearn: 0.0869885\ttotal: 748ms\tremaining: 435ms\n",
            "632:\tlearn: 0.0869535\ttotal: 749ms\tremaining: 434ms\n",
            "633:\tlearn: 0.0869217\ttotal: 750ms\tremaining: 433ms\n",
            "634:\tlearn: 0.0869013\ttotal: 751ms\tremaining: 432ms\n",
            "635:\tlearn: 0.0868875\ttotal: 752ms\tremaining: 430ms\n",
            "636:\tlearn: 0.0868371\ttotal: 756ms\tremaining: 431ms\n",
            "637:\tlearn: 0.0867985\ttotal: 757ms\tremaining: 429ms\n",
            "638:\tlearn: 0.0867448\ttotal: 758ms\tremaining: 428ms\n",
            "639:\tlearn: 0.0866846\ttotal: 759ms\tremaining: 427ms\n",
            "640:\tlearn: 0.0865865\ttotal: 760ms\tremaining: 426ms\n",
            "641:\tlearn: 0.0865140\ttotal: 761ms\tremaining: 424ms\n",
            "642:\tlearn: 0.0864745\ttotal: 762ms\tremaining: 423ms\n",
            "643:\tlearn: 0.0864602\ttotal: 763ms\tremaining: 422ms\n",
            "644:\tlearn: 0.0864145\ttotal: 764ms\tremaining: 421ms\n",
            "645:\tlearn: 0.0863509\ttotal: 766ms\tremaining: 419ms\n",
            "646:\tlearn: 0.0862775\ttotal: 767ms\tremaining: 418ms\n",
            "647:\tlearn: 0.0862274\ttotal: 768ms\tremaining: 417ms\n",
            "648:\tlearn: 0.0862107\ttotal: 769ms\tremaining: 416ms\n",
            "649:\tlearn: 0.0861768\ttotal: 770ms\tremaining: 415ms\n",
            "650:\tlearn: 0.0861289\ttotal: 771ms\tremaining: 413ms\n",
            "651:\tlearn: 0.0860986\ttotal: 772ms\tremaining: 412ms\n",
            "652:\tlearn: 0.0860158\ttotal: 773ms\tremaining: 411ms\n",
            "653:\tlearn: 0.0859788\ttotal: 774ms\tremaining: 410ms\n",
            "654:\tlearn: 0.0859235\ttotal: 775ms\tremaining: 408ms\n",
            "655:\tlearn: 0.0859023\ttotal: 777ms\tremaining: 407ms\n",
            "656:\tlearn: 0.0858875\ttotal: 778ms\tremaining: 406ms\n",
            "657:\tlearn: 0.0858343\ttotal: 779ms\tremaining: 405ms\n",
            "658:\tlearn: 0.0857486\ttotal: 780ms\tremaining: 404ms\n",
            "659:\tlearn: 0.0857128\ttotal: 781ms\tremaining: 402ms\n",
            "660:\tlearn: 0.0856379\ttotal: 782ms\tremaining: 401ms\n",
            "661:\tlearn: 0.0856002\ttotal: 783ms\tremaining: 400ms\n",
            "662:\tlearn: 0.0855627\ttotal: 784ms\tremaining: 399ms\n",
            "663:\tlearn: 0.0854909\ttotal: 786ms\tremaining: 397ms\n",
            "664:\tlearn: 0.0854285\ttotal: 787ms\tremaining: 396ms\n",
            "665:\tlearn: 0.0854034\ttotal: 788ms\tremaining: 395ms\n",
            "666:\tlearn: 0.0853722\ttotal: 789ms\tremaining: 394ms\n",
            "667:\tlearn: 0.0853253\ttotal: 790ms\tremaining: 393ms\n",
            "668:\tlearn: 0.0852927\ttotal: 791ms\tremaining: 391ms\n",
            "669:\tlearn: 0.0852622\ttotal: 792ms\tremaining: 390ms\n",
            "670:\tlearn: 0.0852313\ttotal: 793ms\tremaining: 389ms\n",
            "671:\tlearn: 0.0851926\ttotal: 795ms\tremaining: 388ms\n",
            "672:\tlearn: 0.0851518\ttotal: 796ms\tremaining: 387ms\n",
            "673:\tlearn: 0.0851316\ttotal: 797ms\tremaining: 386ms\n",
            "674:\tlearn: 0.0850507\ttotal: 798ms\tremaining: 384ms\n",
            "675:\tlearn: 0.0850370\ttotal: 799ms\tremaining: 383ms\n",
            "676:\tlearn: 0.0850019\ttotal: 801ms\tremaining: 382ms\n",
            "677:\tlearn: 0.0849662\ttotal: 802ms\tremaining: 381ms\n",
            "678:\tlearn: 0.0849344\ttotal: 803ms\tremaining: 380ms\n",
            "679:\tlearn: 0.0849014\ttotal: 804ms\tremaining: 378ms\n",
            "680:\tlearn: 0.0848573\ttotal: 805ms\tremaining: 377ms\n",
            "681:\tlearn: 0.0848043\ttotal: 806ms\tremaining: 376ms\n",
            "682:\tlearn: 0.0847785\ttotal: 807ms\tremaining: 375ms\n",
            "683:\tlearn: 0.0847091\ttotal: 808ms\tremaining: 373ms\n",
            "684:\tlearn: 0.0846726\ttotal: 809ms\tremaining: 372ms\n",
            "685:\tlearn: 0.0846457\ttotal: 811ms\tremaining: 371ms\n",
            "686:\tlearn: 0.0845860\ttotal: 812ms\tremaining: 370ms\n",
            "687:\tlearn: 0.0845562\ttotal: 813ms\tremaining: 369ms\n",
            "688:\tlearn: 0.0844908\ttotal: 814ms\tremaining: 367ms\n",
            "689:\tlearn: 0.0844730\ttotal: 815ms\tremaining: 366ms\n",
            "690:\tlearn: 0.0844267\ttotal: 816ms\tremaining: 365ms\n",
            "691:\tlearn: 0.0843811\ttotal: 817ms\tremaining: 364ms\n",
            "692:\tlearn: 0.0843365\ttotal: 818ms\tremaining: 363ms\n",
            "693:\tlearn: 0.0842787\ttotal: 819ms\tremaining: 361ms\n",
            "694:\tlearn: 0.0842502\ttotal: 820ms\tremaining: 360ms\n",
            "695:\tlearn: 0.0841852\ttotal: 822ms\tremaining: 359ms\n",
            "696:\tlearn: 0.0841657\ttotal: 823ms\tremaining: 358ms\n",
            "697:\tlearn: 0.0841190\ttotal: 824ms\tremaining: 356ms\n",
            "698:\tlearn: 0.0840873\ttotal: 825ms\tremaining: 355ms\n",
            "699:\tlearn: 0.0840542\ttotal: 826ms\tremaining: 354ms\n",
            "700:\tlearn: 0.0840011\ttotal: 827ms\tremaining: 353ms\n",
            "701:\tlearn: 0.0839672\ttotal: 828ms\tremaining: 352ms\n",
            "702:\tlearn: 0.0839207\ttotal: 829ms\tremaining: 350ms\n",
            "703:\tlearn: 0.0838874\ttotal: 831ms\tremaining: 349ms\n",
            "704:\tlearn: 0.0838517\ttotal: 832ms\tremaining: 348ms\n",
            "705:\tlearn: 0.0838118\ttotal: 833ms\tremaining: 347ms\n",
            "706:\tlearn: 0.0837545\ttotal: 834ms\tremaining: 346ms\n",
            "707:\tlearn: 0.0837305\ttotal: 835ms\tremaining: 344ms\n",
            "708:\tlearn: 0.0837051\ttotal: 836ms\tremaining: 343ms\n",
            "709:\tlearn: 0.0836908\ttotal: 837ms\tremaining: 342ms\n",
            "710:\tlearn: 0.0836512\ttotal: 838ms\tremaining: 341ms\n",
            "711:\tlearn: 0.0836180\ttotal: 839ms\tremaining: 339ms\n",
            "712:\tlearn: 0.0835552\ttotal: 840ms\tremaining: 338ms\n",
            "713:\tlearn: 0.0835122\ttotal: 841ms\tremaining: 337ms\n",
            "714:\tlearn: 0.0834734\ttotal: 843ms\tremaining: 336ms\n",
            "715:\tlearn: 0.0834362\ttotal: 844ms\tremaining: 335ms\n",
            "716:\tlearn: 0.0834133\ttotal: 845ms\tremaining: 333ms\n",
            "717:\tlearn: 0.0833820\ttotal: 846ms\tremaining: 332ms\n",
            "718:\tlearn: 0.0833589\ttotal: 847ms\tremaining: 331ms\n",
            "719:\tlearn: 0.0833307\ttotal: 848ms\tremaining: 330ms\n",
            "720:\tlearn: 0.0832950\ttotal: 849ms\tremaining: 329ms\n",
            "721:\tlearn: 0.0832650\ttotal: 850ms\tremaining: 327ms\n",
            "722:\tlearn: 0.0832244\ttotal: 851ms\tremaining: 326ms\n",
            "723:\tlearn: 0.0831930\ttotal: 853ms\tremaining: 325ms\n",
            "724:\tlearn: 0.0831433\ttotal: 854ms\tremaining: 324ms\n",
            "725:\tlearn: 0.0831288\ttotal: 855ms\tremaining: 323ms\n",
            "726:\tlearn: 0.0830999\ttotal: 856ms\tremaining: 321ms\n",
            "727:\tlearn: 0.0830528\ttotal: 857ms\tremaining: 320ms\n",
            "728:\tlearn: 0.0830269\ttotal: 858ms\tremaining: 319ms\n",
            "729:\tlearn: 0.0830013\ttotal: 859ms\tremaining: 318ms\n",
            "730:\tlearn: 0.0829668\ttotal: 860ms\tremaining: 317ms\n",
            "731:\tlearn: 0.0829406\ttotal: 861ms\tremaining: 315ms\n",
            "732:\tlearn: 0.0829269\ttotal: 862ms\tremaining: 314ms\n",
            "733:\tlearn: 0.0829066\ttotal: 863ms\tremaining: 313ms\n",
            "734:\tlearn: 0.0828215\ttotal: 864ms\tremaining: 312ms\n",
            "735:\tlearn: 0.0827614\ttotal: 865ms\tremaining: 310ms\n",
            "736:\tlearn: 0.0827288\ttotal: 867ms\tremaining: 309ms\n",
            "737:\tlearn: 0.0826701\ttotal: 868ms\tremaining: 308ms\n",
            "738:\tlearn: 0.0826356\ttotal: 869ms\tremaining: 307ms\n",
            "739:\tlearn: 0.0826089\ttotal: 870ms\tremaining: 306ms\n",
            "740:\tlearn: 0.0825835\ttotal: 871ms\tremaining: 304ms\n",
            "741:\tlearn: 0.0825367\ttotal: 872ms\tremaining: 303ms\n",
            "742:\tlearn: 0.0824567\ttotal: 873ms\tremaining: 302ms\n",
            "743:\tlearn: 0.0823984\ttotal: 874ms\tremaining: 301ms\n",
            "744:\tlearn: 0.0823798\ttotal: 875ms\tremaining: 300ms\n",
            "745:\tlearn: 0.0823570\ttotal: 877ms\tremaining: 298ms\n",
            "746:\tlearn: 0.0822789\ttotal: 878ms\tremaining: 297ms\n",
            "747:\tlearn: 0.0822577\ttotal: 879ms\tremaining: 296ms\n",
            "748:\tlearn: 0.0822407\ttotal: 880ms\tremaining: 295ms\n",
            "749:\tlearn: 0.0822114\ttotal: 881ms\tremaining: 294ms\n",
            "750:\tlearn: 0.0821734\ttotal: 882ms\tremaining: 292ms\n",
            "751:\tlearn: 0.0821182\ttotal: 883ms\tremaining: 291ms\n",
            "752:\tlearn: 0.0820737\ttotal: 884ms\tremaining: 290ms\n",
            "753:\tlearn: 0.0820337\ttotal: 885ms\tremaining: 289ms\n",
            "754:\tlearn: 0.0819764\ttotal: 887ms\tremaining: 288ms\n",
            "755:\tlearn: 0.0819548\ttotal: 888ms\tremaining: 286ms\n",
            "756:\tlearn: 0.0819330\ttotal: 889ms\tremaining: 285ms\n",
            "757:\tlearn: 0.0818518\ttotal: 890ms\tremaining: 284ms\n",
            "758:\tlearn: 0.0818081\ttotal: 891ms\tremaining: 283ms\n",
            "759:\tlearn: 0.0817971\ttotal: 892ms\tremaining: 282ms\n",
            "760:\tlearn: 0.0817663\ttotal: 893ms\tremaining: 280ms\n",
            "761:\tlearn: 0.0817500\ttotal: 894ms\tremaining: 279ms\n",
            "762:\tlearn: 0.0816969\ttotal: 895ms\tremaining: 278ms\n",
            "763:\tlearn: 0.0816755\ttotal: 896ms\tremaining: 277ms\n",
            "764:\tlearn: 0.0816415\ttotal: 898ms\tremaining: 276ms\n",
            "765:\tlearn: 0.0816033\ttotal: 899ms\tremaining: 275ms\n",
            "766:\tlearn: 0.0815175\ttotal: 900ms\tremaining: 273ms\n",
            "767:\tlearn: 0.0814886\ttotal: 901ms\tremaining: 272ms\n",
            "768:\tlearn: 0.0814170\ttotal: 902ms\tremaining: 271ms\n",
            "769:\tlearn: 0.0813737\ttotal: 903ms\tremaining: 270ms\n",
            "770:\tlearn: 0.0813478\ttotal: 904ms\tremaining: 269ms\n",
            "771:\tlearn: 0.0813169\ttotal: 905ms\tremaining: 267ms\n",
            "772:\tlearn: 0.0812870\ttotal: 906ms\tremaining: 266ms\n",
            "773:\tlearn: 0.0812506\ttotal: 907ms\tremaining: 265ms\n",
            "774:\tlearn: 0.0812314\ttotal: 910ms\tremaining: 264ms\n",
            "775:\tlearn: 0.0812117\ttotal: 911ms\tremaining: 263ms\n",
            "776:\tlearn: 0.0811637\ttotal: 913ms\tremaining: 262ms\n",
            "777:\tlearn: 0.0811077\ttotal: 914ms\tremaining: 261ms\n",
            "778:\tlearn: 0.0810805\ttotal: 919ms\tremaining: 261ms\n",
            "779:\tlearn: 0.0810534\ttotal: 920ms\tremaining: 260ms\n",
            "780:\tlearn: 0.0810324\ttotal: 921ms\tremaining: 258ms\n",
            "781:\tlearn: 0.0810092\ttotal: 922ms\tremaining: 257ms\n",
            "782:\tlearn: 0.0809763\ttotal: 923ms\tremaining: 256ms\n",
            "783:\tlearn: 0.0809330\ttotal: 924ms\tremaining: 255ms\n",
            "784:\tlearn: 0.0809112\ttotal: 925ms\tremaining: 253ms\n",
            "785:\tlearn: 0.0808991\ttotal: 926ms\tremaining: 252ms\n",
            "786:\tlearn: 0.0808481\ttotal: 927ms\tremaining: 251ms\n",
            "787:\tlearn: 0.0808052\ttotal: 928ms\tremaining: 250ms\n",
            "788:\tlearn: 0.0807658\ttotal: 928ms\tremaining: 248ms\n",
            "789:\tlearn: 0.0807472\ttotal: 929ms\tremaining: 247ms\n",
            "790:\tlearn: 0.0807298\ttotal: 930ms\tremaining: 246ms\n",
            "791:\tlearn: 0.0806816\ttotal: 931ms\tremaining: 245ms\n",
            "792:\tlearn: 0.0806303\ttotal: 932ms\tremaining: 243ms\n",
            "793:\tlearn: 0.0806070\ttotal: 933ms\tremaining: 242ms\n",
            "794:\tlearn: 0.0805900\ttotal: 934ms\tremaining: 241ms\n",
            "795:\tlearn: 0.0805321\ttotal: 935ms\tremaining: 240ms\n",
            "796:\tlearn: 0.0805055\ttotal: 936ms\tremaining: 238ms\n",
            "797:\tlearn: 0.0804677\ttotal: 937ms\tremaining: 237ms\n",
            "798:\tlearn: 0.0803974\ttotal: 938ms\tremaining: 236ms\n",
            "799:\tlearn: 0.0803749\ttotal: 939ms\tremaining: 235ms\n",
            "800:\tlearn: 0.0803442\ttotal: 940ms\tremaining: 234ms\n",
            "801:\tlearn: 0.0802922\ttotal: 941ms\tremaining: 232ms\n",
            "802:\tlearn: 0.0802524\ttotal: 942ms\tremaining: 231ms\n",
            "803:\tlearn: 0.0802329\ttotal: 943ms\tremaining: 230ms\n",
            "804:\tlearn: 0.0802006\ttotal: 944ms\tremaining: 229ms\n",
            "805:\tlearn: 0.0801262\ttotal: 946ms\tremaining: 228ms\n",
            "806:\tlearn: 0.0801079\ttotal: 947ms\tremaining: 226ms\n",
            "807:\tlearn: 0.0800798\ttotal: 948ms\tremaining: 225ms\n",
            "808:\tlearn: 0.0800306\ttotal: 949ms\tremaining: 224ms\n",
            "809:\tlearn: 0.0799678\ttotal: 950ms\tremaining: 223ms\n",
            "810:\tlearn: 0.0799286\ttotal: 951ms\tremaining: 222ms\n",
            "811:\tlearn: 0.0798941\ttotal: 952ms\tremaining: 220ms\n",
            "812:\tlearn: 0.0798753\ttotal: 953ms\tremaining: 219ms\n",
            "813:\tlearn: 0.0798585\ttotal: 955ms\tremaining: 218ms\n",
            "814:\tlearn: 0.0798022\ttotal: 956ms\tremaining: 217ms\n",
            "815:\tlearn: 0.0797614\ttotal: 957ms\tremaining: 216ms\n",
            "816:\tlearn: 0.0797313\ttotal: 958ms\tremaining: 215ms\n",
            "817:\tlearn: 0.0797165\ttotal: 959ms\tremaining: 213ms\n",
            "818:\tlearn: 0.0796946\ttotal: 960ms\tremaining: 212ms\n",
            "819:\tlearn: 0.0796691\ttotal: 961ms\tremaining: 211ms\n",
            "820:\tlearn: 0.0796356\ttotal: 962ms\tremaining: 210ms\n",
            "821:\tlearn: 0.0796226\ttotal: 964ms\tremaining: 209ms\n",
            "822:\tlearn: 0.0795872\ttotal: 965ms\tremaining: 207ms\n",
            "823:\tlearn: 0.0795743\ttotal: 966ms\tremaining: 206ms\n",
            "824:\tlearn: 0.0795496\ttotal: 967ms\tremaining: 205ms\n",
            "825:\tlearn: 0.0794835\ttotal: 968ms\tremaining: 204ms\n",
            "826:\tlearn: 0.0794526\ttotal: 969ms\tremaining: 203ms\n",
            "827:\tlearn: 0.0794121\ttotal: 970ms\tremaining: 202ms\n",
            "828:\tlearn: 0.0793931\ttotal: 971ms\tremaining: 200ms\n",
            "829:\tlearn: 0.0793791\ttotal: 973ms\tremaining: 199ms\n",
            "830:\tlearn: 0.0793397\ttotal: 974ms\tremaining: 198ms\n",
            "831:\tlearn: 0.0793103\ttotal: 975ms\tremaining: 197ms\n",
            "832:\tlearn: 0.0792587\ttotal: 976ms\tremaining: 196ms\n",
            "833:\tlearn: 0.0792289\ttotal: 977ms\tremaining: 194ms\n",
            "834:\tlearn: 0.0792011\ttotal: 978ms\tremaining: 193ms\n",
            "835:\tlearn: 0.0791674\ttotal: 979ms\tremaining: 192ms\n",
            "836:\tlearn: 0.0791430\ttotal: 980ms\tremaining: 191ms\n",
            "837:\tlearn: 0.0791199\ttotal: 982ms\tremaining: 190ms\n",
            "838:\tlearn: 0.0790819\ttotal: 983ms\tremaining: 189ms\n",
            "839:\tlearn: 0.0790560\ttotal: 984ms\tremaining: 187ms\n",
            "840:\tlearn: 0.0790278\ttotal: 985ms\tremaining: 186ms\n",
            "841:\tlearn: 0.0790112\ttotal: 986ms\tremaining: 185ms\n",
            "842:\tlearn: 0.0789860\ttotal: 987ms\tremaining: 184ms\n",
            "843:\tlearn: 0.0789584\ttotal: 988ms\tremaining: 183ms\n",
            "844:\tlearn: 0.0789284\ttotal: 989ms\tremaining: 181ms\n",
            "845:\tlearn: 0.0789017\ttotal: 990ms\tremaining: 180ms\n",
            "846:\tlearn: 0.0788790\ttotal: 991ms\tremaining: 179ms\n",
            "847:\tlearn: 0.0788647\ttotal: 992ms\tremaining: 178ms\n",
            "848:\tlearn: 0.0788583\ttotal: 993ms\tremaining: 177ms\n",
            "849:\tlearn: 0.0788314\ttotal: 995ms\tremaining: 176ms\n",
            "850:\tlearn: 0.0788148\ttotal: 996ms\tremaining: 174ms\n",
            "851:\tlearn: 0.0787857\ttotal: 997ms\tremaining: 173ms\n",
            "852:\tlearn: 0.0787701\ttotal: 998ms\tremaining: 172ms\n",
            "853:\tlearn: 0.0787343\ttotal: 999ms\tremaining: 171ms\n",
            "854:\tlearn: 0.0787167\ttotal: 1s\tremaining: 170ms\n",
            "855:\tlearn: 0.0786908\ttotal: 1s\tremaining: 168ms\n",
            "856:\tlearn: 0.0786725\ttotal: 1s\tremaining: 167ms\n",
            "857:\tlearn: 0.0786038\ttotal: 1s\tremaining: 166ms\n",
            "858:\tlearn: 0.0785716\ttotal: 1s\tremaining: 165ms\n",
            "859:\tlearn: 0.0785527\ttotal: 1s\tremaining: 164ms\n",
            "860:\tlearn: 0.0785265\ttotal: 1.01s\tremaining: 163ms\n",
            "861:\tlearn: 0.0784895\ttotal: 1.01s\tremaining: 161ms\n",
            "862:\tlearn: 0.0784374\ttotal: 1.01s\tremaining: 160ms\n",
            "863:\tlearn: 0.0784135\ttotal: 1.01s\tremaining: 159ms\n",
            "864:\tlearn: 0.0783669\ttotal: 1.01s\tremaining: 158ms\n",
            "865:\tlearn: 0.0783286\ttotal: 1.01s\tremaining: 157ms\n",
            "866:\tlearn: 0.0783099\ttotal: 1.01s\tremaining: 156ms\n",
            "867:\tlearn: 0.0782910\ttotal: 1.01s\tremaining: 154ms\n",
            "868:\tlearn: 0.0782536\ttotal: 1.02s\tremaining: 153ms\n",
            "869:\tlearn: 0.0782252\ttotal: 1.02s\tremaining: 152ms\n",
            "870:\tlearn: 0.0782033\ttotal: 1.02s\tremaining: 151ms\n",
            "871:\tlearn: 0.0781831\ttotal: 1.02s\tremaining: 150ms\n",
            "872:\tlearn: 0.0781479\ttotal: 1.02s\tremaining: 148ms\n",
            "873:\tlearn: 0.0781096\ttotal: 1.02s\tremaining: 147ms\n",
            "874:\tlearn: 0.0780916\ttotal: 1.02s\tremaining: 146ms\n",
            "875:\tlearn: 0.0780689\ttotal: 1.02s\tremaining: 145ms\n",
            "876:\tlearn: 0.0780132\ttotal: 1.02s\tremaining: 144ms\n",
            "877:\tlearn: 0.0779984\ttotal: 1.03s\tremaining: 143ms\n",
            "878:\tlearn: 0.0779625\ttotal: 1.03s\tremaining: 141ms\n",
            "879:\tlearn: 0.0779437\ttotal: 1.03s\tremaining: 140ms\n",
            "880:\tlearn: 0.0779231\ttotal: 1.03s\tremaining: 139ms\n",
            "881:\tlearn: 0.0778728\ttotal: 1.03s\tremaining: 138ms\n",
            "882:\tlearn: 0.0778448\ttotal: 1.03s\tremaining: 137ms\n",
            "883:\tlearn: 0.0778051\ttotal: 1.03s\tremaining: 136ms\n",
            "884:\tlearn: 0.0777801\ttotal: 1.03s\tremaining: 134ms\n",
            "885:\tlearn: 0.0777607\ttotal: 1.03s\tremaining: 133ms\n",
            "886:\tlearn: 0.0777325\ttotal: 1.04s\tremaining: 132ms\n",
            "887:\tlearn: 0.0776613\ttotal: 1.04s\tremaining: 131ms\n",
            "888:\tlearn: 0.0776222\ttotal: 1.04s\tremaining: 130ms\n",
            "889:\tlearn: 0.0775809\ttotal: 1.04s\tremaining: 128ms\n",
            "890:\tlearn: 0.0775385\ttotal: 1.04s\tremaining: 127ms\n",
            "891:\tlearn: 0.0775062\ttotal: 1.04s\tremaining: 126ms\n",
            "892:\tlearn: 0.0774791\ttotal: 1.04s\tremaining: 125ms\n",
            "893:\tlearn: 0.0774333\ttotal: 1.04s\tremaining: 124ms\n",
            "894:\tlearn: 0.0773797\ttotal: 1.04s\tremaining: 123ms\n",
            "895:\tlearn: 0.0773467\ttotal: 1.05s\tremaining: 121ms\n",
            "896:\tlearn: 0.0772955\ttotal: 1.05s\tremaining: 120ms\n",
            "897:\tlearn: 0.0772607\ttotal: 1.05s\tremaining: 119ms\n",
            "898:\tlearn: 0.0772340\ttotal: 1.05s\tremaining: 118ms\n",
            "899:\tlearn: 0.0772040\ttotal: 1.05s\tremaining: 117ms\n",
            "900:\tlearn: 0.0771737\ttotal: 1.05s\tremaining: 116ms\n",
            "901:\tlearn: 0.0771377\ttotal: 1.05s\tremaining: 114ms\n",
            "902:\tlearn: 0.0771089\ttotal: 1.05s\tremaining: 113ms\n",
            "903:\tlearn: 0.0770605\ttotal: 1.05s\tremaining: 112ms\n",
            "904:\tlearn: 0.0770092\ttotal: 1.06s\tremaining: 111ms\n",
            "905:\tlearn: 0.0769710\ttotal: 1.06s\tremaining: 110ms\n",
            "906:\tlearn: 0.0769529\ttotal: 1.06s\tremaining: 109ms\n",
            "907:\tlearn: 0.0769227\ttotal: 1.06s\tremaining: 107ms\n",
            "908:\tlearn: 0.0769019\ttotal: 1.06s\tremaining: 106ms\n",
            "909:\tlearn: 0.0768740\ttotal: 1.06s\tremaining: 105ms\n",
            "910:\tlearn: 0.0768390\ttotal: 1.06s\tremaining: 104ms\n",
            "911:\tlearn: 0.0768178\ttotal: 1.06s\tremaining: 103ms\n",
            "912:\tlearn: 0.0767961\ttotal: 1.06s\tremaining: 101ms\n",
            "913:\tlearn: 0.0767764\ttotal: 1.07s\tremaining: 100ms\n",
            "914:\tlearn: 0.0767503\ttotal: 1.07s\tremaining: 99.1ms\n",
            "915:\tlearn: 0.0767276\ttotal: 1.07s\tremaining: 98ms\n",
            "916:\tlearn: 0.0766950\ttotal: 1.07s\tremaining: 96.8ms\n",
            "917:\tlearn: 0.0766691\ttotal: 1.07s\tremaining: 95.6ms\n",
            "918:\tlearn: 0.0766193\ttotal: 1.07s\tremaining: 94.5ms\n",
            "919:\tlearn: 0.0765757\ttotal: 1.07s\tremaining: 93.4ms\n",
            "920:\tlearn: 0.0765468\ttotal: 1.07s\tremaining: 92.2ms\n",
            "921:\tlearn: 0.0765203\ttotal: 1.08s\tremaining: 91ms\n",
            "922:\tlearn: 0.0764864\ttotal: 1.08s\tremaining: 89.9ms\n",
            "923:\tlearn: 0.0764604\ttotal: 1.08s\tremaining: 88.7ms\n",
            "924:\tlearn: 0.0764323\ttotal: 1.08s\tremaining: 87.5ms\n",
            "925:\tlearn: 0.0764220\ttotal: 1.08s\tremaining: 86.4ms\n",
            "926:\tlearn: 0.0763964\ttotal: 1.08s\tremaining: 85.2ms\n",
            "927:\tlearn: 0.0763821\ttotal: 1.08s\tremaining: 84ms\n",
            "928:\tlearn: 0.0763507\ttotal: 1.08s\tremaining: 82.8ms\n",
            "929:\tlearn: 0.0763194\ttotal: 1.08s\tremaining: 81.7ms\n",
            "930:\tlearn: 0.0762885\ttotal: 1.09s\tremaining: 80.5ms\n",
            "931:\tlearn: 0.0762506\ttotal: 1.09s\tremaining: 79.3ms\n",
            "932:\tlearn: 0.0762238\ttotal: 1.09s\tremaining: 78.2ms\n",
            "933:\tlearn: 0.0761756\ttotal: 1.09s\tremaining: 77ms\n",
            "934:\tlearn: 0.0761615\ttotal: 1.09s\tremaining: 75.8ms\n",
            "935:\tlearn: 0.0761368\ttotal: 1.09s\tremaining: 74.7ms\n",
            "936:\tlearn: 0.0761271\ttotal: 1.09s\tremaining: 73.5ms\n",
            "937:\tlearn: 0.0761122\ttotal: 1.09s\tremaining: 72.4ms\n",
            "938:\tlearn: 0.0760533\ttotal: 1.1s\tremaining: 71.3ms\n",
            "939:\tlearn: 0.0760238\ttotal: 1.1s\tremaining: 70.1ms\n",
            "940:\tlearn: 0.0760062\ttotal: 1.1s\tremaining: 69ms\n",
            "941:\tlearn: 0.0759999\ttotal: 1.1s\tremaining: 67.8ms\n",
            "942:\tlearn: 0.0759696\ttotal: 1.1s\tremaining: 66.7ms\n",
            "943:\tlearn: 0.0759333\ttotal: 1.1s\tremaining: 65.5ms\n",
            "944:\tlearn: 0.0759172\ttotal: 1.11s\tremaining: 64.4ms\n",
            "945:\tlearn: 0.0759007\ttotal: 1.11s\tremaining: 63.2ms\n",
            "946:\tlearn: 0.0758591\ttotal: 1.11s\tremaining: 62ms\n",
            "947:\tlearn: 0.0758440\ttotal: 1.11s\tremaining: 60.8ms\n",
            "948:\tlearn: 0.0758114\ttotal: 1.11s\tremaining: 59.7ms\n",
            "949:\tlearn: 0.0757939\ttotal: 1.11s\tremaining: 58.5ms\n",
            "950:\tlearn: 0.0757790\ttotal: 1.11s\tremaining: 57.3ms\n",
            "951:\tlearn: 0.0757515\ttotal: 1.11s\tremaining: 56.2ms\n",
            "952:\tlearn: 0.0757067\ttotal: 1.11s\tremaining: 55ms\n",
            "953:\tlearn: 0.0756637\ttotal: 1.12s\tremaining: 53.8ms\n",
            "954:\tlearn: 0.0756048\ttotal: 1.12s\tremaining: 52.6ms\n",
            "955:\tlearn: 0.0755776\ttotal: 1.12s\tremaining: 51.5ms\n",
            "956:\tlearn: 0.0755302\ttotal: 1.12s\tremaining: 50.3ms\n",
            "957:\tlearn: 0.0755032\ttotal: 1.12s\tremaining: 49.1ms\n",
            "958:\tlearn: 0.0754664\ttotal: 1.12s\tremaining: 47.9ms\n",
            "959:\tlearn: 0.0754538\ttotal: 1.12s\tremaining: 46.8ms\n",
            "960:\tlearn: 0.0754330\ttotal: 1.12s\tremaining: 45.6ms\n",
            "961:\tlearn: 0.0753850\ttotal: 1.12s\tremaining: 44.4ms\n",
            "962:\tlearn: 0.0753564\ttotal: 1.13s\tremaining: 43.3ms\n",
            "963:\tlearn: 0.0753410\ttotal: 1.13s\tremaining: 42.1ms\n",
            "964:\tlearn: 0.0753197\ttotal: 1.13s\tremaining: 40.9ms\n",
            "965:\tlearn: 0.0752922\ttotal: 1.13s\tremaining: 39.7ms\n",
            "966:\tlearn: 0.0752559\ttotal: 1.13s\tremaining: 38.6ms\n",
            "967:\tlearn: 0.0752289\ttotal: 1.13s\tremaining: 37.4ms\n",
            "968:\tlearn: 0.0752005\ttotal: 1.13s\tremaining: 36.2ms\n",
            "969:\tlearn: 0.0751774\ttotal: 1.13s\tremaining: 35.1ms\n",
            "970:\tlearn: 0.0751597\ttotal: 1.13s\tremaining: 33.9ms\n",
            "971:\tlearn: 0.0751378\ttotal: 1.14s\tremaining: 32.7ms\n",
            "972:\tlearn: 0.0751034\ttotal: 1.14s\tremaining: 31.5ms\n",
            "973:\tlearn: 0.0750769\ttotal: 1.14s\tremaining: 30.4ms\n",
            "974:\tlearn: 0.0750421\ttotal: 1.14s\tremaining: 29.2ms\n",
            "975:\tlearn: 0.0750183\ttotal: 1.14s\tremaining: 28ms\n",
            "976:\tlearn: 0.0749817\ttotal: 1.14s\tremaining: 26.9ms\n",
            "977:\tlearn: 0.0749578\ttotal: 1.14s\tremaining: 25.7ms\n",
            "978:\tlearn: 0.0749330\ttotal: 1.14s\tremaining: 24.5ms\n",
            "979:\tlearn: 0.0748915\ttotal: 1.14s\tremaining: 23.4ms\n",
            "980:\tlearn: 0.0748645\ttotal: 1.15s\tremaining: 22.2ms\n",
            "981:\tlearn: 0.0748432\ttotal: 1.15s\tremaining: 21ms\n",
            "982:\tlearn: 0.0748165\ttotal: 1.15s\tremaining: 19.9ms\n",
            "983:\tlearn: 0.0747819\ttotal: 1.15s\tremaining: 18.7ms\n",
            "984:\tlearn: 0.0747699\ttotal: 1.15s\tremaining: 17.5ms\n",
            "985:\tlearn: 0.0747515\ttotal: 1.15s\tremaining: 16.3ms\n",
            "986:\tlearn: 0.0747330\ttotal: 1.15s\tremaining: 15.2ms\n",
            "987:\tlearn: 0.0746927\ttotal: 1.15s\tremaining: 14ms\n",
            "988:\tlearn: 0.0746611\ttotal: 1.15s\tremaining: 12.8ms\n",
            "989:\tlearn: 0.0746256\ttotal: 1.16s\tremaining: 11.7ms\n",
            "990:\tlearn: 0.0745645\ttotal: 1.16s\tremaining: 10.5ms\n",
            "991:\tlearn: 0.0745519\ttotal: 1.16s\tremaining: 9.34ms\n",
            "992:\tlearn: 0.0745418\ttotal: 1.16s\tremaining: 8.17ms\n",
            "993:\tlearn: 0.0745013\ttotal: 1.16s\tremaining: 7ms\n",
            "994:\tlearn: 0.0744653\ttotal: 1.16s\tremaining: 5.83ms\n",
            "995:\tlearn: 0.0744315\ttotal: 1.16s\tremaining: 4.67ms\n",
            "996:\tlearn: 0.0744183\ttotal: 1.16s\tremaining: 3.5ms\n",
            "997:\tlearn: 0.0743866\ttotal: 1.16s\tremaining: 2.33ms\n",
            "998:\tlearn: 0.0743564\ttotal: 1.17s\tremaining: 1.17ms\n",
            "999:\tlearn: 0.0743417\ttotal: 1.17s\tremaining: 0us\n"
          ]
        },
        {
          "output_type": "stream",
          "name": "stderr",
          "text": [
            "/usr/local/lib/python3.7/dist-packages/sklearn/neural_network/_multilayer_perceptron.py:549: ConvergenceWarning: lbfgs failed to converge (status=1):\n",
            "STOP: TOTAL NO. of ITERATIONS REACHED LIMIT.\n",
            "\n",
            "Increase the number of iterations (max_iter) or scale the data as shown in:\n",
            "    https://scikit-learn.org/stable/modules/preprocessing.html\n",
            "  self.n_iter_ = _check_optimize_result(\"lbfgs\", opt_res, self.max_iter)\n",
            "/usr/local/lib/python3.7/dist-packages/sklearn/utils/deprecation.py:87: FutureWarning: Function plot_roc_curve is deprecated; Function `plot_roc_curve` is deprecated in 1.0 and will be removed in 1.2. Use one of the class methods: RocCurveDisplay.from_predictions or RocCurveDisplay.from_estimator.\n",
            "  warnings.warn(msg, category=FutureWarning)\n",
            "/usr/local/lib/python3.7/dist-packages/sklearn/utils/deprecation.py:87: FutureWarning: Function plot_roc_curve is deprecated; Function `plot_roc_curve` is deprecated in 1.0 and will be removed in 1.2. Use one of the class methods: RocCurveDisplay.from_predictions or RocCurveDisplay.from_estimator.\n",
            "  warnings.warn(msg, category=FutureWarning)\n",
            "/usr/local/lib/python3.7/dist-packages/sklearn/utils/deprecation.py:87: FutureWarning: Function plot_roc_curve is deprecated; Function `plot_roc_curve` is deprecated in 1.0 and will be removed in 1.2. Use one of the class methods: RocCurveDisplay.from_predictions or RocCurveDisplay.from_estimator.\n",
            "  warnings.warn(msg, category=FutureWarning)\n",
            "/usr/local/lib/python3.7/dist-packages/sklearn/utils/deprecation.py:87: FutureWarning: Function plot_roc_curve is deprecated; Function `plot_roc_curve` is deprecated in 1.0 and will be removed in 1.2. Use one of the class methods: RocCurveDisplay.from_predictions or RocCurveDisplay.from_estimator.\n",
            "  warnings.warn(msg, category=FutureWarning)\n",
            "/usr/local/lib/python3.7/dist-packages/sklearn/utils/deprecation.py:87: FutureWarning: Function plot_roc_curve is deprecated; Function `plot_roc_curve` is deprecated in 1.0 and will be removed in 1.2. Use one of the class methods: RocCurveDisplay.from_predictions or RocCurveDisplay.from_estimator.\n",
            "  warnings.warn(msg, category=FutureWarning)\n",
            "/usr/local/lib/python3.7/dist-packages/sklearn/utils/deprecation.py:87: FutureWarning: Function plot_roc_curve is deprecated; Function `plot_roc_curve` is deprecated in 1.0 and will be removed in 1.2. Use one of the class methods: RocCurveDisplay.from_predictions or RocCurveDisplay.from_estimator.\n",
            "  warnings.warn(msg, category=FutureWarning)\n",
            "/usr/local/lib/python3.7/dist-packages/sklearn/utils/deprecation.py:87: FutureWarning: Function plot_roc_curve is deprecated; Function `plot_roc_curve` is deprecated in 1.0 and will be removed in 1.2. Use one of the class methods: RocCurveDisplay.from_predictions or RocCurveDisplay.from_estimator.\n",
            "  warnings.warn(msg, category=FutureWarning)\n",
            "/usr/local/lib/python3.7/dist-packages/sklearn/utils/deprecation.py:87: FutureWarning: Function plot_roc_curve is deprecated; Function `plot_roc_curve` is deprecated in 1.0 and will be removed in 1.2. Use one of the class methods: RocCurveDisplay.from_predictions or RocCurveDisplay.from_estimator.\n",
            "  warnings.warn(msg, category=FutureWarning)\n",
            "/usr/local/lib/python3.7/dist-packages/sklearn/utils/deprecation.py:87: FutureWarning: Function plot_roc_curve is deprecated; Function `plot_roc_curve` is deprecated in 1.0 and will be removed in 1.2. Use one of the class methods: RocCurveDisplay.from_predictions or RocCurveDisplay.from_estimator.\n",
            "  warnings.warn(msg, category=FutureWarning)\n",
            "/usr/local/lib/python3.7/dist-packages/sklearn/utils/deprecation.py:87: FutureWarning: Function plot_roc_curve is deprecated; Function `plot_roc_curve` is deprecated in 1.0 and will be removed in 1.2. Use one of the class methods: RocCurveDisplay.from_predictions or RocCurveDisplay.from_estimator.\n",
            "  warnings.warn(msg, category=FutureWarning)\n",
            "/usr/local/lib/python3.7/dist-packages/sklearn/utils/deprecation.py:87: FutureWarning: Function plot_roc_curve is deprecated; Function `plot_roc_curve` is deprecated in 1.0 and will be removed in 1.2. Use one of the class methods: RocCurveDisplay.from_predictions or RocCurveDisplay.from_estimator.\n",
            "  warnings.warn(msg, category=FutureWarning)\n",
            "/usr/local/lib/python3.7/dist-packages/sklearn/utils/deprecation.py:87: FutureWarning: Function plot_roc_curve is deprecated; Function `plot_roc_curve` is deprecated in 1.0 and will be removed in 1.2. Use one of the class methods: RocCurveDisplay.from_predictions or RocCurveDisplay.from_estimator.\n",
            "  warnings.warn(msg, category=FutureWarning)\n"
          ]
        },
        {
          "output_type": "display_data",
          "data": {
            "image/png": "[encoded data removed]",
            "text/plain": [
              "<Figure size 432x288 with 1 Axes>"
            ]
          },
          "metadata": {}
        }
      ]
    },
    {
      "cell_type": "code",
      "metadata": {
        "id": "4wNHzLrCp2LH",
        "colab": {
          "base_uri": "https://localhost:8080/"
        },
        "outputId": "6cd064cf-8e54-4756-89dc-646ba863ba95"
      },
      "source": [
        "len(x_test)"
      ],
      "execution_count": null,
      "outputs": [
        {
          "output_type": "execute_result",
          "data": {
            "text/plain": [
              "438"
            ]
          },
          "metadata": {},
          "execution_count": 101
        }
      ]
    },
    {
      "cell_type": "code",
      "metadata": {
        "colab": {
          "base_uri": "https://localhost:8080/"
        },
        "id": "thAeBnH-Nf-f",
        "outputId": "b5a5bd63-76b4-4978-94d0-60634bb7abcc"
      },
      "source": [
        "len(y_test)"
      ],
      "execution_count": null,
      "outputs": [
        {
          "output_type": "execute_result",
          "data": {
            "text/plain": [
              "459"
            ]
          },
          "metadata": {},
          "execution_count": 102
        }
      ]
    },
    {
      "cell_type": "code",
      "metadata": {
        "colab": {
          "base_uri": "https://localhost:8080/",
          "height": 338
        },
        "id": "1W3XI_X-DzSu",
        "outputId": "f48d710a-5041-4c36-9e47-dd1339c7ed71"
      },
      "source": [
        "from numpy import mean\n",
        "from numpy import std\n",
        "from sklearn.datasets import make_classification\n",
        "from sklearn.model_selection import cross_val_score\n",
        "from sklearn.model_selection import RepeatedStratifiedKFold\n",
        "from sklearn.linear_model import LogisticRegression\n",
        "from sklearn.neighbors import KNeighborsClassifier\n",
        "from sklearn.tree import DecisionTreeClassifier\n",
        "from sklearn.svm import SVC\n",
        "from sklearn.naive_bayes import GaussianNB\n",
        "from sklearn.ensemble import StackingClassifier\n",
        "from matplotlib import pyplot\n",
        "\n",
        "# get the dataset\n",
        "def get_dataset():\n",
        "\tX, y = make_classification(n_samples=1000, n_features=20, n_informative=15, n_redundant=5, random_state=1)\n",
        "\treturn X, y\n",
        "\n",
        "def get_stacking():\n",
        "\t# define the base models\n",
        "\tlevel0 = list()\n",
        "\tlevel0.append(('XGBoost', xgb.XGBClassifier()))\n",
        "\tlevel0.append(('LightGBM', lgb.LGBMClassifier()))\n",
        "\tlevel0.append(('RandomForest', RandomForestClassifier(random_state=42)))\n",
        "\t# define meta learner model\n",
        "\tlevel1 = LogisticRegression()\n",
        "\t# define the stacking ensemble\n",
        "\tmodel = StackingClassifier(estimators=level0, final_estimator=level1, cv=5)\n",
        "\treturn model\n",
        "# get a stacking ensemble of models\n",
        "\n",
        "# get a list of models to evaluate\n",
        "def get_models():\n",
        "\tmodels = dict()\n",
        "\tmodels['XGBoost'] = xgb.XGBClassifier()\n",
        "\tmodels['LightGBM'] = lgb.LGBMClassifier()\n",
        "\tmodels['RandomForest'] = RandomForestClassifier(random_state=42)\n",
        "\tmodels['stacking'] = get_stacking()\n",
        "\treturn models\n",
        "\n",
        "# evaluate a give model using cross-validation\n",
        "def evaluate_model(model, X, y):\n",
        "\tcv = RepeatedStratifiedKFold(n_splits=10, n_repeats=3, random_state=1)\n",
        "\tscores = cross_val_score(model, X, y, scoring='accuracy', cv=cv, n_jobs=-1, error_score='raise')\n",
        "\treturn scores\n",
        "\n",
        "# define dataset\n",
        "#X, y = get_dataset()\n",
        "# get the models to evaluate\n",
        "models = get_models()\n",
        "# evaluate the models and store results\n",
        "results, names = list(), list()\n",
        "for name, model in models.items():\n",
        "\tscores = evaluate_model(model, X2, y2)\n",
        "\tresults.append(scores)\n",
        "\tnames.append(name)\n",
        "\tprint('>%s %.3f (%.3f)' % (name, mean(scores), std(scores)))\n",
        "# plot model performance for comparison\n",
        "pyplot.boxplot(results, labels=names, showmeans=True)\n",
        "pyplot.show()"
      ],
      "execution_count": null,
      "outputs": [
        {
          "output_type": "stream",
          "name": "stdout",
          "text": [
            ">XGBoost 0.958 (0.027)\n",
            ">LightGBM 0.954 (0.025)\n",
            ">RandomForest 0.953 (0.028)\n",
            ">stacking 0.958 (0.025)\n"
          ]
        },
        {
          "output_type": "display_data",
          "data": {
            "image/png": "[encoded data removed]",
            "text/plain": [
              "<Figure size 432x288 with 1 Axes>"
            ]
          },
          "metadata": {}
        }
      ]
    },
    {
      "cell_type": "code",
      "metadata": {
        "colab": {
          "base_uri": "https://localhost:8080/"
        },
        "id": "IJVsSCKqumRV",
        "outputId": "5a28b373-465c-480d-d874-5cff46bf21c3"
      },
      "source": [
        "regr = LogisticRegression(penalty = 'elasticnet', solver = 'saga', l1_ratio = 0.9)\n",
        "regr.fit(X2, y2)\n",
        "predictions = regr.predict(x_test)\n",
        "actuals = y_test\n",
        "print(\"lr混淆矩阵:\")\n",
        "print(confusion_matrix(actuals, predictions))"
      ],
      "execution_count": null,
      "outputs": [
        {
          "output_type": "stream",
          "name": "stdout",
          "text": [
            "lr混淆矩阵:\n",
            "[[395  38]\n",
            " [  3  23]]\n"
          ]
        },
        {
          "output_type": "stream",
          "name": "stderr",
          "text": [
            "/usr/local/lib/python3.7/dist-packages/sklearn/linear_model/_sag.py:330: ConvergenceWarning: The max_iter was reached which means the coef_ did not converge\n",
            "  \"the coef_ did not converge\", ConvergenceWarning)\n"
          ]
        }
      ]
    },
    {
      "cell_type": "code",
      "metadata": {
        "colab": {
          "base_uri": "https://localhost:8080/"
        },
        "id": "qtKYbLoaumT5",
        "outputId": "4279386e-1c18-41c4-dbd7-3b5614f093f8"
      },
      "source": [
        "import numpy as np\n",
        "from sklearn.linear_model import SGDClassifier\n",
        "from sklearn.preprocessing import StandardScaler\n",
        "from sklearn.pipeline import make_pipeline\n",
        "#X = np.array([[-1, -1], [-2, -1], [1, 1], [2, 1]])\n",
        "#Y = np.array([1, 1, 2, 2])\n",
        "# Always scale the input. The most convenient way is to use a pipeline.\n",
        "clf = make_pipeline(StandardScaler(),\n",
        "                    SGDClassifier(max_iter=1000, tol=1e-3,loss=\"log\", penalty=\"elasticnet\"))\n",
        "clf.fit(X2, y2)\n",
        "\n",
        "predictions = clf.predict(x_test)\n",
        "actuals = y_test\n",
        "print(\"elent混淆矩阵:\")\n",
        "print(pd.DataFrame(confusion_matrix(actuals, predictions)))\n",
        "predictions = lb.predict(x_test)\n",
        "actuals = y_test\n",
        "print(\"lightgbm混淆矩阵:\")\n",
        "print(pd.DataFrame(confusion_matrix(actuals, predictions)))\n",
        "predictions = rfc.predict(x_test)\n",
        "actuals = y_test\n",
        "print(\"rf混淆矩阵:\")\n",
        "print(pd.DataFrame(confusion_matrix(actuals, predictions)))"
      ],
      "execution_count": null,
      "outputs": [
        {
          "output_type": "stream",
          "name": "stdout",
          "text": [
            "elent混淆矩阵:\n",
            "     0   1\n",
            "0  396  37\n",
            "1    3  23\n",
            "lightgbm混淆矩阵:\n",
            "     0   1\n",
            "0  410  23\n",
            "1    8  18\n",
            "rf混淆矩阵:\n",
            "     0   1\n",
            "0  411  22\n",
            "1    8  18\n"
          ]
        }
      ]
    },
    {
      "cell_type": "code",
      "metadata": {
        "id": "xwP2DRjAumWM"
      },
      "source": [
        ""
      ],
      "execution_count": null,
      "outputs": []
    },
    {
      "cell_type": "code",
      "metadata": {
        "colab": {
          "base_uri": "https://localhost:8080/"
        },
        "id": "zV2ZqogQyEOI",
        "outputId": "1257de26-cdc7-40ba-d4d9-f42c7a447ee6"
      },
      "source": [
        "from sklearn import linear_model\n",
        "clf = SGDClassifier(loss=\"log\", penalty=\"elasticnet\")\n",
        "clf.fit(X2, y2)\n",
        "predictions = clf.predict(x_test)\n",
        "actuals = y_test\n",
        "print(\"elent混淆矩阵:\")\n",
        "a=confusion_matrix(actuals, predictions)\n",
        "\n",
        "predictions = xg.predict(x_test)\n",
        "actuals = y_test\n",
        "print(\"xg混淆矩阵:\")\n",
        "b=confusion_matrix(actuals, predictions)\n",
        "predictions = cat.predict(x_test)\n",
        "actuals = y_test\n",
        "print(\"cat混淆矩阵:\")\n",
        "c=confusion_matrix(actuals, predictions)\n",
        "predictions = rfc.predict(x_test)\n",
        "actuals = y_test\n",
        "print(\"rf混淆矩阵:\")\n",
        "d=confusion_matrix(actuals, predictions)\n",
        "predictions = svc.predict(x_test)\n",
        "actuals = y_test\n",
        "print(\"svc混淆矩阵:\")\n",
        "e=confusion_matrix(actuals, predictions)\n",
        "predictions = lg.predict(x_test)\n",
        "actuals = y_test\n",
        "print(\"logistic混淆矩阵:\")\n",
        "f=confusion_matrix(actuals, predictions)\n",
        "predictions = kn.predict(x_test)\n",
        "actuals = y_test\n",
        "print(\"knn混淆矩阵:\")\n",
        "g=confusion_matrix(actuals, predictions)\n",
        "predictions = lb.predict(x_test)\n",
        "actuals = y_test\n",
        "print(\"lightgbm混淆矩阵:\")\n",
        "h=confusion_matrix(actuals, predictions)\n",
        "predictions = nb.predict(x_test)\n",
        "actuals = y_test\n",
        "print(\"NB混淆矩阵:\")\n",
        "i=confusion_matrix(actuals, predictions)\n",
        "predictions = dt.predict(x_test)\n",
        "actuals = y_test\n",
        "print(\"DecisionTree混淆矩阵:\")\n",
        "j=confusion_matrix(actuals, predictions)\n",
        "predictions = adb.predict(x_test)\n",
        "actuals = y_test\n",
        "print(\"adb混淆矩阵:\")\n",
        "k=confusion_matrix(actuals, predictions)\n",
        "predictions = bp.predict(x_test)\n",
        "actuals = y_test\n",
        "print(\"BP混淆矩阵:\")\n",
        "l=confusion_matrix(actuals, predictions)"
      ],
      "execution_count": null,
      "outputs": [
        {
          "output_type": "stream",
          "name": "stdout",
          "text": [
            "elent混淆矩阵:\n",
            "xg混淆矩阵:\n",
            "cat混淆矩阵:\n",
            "rf混淆矩阵:\n",
            "svc混淆矩阵:\n",
            "logistic混淆矩阵:\n",
            "knn混淆矩阵:\n",
            "lightgbm混淆矩阵:\n",
            "NB混淆矩阵:\n",
            "DecisionTree混淆矩阵:\n",
            "adb混淆矩阵:\n",
            "BP混淆矩阵:\n"
          ]
        }
      ]
    },
    {
      "cell_type": "code",
      "metadata": {
        "id": "L53-FhDfumYk"
      },
      "source": [
        "hh=pd.DataFrame(np.vstack((a,b,c,d,e,f,g,h,i,j,k,l)))"
      ],
      "execution_count": null,
      "outputs": []
    },
    {
      "cell_type": "code",
      "metadata": {
        "id": "zr_QGlbNumbX"
      },
      "source": [
        "hh.to_csv(\"混淆2021.11.18_3.csv\")"
      ],
      "execution_count": null,
      "outputs": []
    },
    {
      "cell_type": "code",
      "metadata": {
        "colab": {
          "base_uri": "https://localhost:8080/",
          "height": 801
        },
        "id": "rOkWWuf8yJon",
        "outputId": "79bdb8b1-0902-400d-b445-d11bb95035f9"
      },
      "source": [
        "hh"
      ],
      "execution_count": null,
      "outputs": [
        {
          "output_type": "execute_result",
          "data": {
            "text/html": [
              "<div>\n",
              "<style scoped>\n",
              "    .dataframe tbody tr th:only-of-type {\n",
              "        vertical-align: middle;\n",
              "    }\n",
              "\n",
              "    .dataframe tbody tr th {\n",
              "        vertical-align: top;\n",
              "    }\n",
              "\n",
              "    .dataframe thead th {\n",
              "        text-align: right;\n",
              "    }\n",
              "</style>\n",
              "<table border=\"1\" class=\"dataframe\">\n",
              "  <thead>\n",
              "    <tr style=\"text-align: right;\">\n",
              "      <th></th>\n",
              "      <th>0</th>\n",
              "      <th>1</th>\n",
              "    </tr>\n",
              "  </thead>\n",
              "  <tbody>\n",
              "    <tr>\n",
              "      <th>0</th>\n",
              "      <td>263</td>\n",
              "      <td>175</td>\n",
              "    </tr>\n",
              "    <tr>\n",
              "      <th>1</th>\n",
              "      <td>0</td>\n",
              "      <td>21</td>\n",
              "    </tr>\n",
              "    <tr>\n",
              "      <th>2</th>\n",
              "      <td>419</td>\n",
              "      <td>19</td>\n",
              "    </tr>\n",
              "    <tr>\n",
              "      <th>3</th>\n",
              "      <td>3</td>\n",
              "      <td>18</td>\n",
              "    </tr>\n",
              "    <tr>\n",
              "      <th>4</th>\n",
              "      <td>420</td>\n",
              "      <td>18</td>\n",
              "    </tr>\n",
              "    <tr>\n",
              "      <th>5</th>\n",
              "      <td>3</td>\n",
              "      <td>18</td>\n",
              "    </tr>\n",
              "    <tr>\n",
              "      <th>6</th>\n",
              "      <td>418</td>\n",
              "      <td>20</td>\n",
              "    </tr>\n",
              "    <tr>\n",
              "      <th>7</th>\n",
              "      <td>3</td>\n",
              "      <td>18</td>\n",
              "    </tr>\n",
              "    <tr>\n",
              "      <th>8</th>\n",
              "      <td>412</td>\n",
              "      <td>26</td>\n",
              "    </tr>\n",
              "    <tr>\n",
              "      <th>9</th>\n",
              "      <td>1</td>\n",
              "      <td>20</td>\n",
              "    </tr>\n",
              "    <tr>\n",
              "      <th>10</th>\n",
              "      <td>399</td>\n",
              "      <td>39</td>\n",
              "    </tr>\n",
              "    <tr>\n",
              "      <th>11</th>\n",
              "      <td>1</td>\n",
              "      <td>20</td>\n",
              "    </tr>\n",
              "    <tr>\n",
              "      <th>12</th>\n",
              "      <td>406</td>\n",
              "      <td>32</td>\n",
              "    </tr>\n",
              "    <tr>\n",
              "      <th>13</th>\n",
              "      <td>7</td>\n",
              "      <td>14</td>\n",
              "    </tr>\n",
              "    <tr>\n",
              "      <th>14</th>\n",
              "      <td>420</td>\n",
              "      <td>18</td>\n",
              "    </tr>\n",
              "    <tr>\n",
              "      <th>15</th>\n",
              "      <td>5</td>\n",
              "      <td>16</td>\n",
              "    </tr>\n",
              "    <tr>\n",
              "      <th>16</th>\n",
              "      <td>381</td>\n",
              "      <td>57</td>\n",
              "    </tr>\n",
              "    <tr>\n",
              "      <th>17</th>\n",
              "      <td>1</td>\n",
              "      <td>20</td>\n",
              "    </tr>\n",
              "    <tr>\n",
              "      <th>18</th>\n",
              "      <td>420</td>\n",
              "      <td>18</td>\n",
              "    </tr>\n",
              "    <tr>\n",
              "      <th>19</th>\n",
              "      <td>6</td>\n",
              "      <td>15</td>\n",
              "    </tr>\n",
              "    <tr>\n",
              "      <th>20</th>\n",
              "      <td>418</td>\n",
              "      <td>20</td>\n",
              "    </tr>\n",
              "    <tr>\n",
              "      <th>21</th>\n",
              "      <td>2</td>\n",
              "      <td>19</td>\n",
              "    </tr>\n",
              "    <tr>\n",
              "      <th>22</th>\n",
              "      <td>416</td>\n",
              "      <td>22</td>\n",
              "    </tr>\n",
              "    <tr>\n",
              "      <th>23</th>\n",
              "      <td>3</td>\n",
              "      <td>18</td>\n",
              "    </tr>\n",
              "  </tbody>\n",
              "</table>\n",
              "</div>"
            ],
            "text/plain": [
              "      0    1\n",
              "0   263  175\n",
              "1     0   21\n",
              "2   419   19\n",
              "3     3   18\n",
              "4   420   18\n",
              "5     3   18\n",
              "6   418   20\n",
              "7     3   18\n",
              "8   412   26\n",
              "9     1   20\n",
              "10  399   39\n",
              "11    1   20\n",
              "12  406   32\n",
              "13    7   14\n",
              "14  420   18\n",
              "15    5   16\n",
              "16  381   57\n",
              "17    1   20\n",
              "18  420   18\n",
              "19    6   15\n",
              "20  418   20\n",
              "21    2   19\n",
              "22  416   22\n",
              "23    3   18"
            ]
          },
          "metadata": {},
          "execution_count": 22
        }
      ]
    },
    {
      "cell_type": "code",
      "metadata": {
        "id": "N0VMG_9r_dB8",
        "colab": {
          "base_uri": "https://localhost:8080/",
          "height": 354
        },
        "outputId": "6afbd41d-150a-4cc4-fe09-76b8b7c6c3c0"
      },
      "source": [
        "import six\n",
        "import sys\n",
        "sys.modules['sklearn.externals.six'] = six\n",
        "import mlrose"
      ],
      "execution_count": null,
      "outputs": [
        {
          "output_type": "error",
          "ename": "ModuleNotFoundError",
          "evalue": "ignored",
          "traceback": [
            "\u001b[0;31m---------------------------------------------------------------------------\u001b[0m",
            "\u001b[0;31mModuleNotFoundError\u001b[0m                       Traceback (most recent call last)",
            "\u001b[0;32m<ipython-input-24-86a1a1984c3a>\u001b[0m in \u001b[0;36m<module>\u001b[0;34m()\u001b[0m\n\u001b[1;32m      2\u001b[0m \u001b[0;32mimport\u001b[0m \u001b[0msys\u001b[0m\u001b[0;34m\u001b[0m\u001b[0;34m\u001b[0m\u001b[0m\n\u001b[1;32m      3\u001b[0m \u001b[0msys\u001b[0m\u001b[0;34m.\u001b[0m\u001b[0mmodules\u001b[0m\u001b[0;34m[\u001b[0m\u001b[0;34m'sklearn.externals.six'\u001b[0m\u001b[0;34m]\u001b[0m \u001b[0;34m=\u001b[0m \u001b[0msix\u001b[0m\u001b[0;34m\u001b[0m\u001b[0;34m\u001b[0m\u001b[0m\n\u001b[0;32m----> 4\u001b[0;31m \u001b[0;32mimport\u001b[0m \u001b[0mmlrose\u001b[0m\u001b[0;34m\u001b[0m\u001b[0;34m\u001b[0m\u001b[0m\n\u001b[0m",
            "\u001b[0;31mModuleNotFoundError\u001b[0m: No module named 'mlrose'",
            "",
            "\u001b[0;31m---------------------------------------------------------------------------\u001b[0;32m\nNOTE: If your import is failing due to a missing package, you can\nmanually install dependencies using either !pip or !apt.\n\nTo view examples of installing some common dependencies, click the\n\"Open Examples\" button below.\n\u001b[0;31m---------------------------------------------------------------------------\u001b[0m\n"
          ],
          "errorDetails": {
            "actions": [
              {
                "action": "open_url",
                "actionText": "Open Examples",
                "url": "/notebooks/snippets/importing_libraries.ipynb"
              }
            ]
          }
        }
      ]
    },
    {
      "cell_type": "code",
      "metadata": {
        "colab": {
          "base_uri": "https://localhost:8080/"
        },
        "id": "sye8Nrwdp2PK",
        "outputId": "3291315a-5787-4789-fc66-5c711343bfa4"
      },
      "source": [
        "from sklearn.model_selection import cross_val_score\n",
        "from sklearn.linear_model import LogisticRegression\n",
        "from sklearn.neighbors import KNeighborsClassifier\n",
        "from sklearn.naive_bayes import GaussianNB \n",
        "from sklearn.ensemble import RandomForestClassifier\n",
        "from mlxtend.classifier import StackingCVClassifier\n",
        "# 2.使用概率作为元特征\n",
        "clf1 = xgb.XGBClassifier()\n",
        "clf2 = RandomForestClassifier(random_state=1)\n",
        "clf3 = lgb.LGBMClassifier()\n",
        "lr = LogisticRegression()\n",
        "\n",
        "sclf = StackingCVClassifier(classifiers=[clf1, clf2, clf3],\n",
        "                            use_probas=True,  # \n",
        "                            meta_classifier=lr)\n",
        "\n",
        "print('3-fold cross validation:\\n')\n",
        "\n",
        "for clf, label in zip([clf1, clf2, clf3, sclf], \n",
        "                      ['XGBoost', \n",
        "                       'Random Forest', \n",
        "                       'LightGBM',\n",
        "                       'StackingClassifier']):\n",
        "\n",
        "    scores = cross_val_score(clf, X2, y2, \n",
        "                                              cv=6, scoring='accuracy')\n",
        "    print(\"Accuracy: %0.2f (+/- %0.2f) [%s]\" \n",
        "          % (scores.mean(), scores.std(), label))"
      ],
      "execution_count": null,
      "outputs": [
        {
          "output_type": "stream",
          "name": "stdout",
          "text": [
            "3-fold cross validation:\n",
            "\n",
            "Accuracy: 0.95 (+/- 0.03) [XGBoost]\n",
            "Accuracy: 0.94 (+/- 0.04) [Random Forest]\n",
            "Accuracy: 0.94 (+/- 0.04) [LightGBM]\n",
            "Accuracy: 0.95 (+/- 0.04) [StackingClassifier]\n"
          ]
        }
      ]
    },
    {
      "cell_type": "code",
      "metadata": {
        "colab": {
          "base_uri": "https://localhost:8080/"
        },
        "id": "JPP88qtoy5aS",
        "outputId": "86926a1e-1786-47d3-83f0-427a89613560"
      },
      "source": [
        "clf1 = GaussianNB()\n",
        "clf2 = RandomForestClassifier(random_state=1)\n",
        "clf3 = LogisticRegression()\n",
        "lr = LogisticRegression()\n",
        "\n",
        "sclf = StackingCVClassifier(classifiers=[clf1, clf2, clf3],\n",
        "                            use_probas=True,  # \n",
        "                            meta_classifier=lr)\n",
        "\n",
        "print('3-fold cross validation:\\n')\n",
        "\n",
        "for clf, label in zip([clf1, clf2, clf3, sclf], \n",
        "                      ['KNN', \n",
        "                       'Random Forest', \n",
        "                       'Naive Bayes',\n",
        "                       'StackingClassifier']):\n",
        "\n",
        "    scores = cross_val_score(clf, X2, y2, \n",
        "                                              cv=6, scoring='accuracy')\n",
        "    print(\"Accuracy: %0.2f (+/- %0.2f) [%s]\" \n",
        "          % (scores.mean(), scores.std(), label))"
      ],
      "execution_count": null,
      "outputs": [
        {
          "output_type": "stream",
          "name": "stdout",
          "text": [
            "3-fold cross validation:\n",
            "\n",
            "Accuracy: 0.78 (+/- 0.03) [KNN]\n",
            "Accuracy: 0.97 (+/- 0.02) [Random Forest]\n",
            "Accuracy: 0.93 (+/- 0.02) [Naive Bayes]\n",
            "Accuracy: 0.96 (+/- 0.03) [StackingClassifier]\n"
          ]
        }
      ]
    },
    {
      "cell_type": "code",
      "metadata": {
        "colab": {
          "base_uri": "https://localhost:8080/"
        },
        "id": "JZfFx0xdy5cz",
        "outputId": "068ffb6e-1b5a-4c29-f609-d4cfe4e0d74d"
      },
      "source": [
        "sclf.fit(X2,y2)\n",
        "predictions = sclf.predict(x_test)\n",
        "actuals = y_test\n",
        "print(\"混淆矩阵:\")\n",
        "confusion_matrix(actuals, predictions)"
      ],
      "execution_count": null,
      "outputs": [
        {
          "output_type": "stream",
          "name": "stdout",
          "text": [
            "混淆矩阵:\n"
          ]
        },
        {
          "output_type": "execute_result",
          "data": {
            "text/plain": [
              "array([[422,  16],\n",
              "       [  3,  18]])"
            ]
          },
          "metadata": {},
          "execution_count": 26
        }
      ]
    },
    {
      "cell_type": "code",
      "metadata": {
        "id": "2s-yMQjYy5fU"
      },
      "source": [
        ""
      ],
      "execution_count": null,
      "outputs": []
    },
    {
      "cell_type": "code",
      "metadata": {
        "id": "UuYvWs5Py5hz"
      },
      "source": [
        ""
      ],
      "execution_count": null,
      "outputs": []
    },
    {
      "cell_type": "code",
      "metadata": {
        "id": "5KyLg5osy5kO"
      },
      "source": [
        ""
      ],
      "execution_count": null,
      "outputs": []
    },
    {
      "cell_type": "code",
      "metadata": {
        "id": "K-2QnjB7y5mi"
      },
      "source": [
        ""
      ],
      "execution_count": null,
      "outputs": []
    },
    {
      "cell_type": "code",
      "metadata": {
        "id": "EarcHvu4y5pI"
      },
      "source": [
        ""
      ],
      "execution_count": null,
      "outputs": []
    },
    {
      "cell_type": "code",
      "metadata": {
        "id": "Qo-df6Diy5rY"
      },
      "source": [
        ""
      ],
      "execution_count": null,
      "outputs": []
    },
    {
      "cell_type": "code",
      "metadata": {
        "id": "uflDlJody5t3"
      },
      "source": [
        ""
      ],
      "execution_count": null,
      "outputs": []
    },
    {
      "cell_type": "code",
      "metadata": {
        "id": "WPcyMHqeUnoV"
      },
      "source": [
        "from sklearn.linear_model import LogisticRegression\n",
        "model = LogisticRegression(solver='lbfgs', random_state=1)\n",
        "model.fit(X2, y2)\n",
        "y_pred = model.predict(X_test_scaled)"
      ],
      "execution_count": null,
      "outputs": []
    },
    {
      "cell_type": "code",
      "metadata": {
        "colab": {
          "base_uri": "https://localhost:8080/"
        },
        "id": "ZhV6I4h2Unq3",
        "outputId": "e6000646-7705-4132-8998-a3e94c6c8994"
      },
      "source": [
        "from sklearn.metrics import balanced_accuracy_score\n",
        "\n",
        "balanced_accuracy_score(y_test, y_pred)"
      ],
      "execution_count": null,
      "outputs": [
        {
          "output_type": "execute_result",
          "data": {
            "text/plain": [
              "0.8630711191840157"
            ]
          },
          "metadata": {},
          "execution_count": 52
        }
      ]
    },
    {
      "cell_type": "code",
      "metadata": {
        "colab": {
          "base_uri": "https://localhost:8080/"
        },
        "id": "NOSV6VJWUnty",
        "outputId": "99410bc9-4022-49a5-ee8e-6f728ac77f71"
      },
      "source": [
        "confusion_matrix(y_test, y_pred)"
      ],
      "execution_count": null,
      "outputs": [
        {
          "output_type": "execute_result",
          "data": {
            "text/plain": [
              "array([[380,  41],\n",
              "       [  3,  14]])"
            ]
          },
          "metadata": {},
          "execution_count": 53
        }
      ]
    },
    {
      "cell_type": "code",
      "metadata": {
        "colab": {
          "base_uri": "https://localhost:8080/"
        },
        "id": "cbjEL9L8V4s0",
        "outputId": "6a59e926-86c8-4077-ccf4-faf187c91051"
      },
      "source": [
        "from imblearn.metrics import classification_report_imbalanced\n",
        "print(classification_report_imbalanced(y_test, y_pred))"
      ],
      "execution_count": null,
      "outputs": [
        {
          "output_type": "stream",
          "name": "stdout",
          "text": [
            "                   pre       rec       spe        f1       geo       iba       sup\n",
            "\n",
            "          0       0.99      0.90      0.82      0.94      0.86      0.75       421\n",
            "          1       0.25      0.82      0.90      0.38      0.86      0.74        17\n",
            "\n",
            "avg / total       0.96      0.90      0.83      0.92      0.86      0.75       438\n",
            "\n"
          ]
        },
        {
          "output_type": "stream",
          "name": "stderr",
          "text": [
            "/usr/local/lib/python3.7/dist-packages/sklearn/utils/deprecation.py:144: FutureWarning: The sklearn.metrics.classification module is  deprecated in version 0.22 and will be removed in version 0.24. The corresponding classes / functions should instead be imported from sklearn.metrics. Anything that cannot be imported from sklearn.metrics is now part of the private API.\n",
            "  warnings.warn(message, FutureWarning)\n"
          ]
        }
      ]
    },
    {
      "cell_type": "code",
      "metadata": {
        "id": "ogriIN4UV4wB"
      },
      "source": [
        ""
      ],
      "execution_count": null,
      "outputs": []
    },
    {
      "cell_type": "code",
      "metadata": {
        "id": "_iThXleHVm1r"
      },
      "source": [
        ""
      ],
      "execution_count": null,
      "outputs": []
    },
    {
      "cell_type": "code",
      "metadata": {
        "id": "WmzSsSE2Vm6M"
      },
      "source": [
        ""
      ],
      "execution_count": null,
      "outputs": []
    },
    {
      "cell_type": "code",
      "metadata": {
        "id": "r0zdLOIsUnv3"
      },
      "source": [
        ""
      ],
      "execution_count": null,
      "outputs": []
    },
    {
      "cell_type": "code",
      "metadata": {
        "id": "17xKsqlQFP8B"
      },
      "source": [
        "def get_stacking():\n",
        "\t# define the base models\n",
        "\tlevel0 = list()\n",
        "\tlevel0.append(('sig', SVC(kernel='sigmoid')))\n",
        "\tlevel0.append(('lin', SVC(kernel='linear')))\n",
        "\tlevel0.append(('poly', SVC(kernel='poly')))\n",
        "\tlevel0.append(('rbf', SVC(kernel='rbf')))\n",
        "\t# define meta learner model\n",
        "\tlevel1 = SVC(kernel='rbf')\n",
        "\t# define the stacking ensemble\n",
        "\tmodel = StackingClassifier(estimators=level0, final_estimator=level1, cv=5)\n",
        "\treturn model"
      ],
      "execution_count": null,
      "outputs": []
    },
    {
      "cell_type": "code",
      "metadata": {
        "id": "wiJuOvDGMzHA"
      },
      "source": [
        "def get_models():\n",
        "\tmodels = dict()\n",
        "\tmodels['lin'] = SVC(kernel='linear')\n",
        "\tmodels['sig'] = SVC(kernel='sigmoid')\n",
        "\tmodels['poly'] = SVC(kernel='poly')\n",
        "\tmodels['rbf'] = SVC(kernel='rbf')\n",
        "\n",
        "\tmodels['stacking'] = get_stacking()\n",
        "\treturn models"
      ],
      "execution_count": null,
      "outputs": []
    },
    {
      "cell_type": "code",
      "metadata": {
        "id": "EtgHb6QPM1lm"
      },
      "source": [
        "\n",
        "def evaluate_model(model, X, y):\n",
        "\tcv = RepeatedStratifiedKFold(n_splits=10, n_repeats=3, random_state=1)\n",
        "\tscores = cross_val_score(model, X, y, scoring='accuracy', cv=cv, n_jobs=-1, error_score='raise')\n",
        "\treturn scores"
      ],
      "execution_count": null,
      "outputs": []
    },
    {
      "cell_type": "code",
      "metadata": {
        "id": "Nd8SIVO7M2TB"
      },
      "source": [
        "models = get_models()"
      ],
      "execution_count": null,
      "outputs": []
    },
    {
      "cell_type": "code",
      "metadata": {
        "colab": {
          "base_uri": "https://localhost:8080/"
        },
        "id": "16zxnLeAM4b2",
        "outputId": "c52f8929-3904-4339-b36b-c228f4ea16f0"
      },
      "source": [
        "\n",
        "results, names = list(), list()\n",
        "for name, model in models.items():\n",
        "\tscores = evaluate_model(model, X, y)\n",
        "\tresults.append(scores)\n",
        "\tnames.append(name)\n",
        "\tprint('>%s %.3f (%.3f)' % (name, mean(scores), std(scores)))"
      ],
      "execution_count": null,
      "outputs": [
        {
          "output_type": "stream",
          "name": "stdout",
          "text": [
            ">lin 0.960 (0.016)\n",
            ">sig 0.949 (0.006)\n",
            ">poly 0.963 (0.014)\n",
            ">rbf 0.956 (0.007)\n",
            ">stacking 0.963 (0.011)\n"
          ]
        }
      ]
    },
    {
      "cell_type": "code",
      "metadata": {
        "colab": {
          "base_uri": "https://localhost:8080/",
          "height": 265
        },
        "id": "OhlnR8nvM6lN",
        "outputId": "10eb40d9-d0f7-400c-aa76-360710a9179f"
      },
      "source": [
        "pyplot.boxplot(results, labels=names, showmeans=True)\n",
        "pyplot.show()"
      ],
      "execution_count": null,
      "outputs": [
        {
          "output_type": "display_data",
          "data": {
            "image/png": "[encoded data removed]",
            "text/plain": [
              "<Figure size 432x288 with 1 Axes>"
            ]
          },
          "metadata": {}
        }
      ]
    },
    {
      "cell_type": "code",
      "metadata": {
        "id": "kPn7JIJ5M_jd"
      },
      "source": [
        ""
      ],
      "execution_count": null,
      "outputs": []
    }
  ]
}